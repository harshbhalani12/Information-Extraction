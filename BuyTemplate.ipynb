{
 "cells": [
  {
   "cell_type": "code",
   "execution_count": 13,
   "metadata": {},
   "outputs": [],
   "source": [
    "import spacy\n",
    "nlp = spacy.load('en')"
   ]
  },
  {
   "cell_type": "code",
   "execution_count": 112,
   "metadata": {},
   "outputs": [],
   "source": [
    "s1=\"In April 1990, Universal Studios bought the rights to develop Iron Man for the big screen, with Stuart Gordon to direct a low-budget film based on the property.\"\n",
    "s2=\"In February 1996, Fox Media had acquired the rights from Universal for $3000.\"\n",
    "s3=\"In August 2015, Fox Networks acquired the US cable broadcast rights, for broadcast after its theatrical release.\"\n",
    "s4=\"In early 2003, actor-director Clint Eastwood and production people at the studio Warner Bros. bought the film rights to James R. Hansen's First Man: The Life of Neil A. Armstrong.\"\n",
    "s5=\"In 2006 Coppola contacted Steven Spielberg—whose studio DreamWorks had recently been bought out by Paramount—about restoring The Godfather.\"\n",
    "# bought out forms different pattern\n",
    "s6=\"Shortly after, Sony Pictures Worldwide Acquisitions acquired distribution rights to the film for $5 million.\"\n",
    "s7=\"Liberty Films was purchased by Paramount Pictures, and remained a subsidiary until 1951.\"\n",
    "s8=\"The story came to the attention of RKO producer David Hempstead, who showed it to Cary Grant's Hollywood agent, and in April 1944, RKO Pictures bought the rights to the story for $10,000, hoping to turn the story into a vehicle for Grant.\"\n",
    "#no seller detected. Because sementic meaning parsing for complex such complex statement is not done.\n",
    "s9=\"M. & A. Alexander purchased the movie.\"\n",
    "s10=\"Michael travels to Las Vegas to buy out Greene's stake in the family's casinos.\"\n",
    "\n",
    "d1 = \"The rights of Iron Man were sold to Universal Studios for by Fox Media for $3,000 in May, 2015 at Prenston Theater.\"\n"
   ]
  },
  {
   "cell_type": "code",
   "execution_count": 117,
   "metadata": {},
   "outputs": [
    {
     "name": "stdout",
     "output_type": "stream",
     "text": [
      "Buyer:Universal Studios\n",
      "Product:the rights\n",
      "Seller:None\n",
      "Amount:<no-match>\n",
      "Time:April 1990\n",
      "Location:<no-match>\n"
     ]
    }
   ],
   "source": [
    "match_buy_template(s1)"
   ]
  },
  {
   "cell_type": "code",
   "execution_count": 96,
   "metadata": {},
   "outputs": [],
   "source": [
    "def match_buy_template(sent):\n",
    "    result = pattern1Match(sent)\n",
    "    \n",
    "    if result == None:\n",
    "        result = pattern2Match(sent)\n",
    "        \n",
    "    printResult(result)"
   ]
  },
  {
   "cell_type": "code",
   "execution_count": 115,
   "metadata": {},
   "outputs": [],
   "source": [
    "def pattern1Match(sent):\n",
    "    \"\"\"\n",
    "    this should match pattern \"As of December 6, 2018, A Star Is Born has grossed $194.4 million in the United States and Canada, and $170.1 million in other territories, for a total worldwide gross of $364.5 million, against a production budget of $36–40 million.\"\n",
    "    it need profit/earn/make/gross as verb \n",
    "    in addition money should exist in statement\n",
    "    movie/scene can be attached as subject of verb\n",
    "    \"\"\"\n",
    "    buyToken = getBuyVerbToken(sent)\n",
    "    if(buyToken == None):\n",
    "#         print(\"#1\")\n",
    "        return\n",
    "    else:\n",
    "        moneyToken = findChildMoneyToken(sent, buyToken)\n",
    "        amount = \"<no-match>\"\n",
    "        if moneyToken != None:\n",
    "#             print(\"#2\")\n",
    "            amount = getMoneyThatContainsToken(sent, moneyToken)\n",
    "        else:\n",
    "            amount = getFirstEntity(sent, [\"MONEY\"])\n",
    "            \n",
    "        buyer = getAgentOfVerbToken(sent, buyToken)\n",
    "#         print(\"Buyer:\"+str(buyer))\n",
    "        location = \"<no-match>\"\n",
    "        if moneyToken != None:\n",
    "#             print(\"#3\")\n",
    "            location = getLocationOfToken(sent, moneyToken)\n",
    "        if location == \"<no-match>\":\n",
    "#             print(\"#4\")\n",
    "            location = getLocationOfToken(sent, buyToken)\n",
    "#         print(\"Location:\"+str(location))\n",
    "        \n",
    "        product = getThemeOfVerbToken(sent, buyToken)\n",
    "#         print(\"Product:\"+str(product))\n",
    "        \n",
    "        seller = getPhraseOfFromChild(sent)\n",
    "#         print(\"Seller:\"+str(seller))\n",
    "        \n",
    "        time = getTimeOfToken(sent, buyToken)\n",
    "#         print(\"time so far:\"+str(time))\n",
    "        if time == \"<no-match>\":\n",
    "#             print(\"Looking for any TIME entity :\"+str(time))\n",
    "            time = getFirstEntity(sent, [\"TIME\",\"DATE\"])\n",
    "#         print(\"Time\"+str(time))\n",
    "        return [buyer, product, seller, amount, time, location]"
   ]
  },
  {
   "cell_type": "code",
   "execution_count": 72,
   "metadata": {},
   "outputs": [
    {
     "name": "stdout",
     "output_type": "stream",
     "text": [
      "Buyer:actor-director Clint Eastwood\n",
      "Product:the film rights\n",
      "Seller:None\n",
      "Amount:<no-match>\n",
      "Time:early 2003\n",
      "Location:<no-match>\n"
     ]
    }
   ],
   "source": [
    "match_buy_template(s4)"
   ]
  },
  {
   "cell_type": "code",
   "execution_count": 102,
   "metadata": {},
   "outputs": [],
   "source": [
    "def pattern2Match(sent):\n",
    "    \"\"\"\n",
    "    this should match pattern \"Rights were sold to Fox Media\"\n",
    "    it need profit/earn/make/gross as verb \n",
    "    in addition money should exist in statement\n",
    "    movie/scene can be attached as subject of verb\n",
    "    \"\"\"\n",
    "    sellToken = getSellVerbToken(sent)\n",
    "    if(sellToken == None):\n",
    "#         print(\"#1\")\n",
    "        return\n",
    "    else:\n",
    "        moneyToken = findChildMoneyToken(sent, sellToken)\n",
    "        amount = \"<no-match>\"\n",
    "        if moneyToken != None:\n",
    "#             print(\"#2\")\n",
    "            amount = getMoneyThatContainsToken(sent, moneyToken)\n",
    "        else:\n",
    "            amount = getFirstEntity(sent, [\"MONEY\"])\n",
    "        \n",
    "        seller = getAgentOfVerbToken(sent, sellToken)\n",
    "\n",
    "        location = \"<no-match>\"\n",
    "        if moneyToken != None:\n",
    "#             print(\"#3\")\n",
    "            location = getLocationOfToken(sent, moneyToken)\n",
    "        if location == \"<no-match>\":\n",
    "#             print(\"#4\")\n",
    "            location = getLocationOfToken(sent, sellToken)\n",
    "#         print(\"Location:\"+str(location))\n",
    "        \n",
    "        product = getThemeOfVerbToken(sent, sellToken)\n",
    "#         print(\"Product:\"+str(product))\n",
    "        \n",
    "        buyer = getPhraseOfToChild(sent)\n",
    "#         print(\"Seller:\"+str(seller))\n",
    "        \n",
    "        time = getTimeOfToken(sent, sellToken)\n",
    "#         print(\"time so far:\"+str(time))\n",
    "        if time == \"<no-match>\":\n",
    "#             print(\"Looking for any TIME entity :\"+str(time))\n",
    "            time = getFirstEntity(sent, [\"TIME\",\"DATE\"])\n",
    "#         print(\"Time\"+str(time))\n",
    "        return [buyer, product, seller, amount, time, location]"
   ]
  },
  {
   "cell_type": "code",
   "execution_count": 106,
   "metadata": {},
   "outputs": [],
   "source": [
    "def getAgentOfVerbToken(sent, verbToken):\n",
    "    for child in verbToken.children:\n",
    "        if(child.dep_ == \"agent\"): #for \"by\"\n",
    "            for subChild in child.children:\n",
    "                return getPhraseThatContainsToken(sent, subChild)\n",
    "\n",
    "    for child in verbToken.children:\n",
    "        if(child.dep_ == \"pobj\" or child.dep_ == \"nsubj\"):\n",
    "            return getPhraseThatContainsToken(sent, child)"
   ]
  },
  {
   "cell_type": "code",
   "execution_count": 41,
   "metadata": {},
   "outputs": [],
   "source": [
    "def getThemeOfVerbToken(sent, verbToken):\n",
    "    for child in verbToken.children:\n",
    "        if(child.dep_ == \"dobj\" or child.dep_ == \"nsubjpass\"):\n",
    "            return getPhraseThatContainsToken(sent, child)"
   ]
  },
  {
   "cell_type": "code",
   "execution_count": 49,
   "metadata": {},
   "outputs": [],
   "source": [
    "def getBuyVerbToken(sent):\n",
    "    \"\"\"\n",
    "    This will look for frequent verb of \"buy\", \"acquire\", \"purchase\"\n",
    "    Other synonyms can be used from wrodnet but we extracted a subset of synonys based on domain.\n",
    "    \"\"\"\n",
    "    for token in nlp(sent):\n",
    "        if \"VERB\" == token.pos_ and token.lemma_ in [\"buy\", \"acquire\", \"purchase\"]:\n",
    "            return token"
   ]
  },
  {
   "cell_type": "code",
   "execution_count": 93,
   "metadata": {},
   "outputs": [],
   "source": [
    "def getSellVerbToken(sent):\n",
    "    \"\"\"\n",
    "    This will look for frequent verb of \"sell\"\n",
    "    Other synonyms can be used from wrodnet but we extracted a subset of synonys based on domain.\n",
    "    \"\"\"\n",
    "    for token in nlp(sent):\n",
    "        if \"VERB\" == token.pos_ and token.lemma_ in [\"sell\"]:\n",
    "            return token"
   ]
  },
  {
   "cell_type": "code",
   "execution_count": 51,
   "metadata": {},
   "outputs": [],
   "source": [
    "def getPhraseOfFromChild(sent):\n",
    "    if \" from \" in sent:\n",
    "        for child in nlp(sent):\n",
    "            if child.text == \"from\":\n",
    "                for grandChild in child.children:\n",
    "                    return getPhraseThatContainsToken(sent, grandChild)"
   ]
  },
  {
   "cell_type": "code",
   "execution_count": 104,
   "metadata": {},
   "outputs": [],
   "source": [
    "def getPhraseOfToChild(sent):\n",
    "    if \" to \" in sent:\n",
    "        for child in nlp(sent):\n",
    "            if child.text == \"to\":\n",
    "                for grandChild in child.children:\n",
    "                    return getPhraseThatContainsToken(sent, grandChild)"
   ]
  },
  {
   "cell_type": "code",
   "execution_count": 71,
   "metadata": {},
   "outputs": [],
   "source": [
    "def printResult(result):\n",
    "    #[buyer, product, seller, amount, time, location]\n",
    "    if(result != None):\n",
    "        print(\"Buyer:\"+str(result[0]))\n",
    "        print(\"Product:\"+str(result[1]))\n",
    "        print(\"Seller:\"+str(result[2]))\n",
    "        print(\"Amount:\"+str(result[3]))\n",
    "        print(\"Time:\"+str(result[4]))\n",
    "        print(\"Location:\"+str(result[5]))\n",
    "    else:\n",
    "        print(\"No Parse\")"
   ]
  },
  {
   "cell_type": "code",
   "execution_count": 21,
   "metadata": {},
   "outputs": [],
   "source": [
    "def getTimeOfToken(sent, token):\n",
    "    for child in token.children: \n",
    "                #usually time starts with \"on\", \"in\", \"at\"\n",
    "                if child.text in [\"on\",\"at\",\"in\"]:\n",
    "                    #usually \"on\"'s child is [August] \n",
    "#                     print(\"checking children of \"+child.text)\n",
    "                    for subChild in child.children:\n",
    "                        temporalEntity = getTemporalThatContainsToken(sent, subChild)\n",
    "                        if(temporalEntity != None):\n",
    "                            return temporalEntity\n",
    "    return \"<no-match>\""
   ]
  },
  {
   "cell_type": "code",
   "execution_count": 22,
   "metadata": {},
   "outputs": [],
   "source": [
    "def getTemporalThatContainsToken(statement, token):\n",
    "    doc = nlp (statement)\n",
    "    tokenStartPos = calculateStartPositionOfToken(statement, token)\n",
    "    for ent in doc.ents:\n",
    "        if(token.text in ent.text and ent.label_ == \"DATE\" and tokenStartPos >= ent.start_char and tokenStartPos <= ent.end_char):\n",
    "            return ent.text\n",
    "    return None"
   ]
  },
  {
   "cell_type": "code",
   "execution_count": 23,
   "metadata": {},
   "outputs": [],
   "source": [
    "import re\n",
    "def calculateStartPositionOfToken(statement, targetToken):\n",
    "    \"\"\"\n",
    "    this should return start position of the token\n",
    "    \"\"\"\n",
    "    matches = [m.start() for m in re.finditer(targetToken.text, statement)]\n",
    "    if(len(matches)==1):\n",
    "        return matches[0]\n",
    "    \n",
    "\n",
    "    huristicPosition = 0\n",
    "    doc = nlp(statement)\n",
    "    \n",
    "    i = 0\n",
    "    for token in doc:\n",
    "        if i < targetToken.i:\n",
    "            huristicPosition = huristicPosition + len(token.text)+1\n",
    "            i = i+1\n",
    "        else:\n",
    "            break\n",
    "        \n",
    "    distances = []\n",
    "    for match in matches:\n",
    "        distances.append(abs(match-huristicPosition))\n",
    "        \n",
    "    minIndex = distances.index(min(distances))\n",
    "    \n",
    "    return matches[minIndex]"
   ]
  },
  {
   "cell_type": "code",
   "execution_count": 24,
   "metadata": {},
   "outputs": [],
   "source": [
    "def getLocationOfToken(sent, token):\n",
    "    for child in token.children: \n",
    "        #usually release location starts with \"in\"\n",
    "        if child.text in [\"in\",\"throughout\", \"at\"]:\n",
    "            for subChild in child.children:\n",
    "#                 print(\"in loop for:\"+subChild.text)\n",
    "                GPEEntity = getLocationThatContainsToken(sent, subChild)\n",
    "                if GPEEntity == None:\n",
    "#                     print(\"no gpe found\")\n",
    "                    #this might be slipplary when \"at\" comes. Might confuse with time.\n",
    "                    canConfuseWithTime = (getTemporalThatContainsToken(sent, subChild) != None)\n",
    "#                     print(\"Can confuse:\"+subChild.text+\":\"+str(canConfuseWithTime))\n",
    "                    if not canConfuseWithTime:\n",
    "                        GPEEntity = getPhraseThatContainsToken(sent, subChild)\n",
    "                    \n",
    "                if GPEEntity != None:\n",
    "                    return GPEEntity\n",
    "    return \"<no-match>\""
   ]
  },
  {
   "cell_type": "code",
   "execution_count": 25,
   "metadata": {},
   "outputs": [],
   "source": [
    "def getLocationThatContainsToken(statement, token):\n",
    "    doc = nlp (statement)\n",
    "    tokenStartPos = calculateStartPositionOfToken(statement, token)\n",
    "    for ent in doc.ents:\n",
    "        if(token.text in ent.text and ent.label_ != \"TIME\" and ent.label_ != \"DATE\"  and tokenStartPos >= ent.start_char and tokenStartPos <= ent.end_char):\n",
    "            return ent.text\n",
    "    return None"
   ]
  },
  {
   "cell_type": "code",
   "execution_count": 26,
   "metadata": {},
   "outputs": [],
   "source": [
    "def getPhraseThatContainsToken(statement, token):\n",
    "    doc = nlp (statement)\n",
    "    tokenStartPos = calculateStartPositionOfToken(statement, token)\n",
    "    for chunk in doc.noun_chunks:\n",
    "        if(token.text in chunk.text and tokenStartPos >= chunk.start_char and tokenStartPos <= chunk.end_char):\n",
    "            return chunk.text\n",
    "    return None"
   ]
  },
  {
   "cell_type": "code",
   "execution_count": 27,
   "metadata": {},
   "outputs": [],
   "source": [
    "def getEntityRelatedByOF(sent, token):\n",
    "    for child in token.children: \n",
    "                #usually movie name for noun attached with \"on\"\n",
    "                if child.text in [\"of\"]:\n",
    "                    #['of', 'prep', 'premiere', 'NOUN', [IronMan]]\n",
    "                    for subChild in child.children:\n",
    "                        entity = getEntityThatContainsToken(sent, subChild)\n",
    "                        if entity == None:\n",
    "                            entity = getPhraseThatContainsToken(sent, subChild)\n",
    "                        if(entity != None):\n",
    "                            return entity\n",
    "    return \"<no-match>\""
   ]
  },
  {
   "cell_type": "code",
   "execution_count": 28,
   "metadata": {},
   "outputs": [],
   "source": [
    "def getEntityThatContainsToken(statement, token):\n",
    "    doc = nlp (statement)\n",
    "    tokenStartPos = calculateStartPositionOfToken(statement, token)\n",
    "    for ent in doc.ents:\n",
    "        if(token.text in ent.text and tokenStartPos >= ent.start_char and tokenStartPos <= ent.end_char):\n",
    "            return ent.text\n",
    "    return None"
   ]
  },
  {
   "cell_type": "code",
   "execution_count": 29,
   "metadata": {},
   "outputs": [],
   "source": [
    "def getFirstGPE(sent):\n",
    "    doc = nlp (sent)\n",
    "    for ent in doc.ents:\n",
    "        if(ent.label_ == \"GPE\"):\n",
    "            return ent.text\n",
    "    return \"<no-match>\""
   ]
  },
  {
   "cell_type": "code",
   "execution_count": 60,
   "metadata": {},
   "outputs": [],
   "source": [
    "def getFirstEntity(sent, expectedLabels):\n",
    "    doc = nlp(sent)\n",
    "    for ent in doc.ents:\n",
    "        if(ent.label_ in expectedLabels):\n",
    "            return ent.text\n",
    "    return \"<no-match>\""
   ]
  },
  {
   "cell_type": "code",
   "execution_count": 31,
   "metadata": {},
   "outputs": [],
   "source": [
    "def findChildMoneyToken(sent, token):\n",
    "    for child in token.children:\n",
    "        if getMoneyThatContainsToken(sent, child) != None:\n",
    "            return child\n",
    "    return None"
   ]
  },
  {
   "cell_type": "code",
   "execution_count": 32,
   "metadata": {},
   "outputs": [],
   "source": [
    "def getMoneyThatContainsToken(statement, token):\n",
    "    doc = nlp (statement)\n",
    "    tokenStartPos = calculateStartPositionOfToken(statement, token)\n",
    "    for ent in doc.ents:\n",
    "        if(token.text in ent.text and ent.label_ == \"MONEY\" and tokenStartPos >= ent.start_char and tokenStartPos <= ent.end_char):\n",
    "            return ent.text\n",
    "    return None"
   ]
  },
  {
   "cell_type": "code",
   "execution_count": 33,
   "metadata": {},
   "outputs": [],
   "source": [
    "def doesTokenChildrenIncludeWorldWide(token):\n",
    "    for child in token.children:\n",
    "        if \"worldwide\" in child.text.lower():\n",
    "            return True\n",
    "    return False"
   ]
  },
  {
   "cell_type": "code",
   "execution_count": 34,
   "metadata": {},
   "outputs": [],
   "source": [
    "def getSubjectTokenOfVerb(verbToken):\n",
    "    for child in verbToken.children:\n",
    "        if \"subj\" in child.dep_:\n",
    "            return child\n",
    "    return None"
   ]
  },
  {
   "cell_type": "code",
   "execution_count": 36,
   "metadata": {},
   "outputs": [],
   "source": [
    "def getEntityRelatedByBy(sent, token):\n",
    "    for child in token.children: \n",
    "                if child.text in [\"by\"]:\n",
    "                    for subChild in child.children:\n",
    "                        entity = getEntityThatContainsToken(sent, subChild)\n",
    "                        if(entity != None):\n",
    "                            return entity\n",
    "    return \"<no-match>\""
   ]
  },
  {
   "cell_type": "code",
   "execution_count": null,
   "metadata": {},
   "outputs": [],
   "source": []
  },
  {
   "cell_type": "code",
   "execution_count": null,
   "metadata": {},
   "outputs": [],
   "source": []
  }
 ],
 "metadata": {
  "kernelspec": {
   "display_name": "Python 3",
   "language": "python",
   "name": "python3"
  },
  "language_info": {
   "codemirror_mode": {
    "name": "ipython",
    "version": 3
   },
   "file_extension": ".py",
   "mimetype": "text/x-python",
   "name": "python",
   "nbconvert_exporter": "python",
   "pygments_lexer": "ipython3",
   "version": "3.6.6"
  }
 },
 "nbformat": 4,
 "nbformat_minor": 2
}
