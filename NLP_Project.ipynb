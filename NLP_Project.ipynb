{
 "cells": [
  {
   "cell_type": "code",
   "execution_count": 70,
   "metadata": {},
   "outputs": [],
   "source": [
    "import nltk\n",
    "import re\n",
    "from nltk.corpus import wordnet as wn\n",
    "from nltk.tokenize import TreebankWordTokenizer\n",
    "from nltk.tokenize import TweetTokenizer"
   ]
  },
  {
   "cell_type": "code",
   "execution_count": 45,
   "metadata": {},
   "outputs": [],
   "source": [
    "def create_tokenized_sentences(fileLocation):\n",
    "    print(\"tokenizing sentences from \"+fileLocation)\n",
    "    fh = open(fileLocation, 'r') \n",
    "    return nltk.sent_tokenize(ironManData)"
   ]
  },
  {
   "cell_type": "code",
   "execution_count": 46,
   "metadata": {},
   "outputs": [],
   "source": [
    "movieCorpuses = []\n",
    "masterCorpus = []"
   ]
  },
  {
   "cell_type": "code",
   "execution_count": 86,
   "metadata": {},
   "outputs": [
    {
     "name": "stdout",
     "output_type": "stream",
     "text": [
      "tokenizing sentences from IronMan.txt\n",
      "tokenizing sentences from CapAmerica.txt\n",
      "tokenizing sentences from TheDarkKnight.txt\n"
     ]
    }
   ],
   "source": [
    "corpusFiles = [\"IronMan.txt\",\"CapAmerica.txt\",\"TheDarkKnight.txt\"]\n",
    "def readCorpus():\n",
    "#     remove existing data\n",
    "    movieCorpuses.clear()\n",
    "    masterCorpus.clear()\n",
    "#     for each movie file read corpus\n",
    "    for fileLocation in corpusFiles:\n",
    "        tokenizedSent = create_tokenized_sentences(fileLocation)\n",
    "        movieCorpuses.append(tokenizedSent)\n",
    "        for sent in tokenizedSent:\n",
    "            masterCorpus.append(sent)\n",
    "readCorpus() "
   ]
  },
  {
   "cell_type": "code",
   "execution_count": 83,
   "metadata": {},
   "outputs": [
    {
     "data": {
      "text/plain": [
       "[('Elon', 'NNP'),\n",
       " ('Musk', 'NNP'),\n",
       " (\"'s\", 'POS'),\n",
       " ('car', 'NN'),\n",
       " ('is', 'VBZ'),\n",
       " ('very', 'RB'),\n",
       " ('old', 'JJ')]"
      ]
     },
     "execution_count": 83,
     "metadata": {},
     "output_type": "execute_result"
    }
   ],
   "source": [
    "# PunktWordTokenizer().tokenize(\"I can't do that\")\n",
    "nltk.pos_tag(nltk.word_tokenize(\"Elon Musk's car is very old\"))\n",
    "# nltk.pos_tag(TweetTokenizer().tokenize(\"Elon Musk's car is very old\"))\n",
    "# TreebankWordTokenizer().tokenize(\"Elon Musk can't do that\")"
   ]
  },
  {
   "cell_type": "code",
   "execution_count": 82,
   "metadata": {},
   "outputs": [
    {
     "data": {
      "text/plain": [
       "[('Elon', 'NNP'),\n",
       " (\"Musk's\", 'NNP'),\n",
       " ('car', 'NN'),\n",
       " ('is', 'VBZ'),\n",
       " ('very', 'RB'),\n",
       " ('old', 'JJ')]"
      ]
     },
     "execution_count": 82,
     "metadata": {},
     "output_type": "execute_result"
    }
   ],
   "source": [
    "nltk.pos_tag(TweetTokenizer().tokenize(\"Elon Musk's car is very old\"))"
   ]
  },
  {
   "cell_type": "code",
   "execution_count": null,
   "metadata": {},
   "outputs": [],
   "source": []
  },
  {
   "cell_type": "code",
   "execution_count": null,
   "metadata": {},
   "outputs": [],
   "source": []
  }
 ],
 "metadata": {
  "kernelspec": {
   "display_name": "Python 3",
   "language": "python",
   "name": "python3"
  },
  "language_info": {
   "codemirror_mode": {
    "name": "ipython",
    "version": 3
   },
   "file_extension": ".py",
   "mimetype": "text/x-python",
   "name": "python",
   "nbconvert_exporter": "python",
   "pygments_lexer": "ipython3",
   "version": "3.6.6"
  }
 },
 "nbformat": 4,
 "nbformat_minor": 2
}
