{
 "cells": [
  {
   "cell_type": "code",
   "execution_count": 12,
   "metadata": {},
   "outputs": [],
   "source": [
    "import spacy\n",
    "nlp = spacy.load('en')"
   ]
  },
  {
   "cell_type": "code",
   "execution_count": 90,
   "metadata": {},
   "outputs": [],
   "source": [
    "s1 = \"As of December 6, 2018, Ironman has grossed $194.4 million in the United States and Canada, and $170.1 million in other territories, for a total worldwide gross of $364.5 million, against a production budget of $36–40 million.\"\n",
    "s2 = \"Black Panther grossed $700.1 million in the United States and Canada, and $646.9 million in other territories, for a worldwide total of $1.347 billion.\"\n",
    "s3 = \"In March 2018 Deadline Hollywood estimated the net profit of the film would be $461 million, accounting for production budgets, P&A, talent participations and other costs, with box office grosses and ancillary revenues from home media.\"\n",
    "#no parse because rooted with estimate.\n",
    "s4 = \"On Friday, The Captain America opened at the number one spot at the American and Canadian box office with $25.7 million.\"\n",
    "#location is parsed \"the number one spot\" \n",
    "s5 = \"Mission: Impossible – Fallout grossed $220.2 million in the United States and Canada, and $570.9 million in other territories, for a total worldwide gross of $791 million, against a production budget of $178 million.\"\n",
    "s6 = \"The film made $6 million in the United States\"\n",
    "s7 = \"As of December 2, 2018, First Man has grossed $44.7 million in the United States and Canada, and $55.2 million in other territories, for a total worldwide gross of $99.9 million, against a production budget of $59 million.\"\n",
    "s8 = \"It earned $81.5 million in theatrical rentals in the USA and Canada during its initial release, increasing its earnings to $85.7 million through a reissue in 1973, and including a limited re-release in 1997 it ultimately earned an equivalent exhibition gross of $135 million.\"\n",
    "s9 = \"Iron Man earned $318.4 million in the United States and Canada and $266.8 million in other territories, for a worldwide gross of $585.2 million.\"\n",
    "s10 = \"Mission: Impossible – Rogue Nation grossed $195 million in the U.S. and Canada, and $487.7 million in other countries, for a worldwide total of $682.7 million.\"\n",
    "s11 = \"Searching has grossed $26 million in the United States and Canada, and $44.8 million in other territories, for a total worldwide gross of $70.8 million.\"\n",
    "s12 = \"The Dark Knight earned $534.9 million in North America and $469.7 million in other territories for a worldwide total of $1 billion.\""
   ]
  },
  {
   "cell_type": "code",
   "execution_count": 95,
   "metadata": {},
   "outputs": [
    {
     "name": "stdout",
     "output_type": "stream",
     "text": [
      "---- Earning template ----\n",
      "Movie:Ironman\n",
      "Amount:$194.4 million\n",
      "Location:the United States\n"
     ]
    }
   ],
   "source": [
    "sent = s1\n",
    "parse(sent)"
   ]
  },
  {
   "cell_type": "code",
   "execution_count": 92,
   "metadata": {},
   "outputs": [],
   "source": [
    "def parse(sent):\n",
    "    result = pattern1Match(sent)\n",
    "    printResult(result)"
   ]
  },
  {
   "cell_type": "code",
   "execution_count": 54,
   "metadata": {},
   "outputs": [],
   "source": [
    "def pattern1Match(sent):\n",
    "    \"\"\"\n",
    "    this should match pattern \"As of December 6, 2018, A Star Is Born has grossed $194.4 million in the United States and Canada, and $170.1 million in other territories, for a total worldwide gross of $364.5 million, against a production budget of $36–40 million.\"\n",
    "    it need profit/earn/make/gross as verb \n",
    "    in addition money should exist in statement\n",
    "    movie/scene can be attached as subject of verb\n",
    "    \"\"\"\n",
    "    earnToken = getEarnVerbToken(sent)\n",
    "    if(earnToken == None):\n",
    "        return\n",
    "    else:\n",
    "        moneyToken = findChildMoneyToken(sent, earnToken)\n",
    "        \n",
    "        if moneyToken == None:\n",
    "            #if earning amount is not found then return\n",
    "            return\n",
    "        \n",
    "        amount = getMoneyThatContainsToken(sent, moneyToken)\n",
    "        \n",
    "        #worldwide test\n",
    "        location = \"<no-match>\"\n",
    "        isWorldwide = doesTokenChildrenIncludeWorldWide(moneyToken) or doesTokenChildrenIncludeWorldWide(earnToken)\n",
    "        if isWorldwide:\n",
    "            location = \"worldwide\"\n",
    "        else:\n",
    "            location = getLocationOfToken(sent, moneyToken)\n",
    "            if location == \"<no-match>\":\n",
    "                location = getLocationOfToken(sent, earnToken)\n",
    "        \n",
    "        subjectToken = getSubjectTokenOfVerb(earnToken)\n",
    "        \n",
    "        movieName = getPhraseThatContainsToken(sent, subjectToken)\n",
    "       \n",
    "        return [movieName, amount, location]"
   ]
  },
  {
   "cell_type": "code",
   "execution_count": 91,
   "metadata": {},
   "outputs": [
    {
     "name": "stdout",
     "output_type": "stream",
     "text": [
      "Movie:The Captain America\n",
      "Amount:$25.7 million\n",
      "Location:the number one spot\n"
     ]
    }
   ],
   "source": [
    "match_earning_template(s4)"
   ]
  },
  {
   "cell_type": "code",
   "execution_count": 67,
   "metadata": {},
   "outputs": [],
   "source": [
    "def getEarnVerbToken(sent):\n",
    "    \"\"\"\n",
    "    This will look for frequent noun of \"profit\", \"earn\", \"make\", \"gross\"\n",
    "    Other synonyms can be used from wrodnet but we extracted a subset of synonys based on domain.\n",
    "    \"\"\"\n",
    "    for token in nlp(sent):\n",
    "        if \"VERB\" == token.pos_ and token.lemma_ in [\"profit\", \"earn\", \"make\", \"gross\", \"open\"]:\n",
    "            return token"
   ]
  },
  {
   "cell_type": "code",
   "execution_count": 94,
   "metadata": {},
   "outputs": [],
   "source": [
    "def printResult(result):\n",
    "    print(\"---- Earning template ----\")\n",
    "    if(result != None):\n",
    "        print(\"Movie:\"+str(result[0]))\n",
    "        print(\"Amount:\"+str(result[1]))\n",
    "        print(\"Location:\"+str(result[2]))\n",
    "    else:\n",
    "        print(\"No Parse\")\n",
    "        \n",
    "    "
   ]
  },
  {
   "cell_type": "code",
   "execution_count": 23,
   "metadata": {},
   "outputs": [],
   "source": [
    "def getTimeOfToken(sent, token):\n",
    "    for child in token.children: \n",
    "                #usually time starts with \"on\", \"in\", \"at\"\n",
    "                if child.text in [\"on\",\"at\",\"in\"]:\n",
    "                    #usually \"on\"'s child is [August] \n",
    "#                     print(\"checking children of \"+child.text)\n",
    "                    for subChild in child.children:\n",
    "                        temporalEntity = getTemporalThatContainsToken(sent, subChild)\n",
    "                        if(temporalEntity != None):\n",
    "                            return temporalEntity\n",
    "    return \"<no-match>\""
   ]
  },
  {
   "cell_type": "code",
   "execution_count": 24,
   "metadata": {},
   "outputs": [],
   "source": [
    "def getTemporalThatContainsToken(statement, token):\n",
    "    doc = nlp (statement)\n",
    "    tokenStartPos = calculateStartPositionOfToken(statement, token)\n",
    "    for ent in doc.ents:\n",
    "        if(token.text in ent.text and ent.label_ == \"DATE\" and tokenStartPos >= ent.start_char and tokenStartPos <= ent.end_char):\n",
    "            return ent.text\n",
    "    return None"
   ]
  },
  {
   "cell_type": "code",
   "execution_count": 25,
   "metadata": {},
   "outputs": [],
   "source": [
    "import re\n",
    "def calculateStartPositionOfToken(statement, targetToken):\n",
    "    \"\"\"\n",
    "    this should return start position of the token\n",
    "    \"\"\"\n",
    "    matches = [m.start() for m in re.finditer(targetToken.text, statement)]\n",
    "    if(len(matches)==1):\n",
    "        return matches[0]\n",
    "    \n",
    "\n",
    "    huristicPosition = 0\n",
    "    doc = nlp(statement)\n",
    "    \n",
    "    i = 0\n",
    "    for token in doc:\n",
    "        if i < targetToken.i:\n",
    "            huristicPosition = huristicPosition + len(token.text)+1\n",
    "            i = i+1\n",
    "        else:\n",
    "            break\n",
    "        \n",
    "    distances = []\n",
    "    for match in matches:\n",
    "        distances.append(abs(match-huristicPosition))\n",
    "        \n",
    "    minIndex = distances.index(min(distances))\n",
    "    \n",
    "    return matches[minIndex]"
   ]
  },
  {
   "cell_type": "code",
   "execution_count": 26,
   "metadata": {},
   "outputs": [],
   "source": [
    "def getLocationOfToken(sent, token):\n",
    "    for child in token.children: \n",
    "        #usually release location starts with \"in\"\n",
    "        if child.text in [\"in\",\"throughout\", \"at\"]:\n",
    "            for subChild in child.children:\n",
    "#                 print(\"in loop for:\"+subChild.text)\n",
    "                GPEEntity = getLocationThatContainsToken(sent, subChild)\n",
    "                if GPEEntity == None:\n",
    "#                     print(\"no gpe found\")\n",
    "                    #this might be slipplary when \"at\" comes. Might confuse with time.\n",
    "                    canConfuseWithTime = (getTemporalThatContainsToken(sent, subChild) != None)\n",
    "#                     print(\"Can confuse:\"+subChild.text+\":\"+str(canConfuseWithTime))\n",
    "                    if not canConfuseWithTime:\n",
    "                        GPEEntity = getPhraseThatContainsToken(sent, subChild)\n",
    "                    \n",
    "                if GPEEntity != None:\n",
    "                    return GPEEntity\n",
    "    return \"<no-match>\""
   ]
  },
  {
   "cell_type": "code",
   "execution_count": 27,
   "metadata": {},
   "outputs": [],
   "source": [
    "def getLocationThatContainsToken(statement, token):\n",
    "    doc = nlp (statement)\n",
    "    tokenStartPos = calculateStartPositionOfToken(statement, token)\n",
    "    for ent in doc.ents:\n",
    "        if(token.text in ent.text and ent.label_ != \"TIME\" and ent.label_ != \"DATE\"  and tokenStartPos >= ent.start_char and tokenStartPos <= ent.end_char):\n",
    "            return ent.text\n",
    "    return None"
   ]
  },
  {
   "cell_type": "code",
   "execution_count": 28,
   "metadata": {},
   "outputs": [],
   "source": [
    "def getPhraseThatContainsToken(statement, token):\n",
    "    doc = nlp (statement)\n",
    "    tokenStartPos = calculateStartPositionOfToken(statement, token)\n",
    "    for chunk in doc.noun_chunks:\n",
    "        if(token.text in chunk.text and tokenStartPos >= chunk.start_char and tokenStartPos <= chunk.end_char):\n",
    "            return chunk.text\n",
    "    return None"
   ]
  },
  {
   "cell_type": "code",
   "execution_count": 29,
   "metadata": {},
   "outputs": [],
   "source": [
    "def getEntityRelatedByOF(sent, token):\n",
    "    for child in token.children: \n",
    "                #usually movie name for noun attached with \"on\"\n",
    "                if child.text in [\"of\"]:\n",
    "                    #['of', 'prep', 'premiere', 'NOUN', [IronMan]]\n",
    "                    for subChild in child.children:\n",
    "                        entity = getEntityThatContainsToken(sent, subChild)\n",
    "                        if entity == None:\n",
    "                            entity = getPhraseThatContainsToken(sent, subChild)\n",
    "                        if(entity != None):\n",
    "                            return entity\n",
    "    return \"<no-match>\""
   ]
  },
  {
   "cell_type": "code",
   "execution_count": 30,
   "metadata": {},
   "outputs": [],
   "source": [
    "def getEntityThatContainsToken(statement, token):\n",
    "    doc = nlp (statement)\n",
    "    tokenStartPos = calculateStartPositionOfToken(statement, token)\n",
    "    for ent in doc.ents:\n",
    "        if(token.text in ent.text and tokenStartPos >= ent.start_char and tokenStartPos <= ent.end_char):\n",
    "            return ent.text\n",
    "    return None"
   ]
  },
  {
   "cell_type": "code",
   "execution_count": 31,
   "metadata": {},
   "outputs": [],
   "source": [
    "def getFirstGPE(sent):\n",
    "    doc = nlp (sent)\n",
    "    for ent in doc.ents:\n",
    "        if(ent.label_ == \"GPE\"):\n",
    "            return ent.text\n",
    "    return \"<no-match>\""
   ]
  },
  {
   "cell_type": "code",
   "execution_count": 32,
   "metadata": {},
   "outputs": [],
   "source": [
    "def getFirstEntity(sent, expectedLabels):\n",
    "    doc = nlp (sent)\n",
    "    for ent in doc.ents:\n",
    "        if(ent.label_ in expectedLabels):\n",
    "            return ent.text\n",
    "    return \"<no-match>\""
   ]
  },
  {
   "cell_type": "code",
   "execution_count": 33,
   "metadata": {},
   "outputs": [],
   "source": [
    "def findChildMoneyToken(sent, token):\n",
    "    for child in token.children:\n",
    "        if getMoneyThatContainsToken(sent, child) != None:\n",
    "            return child\n",
    "    return None"
   ]
  },
  {
   "cell_type": "code",
   "execution_count": 34,
   "metadata": {},
   "outputs": [],
   "source": [
    "def getMoneyThatContainsToken(statement, token):\n",
    "    doc = nlp (statement)\n",
    "    tokenStartPos = calculateStartPositionOfToken(statement, token)\n",
    "    for ent in doc.ents:\n",
    "        if(token.text in ent.text and ent.label_ == \"MONEY\" and tokenStartPos >= ent.start_char and tokenStartPos <= ent.end_char):\n",
    "            return ent.text\n",
    "    return None"
   ]
  },
  {
   "cell_type": "code",
   "execution_count": 40,
   "metadata": {},
   "outputs": [],
   "source": [
    "def doesTokenChildrenIncludeWorldWide(token):\n",
    "    for child in token.children:\n",
    "        if \"worldwide\" in child.text.lower():\n",
    "            return True\n",
    "    return False"
   ]
  },
  {
   "cell_type": "code",
   "execution_count": 51,
   "metadata": {},
   "outputs": [],
   "source": [
    "def getSubjectTokenOfVerb(verbToken):\n",
    "    for child in verbToken.children:\n",
    "        if \"subj\" in child.dep_:\n",
    "            return child\n",
    "    return None"
   ]
  },
  {
   "cell_type": "code",
   "execution_count": null,
   "metadata": {},
   "outputs": [],
   "source": []
  }
 ],
 "metadata": {
  "kernelspec": {
   "display_name": "Python 3",
   "language": "python",
   "name": "python3"
  },
  "language_info": {
   "codemirror_mode": {
    "name": "ipython",
    "version": 3
   },
   "file_extension": ".py",
   "mimetype": "text/x-python",
   "name": "python",
   "nbconvert_exporter": "python",
   "pygments_lexer": "ipython3",
   "version": "3.6.6"
  }
 },
 "nbformat": 4,
 "nbformat_minor": 2
}
