{
 "cells": [
  {
   "cell_type": "code",
   "execution_count": 13,
   "metadata": {},
   "outputs": [],
   "source": [
    "import spacy\n",
    "nlp = spacy.load('en')\n",
    "\n",
    "s1 = \"The film premiered at the Sundance Film Festival on January 21, 2018, and was theatrically released in the United States on August 24, 2018, by Screen Gems.\"\n",
    "statement = s1\n",
    "doc = nlp(s1)"
   ]
  },
  {
   "cell_type": "code",
   "execution_count": 19,
   "metadata": {},
   "outputs": [],
   "source": [
    "def printPOS(statement):\n",
    "    print(\"\\n\\n-------------General info------\")\n",
    "    for token in doc:\n",
    "        print(token.text, token.lemma_, token.pos_, token.tag_, token.dep_,\n",
    "              token.shape_, token.is_alpha, token.is_stop)"
   ]
  },
  {
   "cell_type": "code",
   "execution_count": 25,
   "metadata": {},
   "outputs": [],
   "source": [
    "def printEntities(statement):\n",
    "    doc = nlp(statement)\n",
    "    print(\"\\n\\n-------------Entities------\")\n",
    "    for ent in doc.ents:\n",
    "        print(ent.text, ent.start_char, ent.end_char, ent.label_)"
   ]
  },
  {
   "cell_type": "code",
   "execution_count": 5,
   "metadata": {},
   "outputs": [],
   "source": [
    "def isExpectedVerbToken(token):\n",
    "    return token.lemma_ in [\"release\",\"launch\"]"
   ]
  },
  {
   "cell_type": "code",
   "execution_count": 6,
   "metadata": {},
   "outputs": [],
   "source": [
    "def filterVerbTokens(statement):\n",
    "    doc = nlp(statement)\n",
    "    result = list(filter(lambda token: token.pos_ == \"VERB\" and token.lemma_ != \"be\", doc))\n",
    "    return result"
   ]
  },
  {
   "cell_type": "code",
   "execution_count": 10,
   "metadata": {},
   "outputs": [],
   "source": [
    "def get_dependency_tree_nodes(sentence):\n",
    "    nodes = []\n",
    "    doc = nlp(sentence)\n",
    "    for token in doc:\n",
    "        nodes.append([token.text, token.dep_, token.head.text, token.head.pos_,\n",
    "          [child for child in token.children]])\n",
    "    return nodes"
   ]
  },
  {
   "cell_type": "code",
   "execution_count": 23,
   "metadata": {},
   "outputs": [],
   "source": [
    "def printDependencies(sentence):\n",
    "    nodes = get_dependency_tree_nodes(sentence)\n",
    "    print(\"\\n\\n------------- Deps ------\")\n",
    "    for node in nodes:\n",
    "        print(node)"
   ]
  },
  {
   "cell_type": "code",
   "execution_count": 15,
   "metadata": {},
   "outputs": [],
   "source": [
    "def printNounChunks(sentence):\n",
    "    doc = nlp(sentence)\n",
    "    print(\"\\n\\n------------- Noun chunks ------\")\n",
    "    for chunk in doc.noun_chunks:\n",
    "        print(chunk)"
   ]
  },
  {
   "cell_type": "code",
   "execution_count": 12,
   "metadata": {},
   "outputs": [],
   "source": [
    "def printEverything(sentence):\n",
    "    printPOS(sentence)\n",
    "    printEntities(sentence)\n",
    "    printNounChunks(sentence)\n",
    "    printDependencies(sentence)"
   ]
  },
  {
   "cell_type": "code",
   "execution_count": 26,
   "metadata": {},
   "outputs": [
    {
     "name": "stdout",
     "output_type": "stream",
     "text": [
      "\n",
      "\n",
      "-------------General info------\n",
      "The the DET DT det Xxx True False\n",
      "film film NOUN NN ROOT xxxx True False\n",
      "premiered premier VERB VBD acl xxxx True False\n",
      "at at ADP IN prep xx True True\n",
      "the the DET DT det xxx True True\n",
      "Sundance sundance PROPN NNP compound Xxxxx True False\n",
      "Film film PROPN NNP compound Xxxx True False\n",
      "Festival festival PROPN NNP pobj Xxxxx True False\n",
      "on on ADP IN prep xx True True\n",
      "January january PROPN NNP pobj Xxxxx True False\n",
      "21 21 NUM CD nummod dd False False\n",
      ", , PUNCT , punct , False False\n",
      "2018 2018 NUM CD nummod dddd False False\n",
      ", , PUNCT , punct , False False\n",
      "and and CCONJ CC cc xxx True True\n",
      "was be VERB VBD auxpass xxx True True\n",
      "theatrically theatrically ADV RB advmod xxxx True False\n",
      "released release VERB VBN conj xxxx True False\n",
      "in in ADP IN prep xx True True\n",
      "the the DET DT det xxx True True\n",
      "United united PROPN NNP compound Xxxxx True False\n",
      "States states PROPN NNP pobj Xxxxx True False\n",
      "on on ADP IN prep xx True True\n",
      "August august PROPN NNP pobj Xxxxx True False\n",
      "24 24 NUM CD nummod dd False False\n",
      ", , PUNCT , punct , False False\n",
      "2018 2018 NUM CD nummod dddd False False\n",
      ", , PUNCT , punct , False False\n",
      "by by ADP IN agent xx True True\n",
      "Screen screen PROPN NNP compound Xxxxx True False\n",
      "Gems gems PROPN NNP pobj Xxxx True False\n",
      ". . PUNCT . punct . False False\n",
      "\n",
      "\n",
      "-------------Entities------\n",
      "the Sundance Film Festival 22 48 EVENT\n",
      "January 21, 2018 52 68 DATE\n",
      "the United States 103 120 GPE\n",
      "August 24, 2018 124 139 DATE\n",
      "Screen Gems 144 155 ORG\n",
      "\n",
      "\n",
      "------------- Noun chunks ------\n",
      "The film\n",
      "the Sundance Film Festival\n",
      "January\n",
      "the United States\n",
      "August\n",
      "Screen Gems\n",
      "\n",
      "\n",
      "------------- Deps ------\n",
      "['The', 'det', 'film', 'NOUN', []]\n",
      "['film', 'ROOT', 'film', 'NOUN', [The, premiered, .]]\n",
      "['premiered', 'acl', 'film', 'NOUN', [at, on, ,, and, released]]\n",
      "['at', 'prep', 'premiered', 'VERB', [Festival]]\n",
      "['the', 'det', 'Festival', 'PROPN', []]\n",
      "['Sundance', 'compound', 'Festival', 'PROPN', []]\n",
      "['Film', 'compound', 'Festival', 'PROPN', []]\n",
      "['Festival', 'pobj', 'at', 'ADP', [the, Sundance, Film]]\n",
      "['on', 'prep', 'premiered', 'VERB', [January]]\n",
      "['January', 'pobj', 'on', 'ADP', [21, ,, 2018]]\n",
      "['21', 'nummod', 'January', 'PROPN', []]\n",
      "[',', 'punct', 'January', 'PROPN', []]\n",
      "['2018', 'nummod', 'January', 'PROPN', []]\n",
      "[',', 'punct', 'premiered', 'VERB', []]\n",
      "['and', 'cc', 'premiered', 'VERB', []]\n",
      "['was', 'auxpass', 'released', 'VERB', []]\n",
      "['theatrically', 'advmod', 'released', 'VERB', []]\n",
      "['released', 'conj', 'premiered', 'VERB', [was, theatrically, in, on, by]]\n",
      "['in', 'prep', 'released', 'VERB', [States]]\n",
      "['the', 'det', 'States', 'PROPN', []]\n",
      "['United', 'compound', 'States', 'PROPN', []]\n",
      "['States', 'pobj', 'in', 'ADP', [the, United]]\n",
      "['on', 'prep', 'released', 'VERB', [August]]\n",
      "['August', 'pobj', 'on', 'ADP', [24, ,, 2018, ,]]\n",
      "['24', 'nummod', 'August', 'PROPN', []]\n",
      "[',', 'punct', 'August', 'PROPN', []]\n",
      "['2018', 'nummod', 'August', 'PROPN', []]\n",
      "[',', 'punct', 'August', 'PROPN', []]\n",
      "['by', 'agent', 'released', 'VERB', [Gems]]\n",
      "['Screen', 'compound', 'Gems', 'PROPN', []]\n",
      "['Gems', 'pobj', 'by', 'ADP', [Screen]]\n",
      "['.', 'punct', 'film', 'NOUN', []]\n"
     ]
    }
   ],
   "source": [
    "s1 = \"The premiere was held at the Greater Union theater at George Street, Sydney, on April 14, 2008.\"\n",
    "s2 = \"A Star Is Born had its world premiere at the Venice Film Festival on August 31, 2018.\"\n",
    "s3 = \"It also screened at the Toronto International Film Festival, the San Sebastián International Film Festival, and the Zurich Film Festival in September 2018.\"\n",
    "sentence = \n",
    "printEverything(s1)"
   ]
  },
  {
   "cell_type": "code",
   "execution_count": null,
   "metadata": {},
   "outputs": [],
   "source": []
  }
 ],
 "metadata": {
  "kernelspec": {
   "display_name": "Python 3",
   "language": "python",
   "name": "python3"
  },
  "language_info": {
   "codemirror_mode": {
    "name": "ipython",
    "version": 3
   },
   "file_extension": ".py",
   "mimetype": "text/x-python",
   "name": "python",
   "nbconvert_exporter": "python",
   "pygments_lexer": "ipython3",
   "version": "3.6.6"
  }
 },
 "nbformat": 4,
 "nbformat_minor": 2
}
