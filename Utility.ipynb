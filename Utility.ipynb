{
 "cells": [
  {
   "cell_type": "code",
   "execution_count": 1,
   "metadata": {},
   "outputs": [],
   "source": [
    "import spacy\n",
    "nlp = spacy.load('en')\n"
   ]
  },
  {
   "cell_type": "code",
   "execution_count": 11,
   "metadata": {},
   "outputs": [],
   "source": [
    "def printPOS(statement):\n",
    "    doc = nlp(statement)\n",
    "    print(\"\\n\\n-------------General info------\")\n",
    "    for token in doc:\n",
    "        print(token.text, token.lemma_, token.pos_, token.tag_, token.dep_,\n",
    "              token.shape_, token.is_alpha, token.is_stop)"
   ]
  },
  {
   "cell_type": "code",
   "execution_count": 3,
   "metadata": {},
   "outputs": [],
   "source": [
    "def printEntities(statement):\n",
    "    doc = nlp(statement)\n",
    "    print(\"\\n\\n-------------Entities------\")\n",
    "    for ent in doc.ents:\n",
    "        print(ent.text, ent.start_char, ent.end_char, ent.label_)"
   ]
  },
  {
   "cell_type": "code",
   "execution_count": 4,
   "metadata": {},
   "outputs": [],
   "source": [
    "def isExpectedVerbToken(token):\n",
    "    return token.lemma_ in [\"release\",\"launch\"]"
   ]
  },
  {
   "cell_type": "code",
   "execution_count": 5,
   "metadata": {},
   "outputs": [],
   "source": [
    "def filterVerbTokens(statement):\n",
    "    doc = nlp(statement)\n",
    "    result = list(filter(lambda token: token.pos_ == \"VERB\" and token.lemma_ != \"be\", doc))\n",
    "    return result"
   ]
  },
  {
   "cell_type": "code",
   "execution_count": 6,
   "metadata": {},
   "outputs": [],
   "source": [
    "def get_dependency_tree_nodes(sentence):\n",
    "    nodes = []\n",
    "    doc = nlp(sentence)\n",
    "    for token in doc:\n",
    "        nodes.append([token.text, token.dep_, token.head.text, token.head.pos_,\n",
    "          [child for child in token.children]])\n",
    "    return nodes"
   ]
  },
  {
   "cell_type": "code",
   "execution_count": 7,
   "metadata": {},
   "outputs": [],
   "source": [
    "def printDependencies(sentence):\n",
    "    nodes = get_dependency_tree_nodes(sentence)\n",
    "    print(\"\\n\\n------------- Deps ------\")\n",
    "    for node in nodes:\n",
    "        print(node)"
   ]
  },
  {
   "cell_type": "code",
   "execution_count": 22,
   "metadata": {},
   "outputs": [],
   "source": [
    "def printNounChunks(sentence):\n",
    "    doc = nlp(sentence)\n",
    "    print(\"\\n\\n------------- Noun chunks ------\")\n",
    "    for chunk in doc.noun_chunks:\n",
    "        print(chunk.text+ \" start:\"+str(chunk.start_char))"
   ]
  },
  {
   "cell_type": "code",
   "execution_count": 9,
   "metadata": {},
   "outputs": [],
   "source": [
    "def printEverything(sentence):\n",
    "    printPOS(sentence)\n",
    "    printEntities(sentence)\n",
    "    printNounChunks(sentence)\n",
    "    printDependencies(sentence)"
   ]
  },
  {
   "cell_type": "code",
   "execution_count": 78,
   "metadata": {},
   "outputs": [
    {
     "name": "stdout",
     "output_type": "stream",
     "text": [
      "\n",
      "\n",
      "-------------General info------\n",
      "The the DET DT det Xxx True False\n",
      "rights right NOUN NNS nsubjpass xxxx True False\n",
      "of of ADP IN prep xx True True\n",
      "Iron iron PROPN NNP compound Xxxx True False\n",
      "Man man PROPN NNP pobj Xxx True False\n",
      "were be VERB VBD auxpass xxxx True True\n",
      "sold sell VERB VBN ROOT xxxx True False\n",
      "to to ADP IN dative xx True True\n",
      "Universal universal PROPN NNP compound Xxxxx True False\n",
      "Studios studios PROPN NNP pobj Xxxxx True False\n",
      "by by ADP IN agent xx True True\n",
      "Fox fox PROPN NNP compound Xxx True False\n",
      "Media media PROPN NNP pobj Xxxxx True False\n",
      "for for ADP IN prep xxx True True\n",
      "$ $ SYM $ nmod $ False False\n",
      "3,000 3,000 NUM CD pobj d,ddd False False\n",
      ". . PUNCT . punct . False False\n",
      "\n",
      "\n",
      "-------------Entities------\n",
      "Iron Man 14 22 PERSON\n",
      "Universal Studios 36 53 ORG\n",
      "Fox Media 57 66 ORG\n",
      "3,000 72 77 MONEY\n",
      "\n",
      "\n",
      "------------- Noun chunks ------\n",
      "The rights start:0\n",
      "Iron Man start:14\n",
      "Universal Studios start:36\n",
      "Fox Media start:57\n",
      "\n",
      "\n",
      "------------- Deps ------\n",
      "['The', 'det', 'rights', 'NOUN', []]\n",
      "['rights', 'nsubjpass', 'sold', 'VERB', [The, of]]\n",
      "['of', 'prep', 'rights', 'NOUN', [Man]]\n",
      "['Iron', 'compound', 'Man', 'PROPN', []]\n",
      "['Man', 'pobj', 'of', 'ADP', [Iron]]\n",
      "['were', 'auxpass', 'sold', 'VERB', []]\n",
      "['sold', 'ROOT', 'sold', 'VERB', [rights, were, to, by, for, .]]\n",
      "['to', 'dative', 'sold', 'VERB', [Studios]]\n",
      "['Universal', 'compound', 'Studios', 'PROPN', []]\n",
      "['Studios', 'pobj', 'to', 'ADP', [Universal]]\n",
      "['by', 'agent', 'sold', 'VERB', [Media]]\n",
      "['Fox', 'compound', 'Media', 'PROPN', []]\n",
      "['Media', 'pobj', 'by', 'ADP', [Fox]]\n",
      "['for', 'prep', 'sold', 'VERB', [3,000]]\n",
      "['$', 'nmod', '3,000', 'NUM', []]\n",
      "['3,000', 'pobj', 'for', 'ADP', [$]]\n",
      "['.', 'punct', 'sold', 'VERB', []]\n"
     ]
    }
   ],
   "source": [
    "s1=\"In April 1990, Universal Studios bought the rights to develop Iron Man for the big screen, with Stuart Gordon to direct a low-budget film based on the property.\"\n",
    "s2=\"By February 1996, Fox Media had acquired the rights from Universal.\"\n",
    "s3=\"In August 2015, Fox Networks acquired the US cable broadcast rights, for broadcast after its theatrical release.\"\n",
    "s4=\"In early 2003, actor-director Clint Eastwood and production people at the studio Warner Bros. bought the film rights to James R. Hansen's First Man: The Life of Neil A. Armstrong.\"\n",
    "s5=\"In 2006 Coppola contacted Steven Spielberg—whose studio DreamWorks had recently been bought out by Paramount—about restoring The Godfather.\"\n",
    "s6=\"Shortly after, Sony Pictures Worldwide Acquisitions acquired distribution rights to the film for $5 million.\"\n",
    "s7=\"Liberty Films was purchased by Paramount Pictures, and remained a subsidiary until 1951.\"\n",
    "s8=\"The story came to the attention of RKO producer David Hempstead, who showed it to Cary Grant's Hollywood agent, and in April 1944, RKO Pictures bought the rights to the story for $10,000, hoping to turn the story into a vehicle for Grant.\"\n",
    "s9=\"M. & A. Alexander purchased the movie.\"\n",
    "s10=\"Michael travels to Las Vegas to buy out Greene's stake in the family's casinos.\"\n",
    "f1 = \"From ABC Company, rights were bought by Fox Media.\"\n",
    "f2 = \"In February 1996, Fox Media had acquired the rights from Universal for $3,000.\"\n",
    "d1 = \"The rights of Iron Man were sold to Universal Studios for $3,000.\"\n",
    "d2 = \"The rights of Iron Man were sold to Universal Studios by Fox Media for $3,000.\"\n",
    "sentence = d2\n",
    "\n",
    "printEverything(sentence)"
   ]
  },
  {
   "cell_type": "code",
   "execution_count": null,
   "metadata": {},
   "outputs": [],
   "source": []
  },
  {
   "cell_type": "code",
   "execution_count": null,
   "metadata": {},
   "outputs": [],
   "source": [
    "def depNodes(statement):\n",
    "    "
   ]
  },
  {
   "cell_type": "code",
   "execution_count": null,
   "metadata": {},
   "outputs": [],
   "source": []
  }
 ],
 "metadata": {
  "kernelspec": {
   "display_name": "Python 3",
   "language": "python",
   "name": "python3"
  },
  "language_info": {
   "codemirror_mode": {
    "name": "ipython",
    "version": 3
   },
   "file_extension": ".py",
   "mimetype": "text/x-python",
   "name": "python",
   "nbconvert_exporter": "python",
   "pygments_lexer": "ipython3",
   "version": "3.6.6"
  }
 },
 "nbformat": 4,
 "nbformat_minor": 2
}
