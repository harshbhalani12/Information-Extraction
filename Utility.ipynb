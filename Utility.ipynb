{
 "cells": [
  {
   "cell_type": "code",
   "execution_count": 1,
   "metadata": {},
   "outputs": [],
   "source": [
    "import spacy\n",
    "nlp = spacy.load('en')\n"
   ]
  },
  {
   "cell_type": "code",
   "execution_count": 11,
   "metadata": {},
   "outputs": [],
   "source": [
    "def printPOS(statement):\n",
    "    doc = nlp(statement)\n",
    "    print(\"\\n\\n-------------General info------\")\n",
    "    for token in doc:\n",
    "        print(token.text, token.lemma_, token.pos_, token.tag_, token.dep_,\n",
    "              token.shape_, token.is_alpha, token.is_stop)"
   ]
  },
  {
   "cell_type": "code",
   "execution_count": 3,
   "metadata": {},
   "outputs": [],
   "source": [
    "def printEntities(statement):\n",
    "    doc = nlp(statement)\n",
    "    print(\"\\n\\n-------------Entities------\")\n",
    "    for ent in doc.ents:\n",
    "        print(ent.text, ent.start_char, ent.end_char, ent.label_)"
   ]
  },
  {
   "cell_type": "code",
   "execution_count": 4,
   "metadata": {},
   "outputs": [],
   "source": [
    "def isExpectedVerbToken(token):\n",
    "    return token.lemma_ in [\"release\",\"launch\"]"
   ]
  },
  {
   "cell_type": "code",
   "execution_count": 5,
   "metadata": {},
   "outputs": [],
   "source": [
    "def filterVerbTokens(statement):\n",
    "    doc = nlp(statement)\n",
    "    result = list(filter(lambda token: token.pos_ == \"VERB\" and token.lemma_ != \"be\", doc))\n",
    "    return result"
   ]
  },
  {
   "cell_type": "code",
   "execution_count": 6,
   "metadata": {},
   "outputs": [],
   "source": [
    "def get_dependency_tree_nodes(sentence):\n",
    "    nodes = []\n",
    "    doc = nlp(sentence)\n",
    "    for token in doc:\n",
    "        nodes.append([token.text, token.dep_, token.head.text, token.head.pos_,\n",
    "          [child for child in token.children]])\n",
    "    return nodes"
   ]
  },
  {
   "cell_type": "code",
   "execution_count": 7,
   "metadata": {},
   "outputs": [],
   "source": [
    "def printDependencies(sentence):\n",
    "    nodes = get_dependency_tree_nodes(sentence)\n",
    "    print(\"\\n\\n------------- Deps ------\")\n",
    "    for node in nodes:\n",
    "        print(node)"
   ]
  },
  {
   "cell_type": "code",
   "execution_count": 22,
   "metadata": {},
   "outputs": [],
   "source": [
    "def printNounChunks(sentence):\n",
    "    doc = nlp(sentence)\n",
    "    print(\"\\n\\n------------- Noun chunks ------\")\n",
    "    for chunk in doc.noun_chunks:\n",
    "        print(chunk.text+ \" start:\"+str(chunk.start_char))"
   ]
  },
  {
   "cell_type": "code",
   "execution_count": 9,
   "metadata": {},
   "outputs": [],
   "source": [
    "def printEverything(sentence):\n",
    "    printPOS(sentence)\n",
    "    printEntities(sentence)\n",
    "    printNounChunks(sentence)\n",
    "    printDependencies(sentence)"
   ]
  },
  {
   "cell_type": "code",
   "execution_count": 47,
   "metadata": {},
   "outputs": [
    {
     "name": "stdout",
     "output_type": "stream",
     "text": [
      "\n",
      "\n",
      "-------------General info------\n",
      "Filming filming NOUN NN nsubj Xxxxx True False\n",
      "of of ADP IN prep xx True True\n",
      "Ironman ironman PROPN NNP pobj Xxxxx True False\n",
      "began begin VERB VBD ROOT xxxx True False\n",
      "in in ADP IN prep xx True True\n",
      "April april PROPN NNP pobj Xxxxx True False\n",
      "at at ADP IN prep xx True True\n",
      "Edwards edwards PROPN NNP compound Xxxxx True False\n",
      "Air air PROPN NNP compound Xxx True False\n",
      "Force force PROPN NNP compound Xxxxx True False\n",
      "Base base PROPN NNP pobj Xxxx True False\n",
      "and and CCONJ CC cc xxx True True\n",
      "ended end VERB VBD conj xxxx True False\n",
      "on on ADP IN prep xx True True\n",
      "May may PROPN NNP pobj Xxx True False\n",
      "2 2 NUM CD nummod d False False\n",
      ". . PUNCT . punct . False False\n",
      "\n",
      "\n",
      "-------------Entities------\n",
      "April 28 33 DATE\n",
      "Edwards Air Force Base 37 59 FAC\n",
      "May 2 73 78 DATE\n",
      "\n",
      "\n",
      "------------- Noun chunks ------\n",
      "Filming start:0\n",
      "Ironman start:11\n",
      "April start:28\n",
      "Edwards Air Force Base start:37\n",
      "May start:73\n",
      "\n",
      "\n",
      "------------- Deps ------\n",
      "['Filming', 'nsubj', 'began', 'VERB', [of]]\n",
      "['of', 'prep', 'Filming', 'NOUN', [Ironman]]\n",
      "['Ironman', 'pobj', 'of', 'ADP', []]\n",
      "['began', 'ROOT', 'began', 'VERB', [Filming, in, at, and, ended, .]]\n",
      "['in', 'prep', 'began', 'VERB', [April]]\n",
      "['April', 'pobj', 'in', 'ADP', []]\n",
      "['at', 'prep', 'began', 'VERB', [Base]]\n",
      "['Edwards', 'compound', 'Base', 'PROPN', []]\n",
      "['Air', 'compound', 'Force', 'PROPN', []]\n",
      "['Force', 'compound', 'Base', 'PROPN', [Air]]\n",
      "['Base', 'pobj', 'at', 'ADP', [Edwards, Force]]\n",
      "['and', 'cc', 'began', 'VERB', []]\n",
      "['ended', 'conj', 'began', 'VERB', [on]]\n",
      "['on', 'prep', 'ended', 'VERB', [May]]\n",
      "['May', 'pobj', 'on', 'ADP', [2]]\n",
      "['2', 'nummod', 'May', 'PROPN', []]\n",
      "['.', 'punct', 'began', 'VERB', []]\n"
     ]
    }
   ],
   "source": [
    "s1 = \"Filming of Ironman began in April at Edwards Air Force Base and ended on May 2.\"\n",
    "\n",
    "sentence = s1\n",
    "printEverything(sentence)"
   ]
  },
  {
   "cell_type": "code",
   "execution_count": null,
   "metadata": {},
   "outputs": [],
   "source": [
    "def depNodes(statement):\n",
    "    "
   ]
  },
  {
   "cell_type": "code",
   "execution_count": null,
   "metadata": {},
   "outputs": [],
   "source": []
  }
 ],
 "metadata": {
  "kernelspec": {
   "display_name": "Python 3",
   "language": "python",
   "name": "python3"
  },
  "language_info": {
   "codemirror_mode": {
    "name": "ipython",
    "version": 3
   },
   "file_extension": ".py",
   "mimetype": "text/x-python",
   "name": "python",
   "nbconvert_exporter": "python",
   "pygments_lexer": "ipython3",
   "version": "3.6.6"
  }
 },
 "nbformat": 4,
 "nbformat_minor": 2
}
