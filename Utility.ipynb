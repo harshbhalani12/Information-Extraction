{
 "cells": [
  {
   "cell_type": "code",
   "execution_count": 2,
   "metadata": {},
   "outputs": [],
   "source": [
    "import spacy\n",
    "nlp = spacy.load('en')\n"
   ]
  },
  {
   "cell_type": "code",
   "execution_count": 3,
   "metadata": {},
   "outputs": [],
   "source": [
    "def printPOS(statement):\n",
    "    doc = nlp(statement)\n",
    "    print(\"\\n\\n-------------General info------\")\n",
    "    for token in doc:\n",
    "        print(token.text, token.lemma_, token.pos_, token.tag_, token.dep_,\n",
    "              token.shape_, token.is_alpha, token.is_stop)"
   ]
  },
  {
   "cell_type": "code",
   "execution_count": 4,
   "metadata": {},
   "outputs": [],
   "source": [
    "def printEntities(statement):\n",
    "    doc = nlp(statement)\n",
    "    print(\"\\n\\n-------------Entities------\")\n",
    "    for ent in doc.ents:\n",
    "        print(ent.text, ent.start_char, ent.end_char, ent.label_)"
   ]
  },
  {
   "cell_type": "code",
   "execution_count": 5,
   "metadata": {},
   "outputs": [],
   "source": [
    "def isExpectedVerbToken(token):\n",
    "    return token.lemma_ in [\"release\",\"launch\"]"
   ]
  },
  {
   "cell_type": "code",
   "execution_count": 6,
   "metadata": {},
   "outputs": [],
   "source": [
    "def filterVerbTokens(statement):\n",
    "    doc = nlp(statement)\n",
    "    result = list(filter(lambda token: token.pos_ == \"VERB\" and token.lemma_ != \"be\", doc))\n",
    "    return result"
   ]
  },
  {
   "cell_type": "code",
   "execution_count": 7,
   "metadata": {},
   "outputs": [],
   "source": [
    "def get_dependency_tree_nodes(sentence):\n",
    "    nodes = []\n",
    "    doc = nlp(sentence)\n",
    "    for token in doc:\n",
    "        nodes.append([token.text, token.dep_, token.head.text, token.head.pos_,\n",
    "          [child for child in token.children]])\n",
    "    return nodes"
   ]
  },
  {
   "cell_type": "code",
   "execution_count": 8,
   "metadata": {},
   "outputs": [],
   "source": [
    "def printDependencies(sentence):\n",
    "    nodes = get_dependency_tree_nodes(sentence)\n",
    "    print(\"\\n\\n------------- Deps ------\")\n",
    "    for node in nodes:\n",
    "        print(node)"
   ]
  },
  {
   "cell_type": "code",
   "execution_count": 9,
   "metadata": {},
   "outputs": [],
   "source": [
    "def printNounChunks(sentence):\n",
    "    doc = nlp(sentence)\n",
    "    print(\"\\n\\n------------- Noun chunks ------\")\n",
    "    for chunk in doc.noun_chunks:\n",
    "        print(chunk.text+ \" start:\"+str(chunk.start_char))"
   ]
  },
  {
   "cell_type": "code",
   "execution_count": 10,
   "metadata": {},
   "outputs": [],
   "source": [
    "def printEverything(sentence):\n",
    "    printPOS(sentence)\n",
    "    printEntities(sentence)\n",
    "    printNounChunks(sentence)\n",
    "    printDependencies(sentence)"
   ]
  },
  {
   "cell_type": "code",
   "execution_count": 16,
   "metadata": {},
   "outputs": [
    {
     "name": "stdout",
     "output_type": "stream",
     "text": [
      "\n",
      "\n",
      "-------------General info------\n",
      "Captain captain PROPN NNP compound Xxxxx True False\n",
      "America america PROPN NNP nsubj Xxxxx True False\n",
      "had have VERB VBD ROOT xxx True True\n",
      "its -PRON- ADJ PRP$ poss xxx True True\n",
      "world world NOUN NN compound xxxx True False\n",
      "premiere premiere NOUN NN dobj xxxx True False\n",
      "at at ADP IN prep xx True True\n",
      "the the DET DT det xxx True True\n",
      "Venice venice PROPN NNP compound Xxxxx True False\n",
      "Film film PROPN NNP compound Xxxx True False\n",
      "Festival festival PROPN NNP pobj Xxxxx True False\n",
      "on on ADP IN prep xx True True\n",
      "August august PROPN NNP pobj Xxxxx True False\n",
      "31 31 NUM CD nummod dd False False\n",
      ", , PUNCT , punct , False False\n",
      "2018 2018 NUM CD nummod dddd False False\n",
      ". . PUNCT . punct . False False\n",
      "\n",
      "\n",
      "-------------Entities------\n",
      "America 8 15 GPE\n",
      "the Venice Film Festival 42 66 EVENT\n",
      "August 31, 2018 70 85 DATE\n",
      "\n",
      "\n",
      "------------- Noun chunks ------\n",
      "Captain America start:0\n",
      "its world premiere start:20\n",
      "the Venice Film Festival start:42\n",
      "August start:70\n",
      "\n",
      "\n",
      "------------- Deps ------\n",
      "['Captain', 'compound', 'America', 'PROPN', []]\n",
      "['America', 'nsubj', 'had', 'VERB', [Captain]]\n",
      "['had', 'ROOT', 'had', 'VERB', [America, premiere, on, .]]\n",
      "['its', 'poss', 'premiere', 'NOUN', []]\n",
      "['world', 'compound', 'premiere', 'NOUN', []]\n",
      "['premiere', 'dobj', 'had', 'VERB', [its, world, at]]\n",
      "['at', 'prep', 'premiere', 'NOUN', [Festival]]\n",
      "['the', 'det', 'Festival', 'PROPN', []]\n",
      "['Venice', 'compound', 'Festival', 'PROPN', []]\n",
      "['Film', 'compound', 'Festival', 'PROPN', []]\n",
      "['Festival', 'pobj', 'at', 'ADP', [the, Venice, Film]]\n",
      "['on', 'prep', 'had', 'VERB', [August]]\n",
      "['August', 'pobj', 'on', 'ADP', [31, ,, 2018]]\n",
      "['31', 'nummod', 'August', 'PROPN', []]\n",
      "[',', 'punct', 'August', 'PROPN', []]\n",
      "['2018', 'nummod', 'August', 'PROPN', []]\n",
      "['.', 'punct', 'had', 'VERB', []]\n"
     ]
    }
   ],
   "source": [
    "s1=\"In April 1990, Universal Studios bought the rights to develop Iron Man for the big screen, with Stuart Gordon to direct a low-budget film based on the property.\"\n",
    "s2=\"By February 1996, Fox Media had acquired the rights from Universal.\"\n",
    "s3=\"In August 2015, Fox Networks acquired the US cable broadcast rights, for broadcast after its theatrical release.\"\n",
    "s4=\"In early 2003, actor-director Clint Eastwood and production people at the studio Warner Bros. bought the film rights to James R. Hansen's First Man: The Life of Neil A. Armstrong.\"\n",
    "s5=\"In 2006 Coppola contacted Steven Spielberg—whose studio DreamWorks had recently been bought out by Paramount—about restoring The Godfather.\"\n",
    "s6=\"Shortly after, Sony Pictures Worldwide Acquisitions acquired distribution rights to the film for $5 million.\"\n",
    "s7=\"Liberty Films was purchased by Paramount Pictures, and remained a subsidiary until 1951.\"\n",
    "s8=\"The story came to the attention of RKO producer David Hempstead, who showed it to Cary Grant's Hollywood agent, and in April 1944, RKO Pictures bought the rights to the story for $10,000, hoping to turn the story into a vehicle for Grant.\"\n",
    "s9=\"The Godfather was commercially released on March 24, 1972, throughout the rest of the United States.\"\n",
    "s10=\"Michael travels to Las Vegas to buy out Greene's stake in the family's casinos.\"\n",
    "f1 = \"From ABC Company, rights were bought by Fox Media.\"\n",
    "f2 = \"In February 1996, Fox Media had acquired the rights from Universal for $3,000.\"\n",
    "d1 = \"The rights of Iron Man were sold to Universal Studios for $3,000.\"\n",
    "d2 = \"The rights of Iron Man were sold to Universal Studios by Fox Media for $3,000.\"\n",
    "\n",
    "\n",
    "t1= \"Ironman was watched more than one million times on the Watch Disney Channel app.\"\n",
    "t2 = \"The trailer was viewed 224.6 million times in its first 24 hours, becoming the 2nd most viewed trailer in that time period.\"\n",
    "sentence = \"Captain America had its world premiere at the Venice Film Festival on August 31, 2018.\"\n",
    "printEverything(sentence)"
   ]
  },
  {
   "cell_type": "code",
   "execution_count": null,
   "metadata": {},
   "outputs": [],
   "source": []
  }
 ],
 "metadata": {
  "kernelspec": {
   "display_name": "Python 3",
   "language": "python",
   "name": "python3"
  },
  "language_info": {
   "codemirror_mode": {
    "name": "ipython",
    "version": 3
   },
   "file_extension": ".py",
   "mimetype": "text/x-python",
   "name": "python",
   "nbconvert_exporter": "python",
   "pygments_lexer": "ipython3",
   "version": "3.6.6"
  }
 },
 "nbformat": 4,
 "nbformat_minor": 2
}
