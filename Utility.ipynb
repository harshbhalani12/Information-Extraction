{
 "cells": [
  {
   "cell_type": "code",
   "execution_count": 79,
   "metadata": {},
   "outputs": [],
   "source": [
    "import spacy\n",
    "nlp = spacy.load('en')\n"
   ]
  },
  {
   "cell_type": "code",
   "execution_count": 80,
   "metadata": {},
   "outputs": [],
   "source": [
    "def printPOS(statement):\n",
    "    doc = nlp(statement)\n",
    "    print(\"\\n\\n-------------General info------\")\n",
    "    for token in doc:\n",
    "        print(token.text, token.lemma_, token.pos_, token.tag_, token.dep_,\n",
    "              token.shape_, token.is_alpha, token.is_stop)"
   ]
  },
  {
   "cell_type": "code",
   "execution_count": 81,
   "metadata": {},
   "outputs": [],
   "source": [
    "def printEntities(statement):\n",
    "    doc = nlp(statement)\n",
    "    print(\"\\n\\n-------------Entities------\")\n",
    "    for ent in doc.ents:\n",
    "        print(ent.text, ent.start_char, ent.end_char, ent.label_)"
   ]
  },
  {
   "cell_type": "code",
   "execution_count": 82,
   "metadata": {},
   "outputs": [],
   "source": [
    "def isExpectedVerbToken(token):\n",
    "    return token.lemma_ in [\"release\",\"launch\"]"
   ]
  },
  {
   "cell_type": "code",
   "execution_count": 83,
   "metadata": {},
   "outputs": [],
   "source": [
    "def filterVerbTokens(statement):\n",
    "    doc = nlp(statement)\n",
    "    result = list(filter(lambda token: token.pos_ == \"VERB\" and token.lemma_ != \"be\", doc))\n",
    "    return result"
   ]
  },
  {
   "cell_type": "code",
   "execution_count": 84,
   "metadata": {},
   "outputs": [],
   "source": [
    "def get_dependency_tree_nodes(sentence):\n",
    "    nodes = []\n",
    "    doc = nlp(sentence)\n",
    "    for token in doc:\n",
    "        nodes.append([token.text, token.dep_, token.head.text, token.head.pos_,\n",
    "          [child for child in token.children]])\n",
    "    return nodes"
   ]
  },
  {
   "cell_type": "code",
   "execution_count": 85,
   "metadata": {},
   "outputs": [],
   "source": [
    "def printDependencies(sentence):\n",
    "    nodes = get_dependency_tree_nodes(sentence)\n",
    "    print(\"\\n\\n------------- Deps ------\")\n",
    "    for node in nodes:\n",
    "        print(node)"
   ]
  },
  {
   "cell_type": "code",
   "execution_count": 86,
   "metadata": {},
   "outputs": [],
   "source": [
    "def printNounChunks(sentence):\n",
    "    doc = nlp(sentence)\n",
    "    print(\"\\n\\n------------- Noun chunks ------\")\n",
    "    for chunk in doc.noun_chunks:\n",
    "        print(chunk.text+ \" start:\"+str(chunk.start_char))"
   ]
  },
  {
   "cell_type": "code",
   "execution_count": 87,
   "metadata": {},
   "outputs": [],
   "source": [
    "def printEverything(sentence):\n",
    "    printPOS(sentence)\n",
    "    printEntities(sentence)\n",
    "    printNounChunks(sentence)\n",
    "    printDependencies(sentence)"
   ]
  },
  {
   "cell_type": "code",
   "execution_count": 91,
   "metadata": {},
   "outputs": [
    {
     "name": "stdout",
     "output_type": "stream",
     "text": [
      "\n",
      "\n",
      "-------------General info------\n",
      "The the DET DT det Xxx True False\n",
      "trailer trailer NOUN NN nsubjpass xxxx True False\n",
      "was be VERB VBD auxpass xxx True True\n",
      "viewed view VERB VBN ROOT xxxx True False\n",
      "224.6 224.6 NUM CD compound ddd.d False False\n",
      "million million NUM CD nummod xxxx True False\n",
      "times time NOUN NNS npadvmod xxxx True False\n",
      "in in ADP IN prep xx True True\n",
      "its -PRON- ADJ PRP$ poss xxx True True\n",
      "first first ADJ JJ amod xxxx True True\n",
      "24 24 NUM CD nummod dd False False\n",
      "hours hour NOUN NNS pobj xxxx True False\n",
      ", , PUNCT , punct , False False\n",
      "becoming become VERB VBG advcl xxxx True True\n",
      "the the DET DT det xxx True True\n",
      "2nd 2nd ADJ JJ amod dxx False False\n",
      "most most ADV RBS advmod xxxx True True\n",
      "viewed view VERB VBN amod xxxx True False\n",
      "trailer trailer NOUN NN attr xxxx True False\n",
      "in in ADP IN prep xx True True\n",
      "that that DET DT det xxxx True True\n",
      "time time NOUN NN compound xxxx True False\n",
      "period period NOUN NN pobj xxxx True False\n",
      ". . PUNCT . punct . False False\n",
      "\n",
      "\n",
      "-------------Entities------\n",
      "224.6 million 23 36 CARDINAL\n",
      "24 hours 56 64 TIME\n",
      "2nd 79 82 ORDINAL\n",
      "\n",
      "\n",
      "------------- Noun chunks ------\n",
      "The trailer start:0\n",
      "its first 24 hours start:46\n",
      "the 2nd most viewed trailer start:75\n",
      "that time period start:106\n",
      "\n",
      "\n",
      "------------- Deps ------\n",
      "['The', 'det', 'trailer', 'NOUN', []]\n",
      "['trailer', 'nsubjpass', 'viewed', 'VERB', [The]]\n",
      "['was', 'auxpass', 'viewed', 'VERB', []]\n",
      "['viewed', 'ROOT', 'viewed', 'VERB', [trailer, was, times, in, ,, becoming, .]]\n",
      "['224.6', 'compound', 'million', 'NUM', []]\n",
      "['million', 'nummod', 'times', 'NOUN', [224.6]]\n",
      "['times', 'npadvmod', 'viewed', 'VERB', [million]]\n",
      "['in', 'prep', 'viewed', 'VERB', [hours]]\n",
      "['its', 'poss', 'hours', 'NOUN', []]\n",
      "['first', 'amod', 'hours', 'NOUN', []]\n",
      "['24', 'nummod', 'hours', 'NOUN', []]\n",
      "['hours', 'pobj', 'in', 'ADP', [its, first, 24]]\n",
      "[',', 'punct', 'viewed', 'VERB', []]\n",
      "['becoming', 'advcl', 'viewed', 'VERB', [trailer, in]]\n",
      "['the', 'det', '2nd', 'ADJ', []]\n",
      "['2nd', 'amod', 'trailer', 'NOUN', [the]]\n",
      "['most', 'advmod', 'viewed', 'VERB', []]\n",
      "['viewed', 'amod', 'trailer', 'NOUN', [most]]\n",
      "['trailer', 'attr', 'becoming', 'VERB', [2nd, viewed]]\n",
      "['in', 'prep', 'becoming', 'VERB', [period]]\n",
      "['that', 'det', 'period', 'NOUN', []]\n",
      "['time', 'compound', 'period', 'NOUN', []]\n",
      "['period', 'pobj', 'in', 'ADP', [that, time]]\n",
      "['.', 'punct', 'viewed', 'VERB', []]\n"
     ]
    }
   ],
   "source": [
    "s1=\"In April 1990, Universal Studios bought the rights to develop Iron Man for the big screen, with Stuart Gordon to direct a low-budget film based on the property.\"\n",
    "s2=\"By February 1996, Fox Media had acquired the rights from Universal.\"\n",
    "s3=\"In August 2015, Fox Networks acquired the US cable broadcast rights, for broadcast after its theatrical release.\"\n",
    "s4=\"In early 2003, actor-director Clint Eastwood and production people at the studio Warner Bros. bought the film rights to James R. Hansen's First Man: The Life of Neil A. Armstrong.\"\n",
    "s5=\"In 2006 Coppola contacted Steven Spielberg—whose studio DreamWorks had recently been bought out by Paramount—about restoring The Godfather.\"\n",
    "s6=\"Shortly after, Sony Pictures Worldwide Acquisitions acquired distribution rights to the film for $5 million.\"\n",
    "s7=\"Liberty Films was purchased by Paramount Pictures, and remained a subsidiary until 1951.\"\n",
    "s8=\"The story came to the attention of RKO producer David Hempstead, who showed it to Cary Grant's Hollywood agent, and in April 1944, RKO Pictures bought the rights to the story for $10,000, hoping to turn the story into a vehicle for Grant.\"\n",
    "s9=\"M. & A. Alexander purchased the movie.\"\n",
    "s10=\"Michael travels to Las Vegas to buy out Greene's stake in the family's casinos.\"\n",
    "f1 = \"From ABC Company, rights were bought by Fox Media.\"\n",
    "f2 = \"In February 1996, Fox Media had acquired the rights from Universal for $3,000.\"\n",
    "d1 = \"The rights of Iron Man were sold to Universal Studios for $3,000.\"\n",
    "d2 = \"The rights of Iron Man were sold to Universal Studios by Fox Media for $3,000.\"\n",
    "\n",
    "\n",
    "t1= \"Ironman was viewed more than one million times on the Watch Disney Channel app.\"\n",
    "t2 = \"The trailer was viewed 224.6 million times in its first 24 hours, becoming the 2nd most viewed trailer in that time period.\"\n",
    "sentence = t2\n",
    "printEverything(sentence)"
   ]
  },
  {
   "cell_type": "code",
   "execution_count": null,
   "metadata": {},
   "outputs": [],
   "source": []
  }
 ],
 "metadata": {
  "kernelspec": {
   "display_name": "Python 3",
   "language": "python",
   "name": "python3"
  },
  "language_info": {
   "codemirror_mode": {
    "name": "ipython",
    "version": 3
   },
   "file_extension": ".py",
   "mimetype": "text/x-python",
   "name": "python",
   "nbconvert_exporter": "python",
   "pygments_lexer": "ipython3",
   "version": "3.6.6"
  }
 },
 "nbformat": 4,
 "nbformat_minor": 2
}
