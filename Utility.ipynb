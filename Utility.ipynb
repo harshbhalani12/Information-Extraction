{
 "cells": [
  {
   "cell_type": "code",
   "execution_count": 1,
   "metadata": {},
   "outputs": [],
   "source": [
    "import spacy\n",
    "nlp = spacy.load('en')\n"
   ]
  },
  {
   "cell_type": "code",
   "execution_count": 11,
   "metadata": {},
   "outputs": [],
   "source": [
    "def printPOS(statement):\n",
    "    doc = nlp(statement)\n",
    "    print(\"\\n\\n-------------General info------\")\n",
    "    for token in doc:\n",
    "        print(token.text, token.lemma_, token.pos_, token.tag_, token.dep_,\n",
    "              token.shape_, token.is_alpha, token.is_stop)"
   ]
  },
  {
   "cell_type": "code",
   "execution_count": 3,
   "metadata": {},
   "outputs": [],
   "source": [
    "def printEntities(statement):\n",
    "    doc = nlp(statement)\n",
    "    print(\"\\n\\n-------------Entities------\")\n",
    "    for ent in doc.ents:\n",
    "        print(ent.text, ent.start_char, ent.end_char, ent.label_)"
   ]
  },
  {
   "cell_type": "code",
   "execution_count": 4,
   "metadata": {},
   "outputs": [],
   "source": [
    "def isExpectedVerbToken(token):\n",
    "    return token.lemma_ in [\"release\",\"launch\"]"
   ]
  },
  {
   "cell_type": "code",
   "execution_count": 5,
   "metadata": {},
   "outputs": [],
   "source": [
    "def filterVerbTokens(statement):\n",
    "    doc = nlp(statement)\n",
    "    result = list(filter(lambda token: token.pos_ == \"VERB\" and token.lemma_ != \"be\", doc))\n",
    "    return result"
   ]
  },
  {
   "cell_type": "code",
   "execution_count": 6,
   "metadata": {},
   "outputs": [],
   "source": [
    "def get_dependency_tree_nodes(sentence):\n",
    "    nodes = []\n",
    "    doc = nlp(sentence)\n",
    "    for token in doc:\n",
    "        nodes.append([token.text, token.dep_, token.head.text, token.head.pos_,\n",
    "          [child for child in token.children]])\n",
    "    return nodes"
   ]
  },
  {
   "cell_type": "code",
   "execution_count": 7,
   "metadata": {},
   "outputs": [],
   "source": [
    "def printDependencies(sentence):\n",
    "    nodes = get_dependency_tree_nodes(sentence)\n",
    "    print(\"\\n\\n------------- Deps ------\")\n",
    "    for node in nodes:\n",
    "        print(node)"
   ]
  },
  {
   "cell_type": "code",
   "execution_count": 22,
   "metadata": {},
   "outputs": [],
   "source": [
    "def printNounChunks(sentence):\n",
    "    doc = nlp(sentence)\n",
    "    print(\"\\n\\n------------- Noun chunks ------\")\n",
    "    for chunk in doc.noun_chunks:\n",
    "        print(chunk.text+ \" start:\"+str(chunk.start_char))"
   ]
  },
  {
   "cell_type": "code",
   "execution_count": 9,
   "metadata": {},
   "outputs": [],
   "source": [
    "def printEverything(sentence):\n",
    "    printPOS(sentence)\n",
    "    printEntities(sentence)\n",
    "    printNounChunks(sentence)\n",
    "    printDependencies(sentence)"
   ]
  },
  {
   "cell_type": "code",
   "execution_count": 35,
   "metadata": {},
   "outputs": [
    {
     "name": "stdout",
     "output_type": "stream",
     "text": [
      "\n",
      "\n",
      "-------------General info------\n",
      "Ironman ironman NOUN NN nsubj Xxxxx True False\n",
      "promoted promote VERB VBD ROOT xxxx True False\n",
      "at at ADP IN prep xx True True\n",
      "the the DET DT det xxx True True\n",
      "Toronto toronto PROPN NNP compound Xxxxx True False\n",
      "International international PROPN NNP compound Xxxxx True False\n",
      "Film film PROPN NNP compound Xxxx True False\n",
      "Festival festival PROPN NNP pobj Xxxxx True False\n",
      ", , PUNCT , punct , False False\n",
      "the the DET DT det xxx True True\n",
      "San san PROPN NNP compound Xxx True False\n",
      "Sebastián sebastián PROPN NNP compound Xxxxx True False\n",
      "International international PROPN NNP compound Xxxxx True False\n",
      "Film film PROPN NNP compound Xxxx True False\n",
      "Festival festival PROPN NNP conj Xxxxx True False\n",
      ", , PUNCT , punct , False False\n",
      "and and CCONJ CC cc xxx True True\n",
      "the the DET DT det xxx True True\n",
      "Zurich zurich PROPN NNP compound Xxxxx True False\n",
      "Film film PROPN NNP compound Xxxx True False\n",
      "Festival festival PROPN NNP conj Xxxxx True False\n",
      "in in ADP IN prep xx True True\n",
      "September september PROPN NNP pobj Xxxxx True False\n",
      "2018 2018 NUM CD nummod dddd False False\n",
      ". . PUNCT . punct . False False\n",
      "\n",
      "\n",
      "-------------Entities------\n",
      "the Toronto International Film Festival 20 59 ORG\n",
      "the San Sebastián International Film Festival 61 106 EVENT\n",
      "the Zurich Film Festival 112 136 EVENT\n",
      "September 2018 140 154 DATE\n",
      "\n",
      "\n",
      "------------- Noun chunks ------\n",
      "Ironman start:0\n",
      "the Toronto International Film Festival start:20\n",
      "the San Sebastián International Film Festival start:61\n",
      "the Zurich Film Festival start:112\n",
      "September start:140\n",
      "\n",
      "\n",
      "------------- Deps ------\n",
      "['Ironman', 'nsubj', 'promoted', 'VERB', []]\n",
      "['promoted', 'ROOT', 'promoted', 'VERB', [Ironman, at, .]]\n",
      "['at', 'prep', 'promoted', 'VERB', [Festival]]\n",
      "['the', 'det', 'Festival', 'PROPN', []]\n",
      "['Toronto', 'compound', 'Festival', 'PROPN', []]\n",
      "['International', 'compound', 'Festival', 'PROPN', []]\n",
      "['Film', 'compound', 'Festival', 'PROPN', []]\n",
      "['Festival', 'pobj', 'at', 'ADP', [the, Toronto, International, Film, ,, Festival]]\n",
      "[',', 'punct', 'Festival', 'PROPN', []]\n",
      "['the', 'det', 'Festival', 'PROPN', []]\n",
      "['San', 'compound', 'Sebastián', 'PROPN', []]\n",
      "['Sebastián', 'compound', 'Festival', 'PROPN', [San]]\n",
      "['International', 'compound', 'Festival', 'PROPN', []]\n",
      "['Film', 'compound', 'Festival', 'PROPN', []]\n",
      "['Festival', 'conj', 'Festival', 'PROPN', [the, Sebastián, International, Film, ,, and, Festival]]\n",
      "[',', 'punct', 'Festival', 'PROPN', []]\n",
      "['and', 'cc', 'Festival', 'PROPN', []]\n",
      "['the', 'det', 'Festival', 'PROPN', []]\n",
      "['Zurich', 'compound', 'Festival', 'PROPN', []]\n",
      "['Film', 'compound', 'Festival', 'PROPN', []]\n",
      "['Festival', 'conj', 'Festival', 'PROPN', [the, Zurich, Film, in]]\n",
      "['in', 'prep', 'Festival', 'PROPN', [September]]\n",
      "['September', 'pobj', 'in', 'ADP', [2018]]\n",
      "['2018', 'nummod', 'September', 'PROPN', []]\n",
      "['.', 'punct', 'promoted', 'VERB', []]\n"
     ]
    }
   ],
   "source": [
    "s1 = \"The promotion of IronMan was held in the Greater Union Theater at George Street, Sydney, on April 14, 2008.\"\n",
    "s2 = \"Black Panther premiered in Riyadh, Saudi Arabia on April 18, 2018\"\n",
    "s3 = \"Ironman promoted at the Toronto International Film Festival, the San Sebastián International Film Festival, and the Zurich Film Festival in September 2018.\"\n",
    "s4 = \"screening of the film during the 2010 Fordham University Law School Film festival, Supreme Court Justice Sonia Sotomayor stated that seeing 12 Angry Men while she was in college influenced her decision to pursue a career in law.\"\n",
    "sentence = s3\n",
    "printEverything(sentence)"
   ]
  },
  {
   "cell_type": "code",
   "execution_count": null,
   "metadata": {},
   "outputs": [],
   "source": [
    "def depNodes(statement):\n",
    "    "
   ]
  },
  {
   "cell_type": "code",
   "execution_count": null,
   "metadata": {},
   "outputs": [],
   "source": []
  }
 ],
 "metadata": {
  "kernelspec": {
   "display_name": "Python 3",
   "language": "python",
   "name": "python3"
  },
  "language_info": {
   "codemirror_mode": {
    "name": "ipython",
    "version": 3
   },
   "file_extension": ".py",
   "mimetype": "text/x-python",
   "name": "python",
   "nbconvert_exporter": "python",
   "pygments_lexer": "ipython3",
   "version": "3.6.6"
  }
 },
 "nbformat": 4,
 "nbformat_minor": 2
}
