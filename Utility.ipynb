{
 "cells": [
  {
   "cell_type": "code",
   "execution_count": 1,
   "metadata": {},
   "outputs": [],
   "source": [
    "import spacy\n",
    "nlp = spacy.load('en')\n"
   ]
  },
  {
   "cell_type": "code",
   "execution_count": 11,
   "metadata": {},
   "outputs": [],
   "source": [
    "def printPOS(statement):\n",
    "    doc = nlp(statement)\n",
    "    print(\"\\n\\n-------------General info------\")\n",
    "    for token in doc:\n",
    "        print(token.text, token.lemma_, token.pos_, token.tag_, token.dep_,\n",
    "              token.shape_, token.is_alpha, token.is_stop)"
   ]
  },
  {
   "cell_type": "code",
   "execution_count": 3,
   "metadata": {},
   "outputs": [],
   "source": [
    "def printEntities(statement):\n",
    "    doc = nlp(statement)\n",
    "    print(\"\\n\\n-------------Entities------\")\n",
    "    for ent in doc.ents:\n",
    "        print(ent.text, ent.start_char, ent.end_char, ent.label_)"
   ]
  },
  {
   "cell_type": "code",
   "execution_count": 4,
   "metadata": {},
   "outputs": [],
   "source": [
    "def isExpectedVerbToken(token):\n",
    "    return token.lemma_ in [\"release\",\"launch\"]"
   ]
  },
  {
   "cell_type": "code",
   "execution_count": 5,
   "metadata": {},
   "outputs": [],
   "source": [
    "def filterVerbTokens(statement):\n",
    "    doc = nlp(statement)\n",
    "    result = list(filter(lambda token: token.pos_ == \"VERB\" and token.lemma_ != \"be\", doc))\n",
    "    return result"
   ]
  },
  {
   "cell_type": "code",
   "execution_count": 6,
   "metadata": {},
   "outputs": [],
   "source": [
    "def get_dependency_tree_nodes(sentence):\n",
    "    nodes = []\n",
    "    doc = nlp(sentence)\n",
    "    for token in doc:\n",
    "        nodes.append([token.text, token.dep_, token.head.text, token.head.pos_,\n",
    "          [child for child in token.children]])\n",
    "    return nodes"
   ]
  },
  {
   "cell_type": "code",
   "execution_count": 7,
   "metadata": {},
   "outputs": [],
   "source": [
    "def printDependencies(sentence):\n",
    "    nodes = get_dependency_tree_nodes(sentence)\n",
    "    print(\"\\n\\n------------- Deps ------\")\n",
    "    for node in nodes:\n",
    "        print(node)"
   ]
  },
  {
   "cell_type": "code",
   "execution_count": 22,
   "metadata": {},
   "outputs": [],
   "source": [
    "def printNounChunks(sentence):\n",
    "    doc = nlp(sentence)\n",
    "    print(\"\\n\\n------------- Noun chunks ------\")\n",
    "    for chunk in doc.noun_chunks:\n",
    "        print(chunk.text+ \" start:\"+str(chunk.start_char))"
   ]
  },
  {
   "cell_type": "code",
   "execution_count": 9,
   "metadata": {},
   "outputs": [],
   "source": [
    "def printEverything(sentence):\n",
    "    printPOS(sentence)\n",
    "    printEntities(sentence)\n",
    "    printNounChunks(sentence)\n",
    "    printDependencies(sentence)"
   ]
  },
  {
   "cell_type": "code",
   "execution_count": 36,
   "metadata": {},
   "outputs": [
    {
     "name": "stdout",
     "output_type": "stream",
     "text": [
      "\n",
      "\n",
      "-------------General info------\n",
      "A a DET DT det X True False\n",
      "Star star PROPN NNP nsubjpass Xxxx True False\n",
      "Is be VERB VBZ compound Xx True False\n",
      "Born bear VERB VBN nsubj Xxxx True False\n",
      "had have VERB VBD ROOT xxx True True\n",
      "its -PRON- ADJ PRP$ poss xxx True True\n",
      "world world NOUN NN compound xxxx True False\n",
      "premiere premiere NOUN NN dobj xxxx True False\n",
      "at at ADP IN prep xx True True\n",
      "the the DET DT det xxx True True\n",
      "Venice venice PROPN NNP compound Xxxxx True False\n",
      "Film film PROPN NNP compound Xxxx True False\n",
      "Festival festival PROPN NNP pobj Xxxxx True False\n",
      "on on ADP IN prep xx True True\n",
      "August august PROPN NNP pobj Xxxxx True False\n",
      "31 31 NUM CD nummod dd False False\n",
      ", , PUNCT , punct , False False\n",
      "2018 2018 NUM CD nummod dddd False False\n",
      ". . PUNCT . punct . False False\n",
      "\n",
      "\n",
      "-------------Entities------\n",
      "the Venice Film Festival 41 65 EVENT\n",
      "August 31, 2018 69 84 DATE\n",
      "\n",
      "\n",
      "------------- Noun chunks ------\n",
      "A Star start:0\n",
      "its world premiere start:19\n",
      "the Venice Film Festival start:41\n",
      "August start:69\n",
      "\n",
      "\n",
      "------------- Deps ------\n",
      "['A', 'det', 'Star', 'PROPN', []]\n",
      "['Star', 'nsubjpass', 'Born', 'VERB', [A]]\n",
      "['Is', 'compound', 'Born', 'VERB', []]\n",
      "['Born', 'nsubj', 'had', 'VERB', [Star, Is]]\n",
      "['had', 'ROOT', 'had', 'VERB', [Born, premiere, on, .]]\n",
      "['its', 'poss', 'premiere', 'NOUN', []]\n",
      "['world', 'compound', 'premiere', 'NOUN', []]\n",
      "['premiere', 'dobj', 'had', 'VERB', [its, world, at]]\n",
      "['at', 'prep', 'premiere', 'NOUN', [Festival]]\n",
      "['the', 'det', 'Festival', 'PROPN', []]\n",
      "['Venice', 'compound', 'Festival', 'PROPN', []]\n",
      "['Film', 'compound', 'Festival', 'PROPN', []]\n",
      "['Festival', 'pobj', 'at', 'ADP', [the, Venice, Film]]\n",
      "['on', 'prep', 'had', 'VERB', [August]]\n",
      "['August', 'pobj', 'on', 'ADP', [31, ,, 2018]]\n",
      "['31', 'nummod', 'August', 'PROPN', []]\n",
      "[',', 'punct', 'August', 'PROPN', []]\n",
      "['2018', 'nummod', 'August', 'PROPN', []]\n",
      "['.', 'punct', 'had', 'VERB', []]\n"
     ]
    }
   ],
   "source": [
    "s1 = \"The promotion of IronMan was held in the Greater Union Theater at George Street, Sydney, on April 14, 2008.\"\n",
    "s2 = \"Black Panther premiered in Riyadh, Saudi Arabia on April 18, 2018\"\n",
    "s3 = \"Ironman promoted at the Toronto International Film Festival, the San Sebastián International Film Festival, and the Zurich Film Festival in September 2018.\"\n",
    "s4 = \"screening of the film during the 2010 Fordham University Law School Film festival, Supreme Court Justice Sonia Sotomayor stated that seeing 12 Angry Men while she was in college influenced her decision to pursue a career in law.\"\n",
    "s5 = \"A Star Is Born had its world premiere at the Venice Film Festival on August 31, 2018.\"\n",
    "sentence = s5\n",
    "printEverything(sentence)"
   ]
  },
  {
   "cell_type": "code",
   "execution_count": null,
   "metadata": {},
   "outputs": [],
   "source": [
    "def depNodes(statement):\n",
    "    "
   ]
  },
  {
   "cell_type": "code",
   "execution_count": null,
   "metadata": {},
   "outputs": [],
   "source": []
  }
 ],
 "metadata": {
  "kernelspec": {
   "display_name": "Python 3",
   "language": "python",
   "name": "python3"
  },
  "language_info": {
   "codemirror_mode": {
    "name": "ipython",
    "version": 3
   },
   "file_extension": ".py",
   "mimetype": "text/x-python",
   "name": "python",
   "nbconvert_exporter": "python",
   "pygments_lexer": "ipython3",
   "version": "3.6.6"
  }
 },
 "nbformat": 4,
 "nbformat_minor": 2
}
