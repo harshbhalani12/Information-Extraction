{
 "cells": [
  {
   "cell_type": "code",
   "execution_count": 1,
   "metadata": {
    "collapsed": true
   },
   "outputs": [],
   "source": [
    "import spacy\n",
    "nlp = spacy.load('en')"
   ]
  },
  {
   "cell_type": "code",
   "execution_count": 51,
   "metadata": {
    "collapsed": true
   },
   "outputs": [],
   "source": [
    "s1 = 'The Magnificant Seven is a remake movie of Seven Samurai created in 2016.'\n",
    "s2 = ''\n",
    "s3 = ''\n",
    "s4 = 'Singham is a remake of south indian movie Police.'\n",
    "\n"
   ]
  },
  {
   "cell_type": "code",
   "execution_count": 52,
   "metadata": {},
   "outputs": [
    {
     "name": "stdout",
     "output_type": "stream",
     "text": [
      "Matching with Remake Template for: Singham is a remake of south indian movie Police.\n",
      "has valid noun :  True\n",
      "--------- Extracted Information -----------\n",
      "Movie name :Singham\n",
      "Original movie name : south indian movie Police\n",
      "Time: <no-match>\n"
     ]
    }
   ],
   "source": [
    "sentence = s4\n",
    "parse(sentence)"
   ]
  },
  {
   "cell_type": "code",
   "execution_count": 50,
   "metadata": {
    "collapsed": true
   },
   "outputs": [],
   "source": [
    "def parse(statement1):\n",
    "    isValidForRemakeTemplate = checkRemakeTemplateEligibility(statement1)\n",
    "    #print(isValidForRemakeTemplate)\n",
    "    if(isValidForRemakeTemplate):\n",
    "\n",
    "        print(\"--------- Extracted Information -----------\")\n",
    "        \n",
    "        movieName = extractMovieName(statement1)\n",
    "        print(\"Movie name :\" + str(movieName))\n",
    "\n",
    "        originaMovieName = extractOriginalMovieName(statement1)\n",
    "        print(\"Original movie name :\" , originaMovieName)\n",
    "\n",
    "        year = extractYear(statement1)\n",
    "        print(\"Time:\" , year)  \n",
    "    else:\n",
    "        print(\" NO - PARSE \")"
   ]
  },
  {
   "cell_type": "code",
   "execution_count": 29,
   "metadata": {},
   "outputs": [
    {
     "name": "stdout",
     "output_type": "stream",
     "text": [
      "Matching with Remake Template for: The Magnificant Seven is a remake movie of Seven Samurai created in 2016.\n",
      "has valid noun :  True\n",
      "True\n",
      "extracted movie name is:The Magnificant Seven\n",
      "Samurai\n",
      "extracted original movie name is: Seven Samurai\n",
      "extracted year is: 2016\n"
     ]
    }
   ],
   "source": [
    "statement1 = 'The Magnificant Seven is a remake movie of Seven Samurai created in 2016.'\n",
    "\n",
    "isValidForRemakeTemplate = checkRemakeTemplateEligibility(statement1)\n",
    "print(isValidForRemakeTemplate)\n",
    "if(isValidForRemakeTemplate):\n",
    "    \n",
    "    movieName = extractMovieName(statement1)\n",
    "    print(\"extracted movie name is:\" + str(movieName))\n",
    "    \n",
    "    originaMovieName = extractOriginalMovieName(statement1)\n",
    "    print(\"extracted original movie name is:\" , originaMovieName)\n",
    "    \n",
    "    year = extractYear(statement1)\n",
    "    print(\"extracted year is:\" , year)  "
   ]
  },
  {
   "cell_type": "code",
   "execution_count": 3,
   "metadata": {
    "collapsed": true
   },
   "outputs": [],
   "source": [
    "def extractMovieName(statement):\n",
    "    doc = nlp(statement)\n",
    "    \n",
    "    movieName = \"<unintialized>\"\n",
    "    \n",
    "    for token in doc:\n",
    "        if (token.dep_ == \"nsubj\" and token.head.pos_ == \"VERB\"):\n",
    "            movieName = getNounChunkThatContainsNoun(statement, token)\n",
    "            return movieName\n",
    "        \n",
    "    return \"<no-match>\""
   ]
  },
  {
   "cell_type": "code",
   "execution_count": 38,
   "metadata": {
    "collapsed": true
   },
   "outputs": [],
   "source": [
    "def extractOriginalMovieName(statement):\n",
    "    doc = nlp(statement)\n",
    "    \n",
    "    originalMovieName = \"<uninititalized>\"\n",
    "    \n",
    "    for token in doc:\n",
    "        #if (token.dep_ == \"compound\"):\n",
    "            #print(\"\")\n",
    "        if (token.dep_ == \"pobj\"):\n",
    "            #print(token)\n",
    "            originalMovieName = getNounChunkThatContainsNoun(statement, token)\n",
    "            return originalMovieName\n",
    "    \n",
    "    return \"<no-match>\""
   ]
  },
  {
   "cell_type": "code",
   "execution_count": 5,
   "metadata": {
    "collapsed": true
   },
   "outputs": [],
   "source": [
    "def extractYear(statement):\n",
    "    doc = nlp(statement)\n",
    "    for ent in doc.ents:\n",
    "        if (ent.label_ == \"DATE\" or ent.label_ == \"TIME\"):\n",
    "            return ent.text\n",
    "    \n",
    "    return \"<no-match>\""
   ]
  },
  {
   "cell_type": "code",
   "execution_count": 6,
   "metadata": {
    "collapsed": true
   },
   "outputs": [],
   "source": [
    "def extractRecognizerName(statement):\n",
    "    targetVerbLemmas = ['nominate','win', 'award']\n",
    "    verbText = getTargetVerbAsAppearedInStatement(statement, targetVerbLemmas)\n",
    "    verbTextDNode = next(obj for obj in get_dependency_tree_nodes(statement) if obj[0] == verbText)\n",
    "    writerName = \"<uninitialized>\"\n",
    "    \n",
    "#     handle when release is with premiered.\n",
    "    while verbTextDNode[1] == 'conj':\n",
    "        verbText = verbTextDNode[2]\n",
    "        print(\"verbTextChanged to\"+verbText)\n",
    "        verbTextDNode = next(obj for obj in get_dependency_tree_nodes(statement) if obj[0] == verbText)\n",
    "\n",
    "    print(\"vt:\"+verbText)\n",
    "\n",
    "    writerName = getWriter(statement,verbText)\n",
    "    \n",
    "    return writerName"
   ]
  },
  {
   "cell_type": "code",
   "execution_count": 7,
   "metadata": {
    "collapsed": true
   },
   "outputs": [],
   "source": [
    "def extractRecognizedAs(statement):\n",
    "    targetVerbLemmas = ['nominate','win', 'award']\n",
    "    verbText = getTargetVerbAsAppearedInStatement(statement, targetVerbLemmas)\n",
    "    verbTextDNode = next(obj for obj in get_dependency_tree_nodes(statement) if obj[0] == verbText)\n",
    "    recognizedAs = \"<uninitialized>\"\n",
    "    \n",
    "    print(\"vt:\"+verbText)\n",
    "\n",
    "    recognizedAs = getRecognizedAs(statement,verbText)\n",
    "    \n",
    "    return recognizedAs"
   ]
  },
  {
   "cell_type": "code",
   "execution_count": null,
   "metadata": {
    "collapsed": true
   },
   "outputs": [],
   "source": []
  },
  {
   "cell_type": "code",
   "execution_count": 8,
   "metadata": {
    "collapsed": true
   },
   "outputs": [],
   "source": [
    "def getTargetVerbAsAppearedInStatement(statement, targetVerbLemmas):\n",
    "    \"\"\"\n",
    "    this will reutrn exact apperance of verb in statement.\n",
    "    ex: statement = \"Movie was written by James.\", targetVerbLemmas = ['write','script']\n",
    "    this will return \"written\" as it's lemma matches with one of the targetVerbLemmas\n",
    "    \"\"\"\n",
    "    verbTokens = filterVerbTokens(statement)\n",
    "    for token in verbTokens:\n",
    "        if token.lemma_ in targetVerbLemmas:\n",
    "            return token.text\n",
    "    return \"<no-match>\""
   ]
  },
  {
   "cell_type": "code",
   "execution_count": 9,
   "metadata": {
    "collapsed": true
   },
   "outputs": [],
   "source": [
    "def getNounSubject(statement, verbText):\n",
    "    doc = nlp(statement)\n",
    "    for token in doc:\n",
    "        print(token.text, token.dep_, token.head.text)\n",
    "        if((token.dep_ == \"nsubjpass\" or token.dep_ == \"nsubj\") and token.head.text == verbText):\n",
    "            return token.text\n",
    "    return \"<no-match>\""
   ]
  },
  {
   "cell_type": "code",
   "execution_count": null,
   "metadata": {
    "collapsed": true
   },
   "outputs": [],
   "source": []
  },
  {
   "cell_type": "code",
   "execution_count": 10,
   "metadata": {
    "collapsed": true
   },
   "outputs": [],
   "source": [
    "def getMovie(statement, verbText):\n",
    "    doc = nlp(statement)\n",
    "    theme = \"<uninitialized>\" #movie\n",
    "    \n",
    "    for token in doc:\n",
    "        #print(token.text, token.dep_, token.head.text)        \n",
    "        if (token.dep_ == \"nsubjpass\" and token.head.text == verbText):\n",
    "            print(\"token nsubjpass : \" + token.text)\n",
    "            theme = getNounChunkThatContainsNoun(statement, token)\n",
    "            return theme\n",
    "        if (token.dep_ == \"nsubj\" and token.head.text == verbText):\n",
    "            print(\"token nsubj : \" + token.text)\n",
    "            theme = getNounChunkThatContainsNoun(statement, token)\n",
    "            return theme\n",
    "        elif (token.dep_ == \"dobj\" and token.head.text == verbText):\n",
    "            theme = getNounChunkThatContainsNoun(statement, token)\n",
    "            return theme\n",
    "        elif ((token.dep_ == \"conj\" and token.head.text == verbText) or (token.dep_ == \"conj\" and token.text == verbText)):\n",
    "            print(\"token conj : \" + token.text)\n",
    "            if (token.head.dep_ == \"ROOT\"):\n",
    "                print(\"token.head: \" + token.head.text)\n",
    "                token1 = token.head\n",
    "                return getMovie(statement, token1.text)\n",
    "                '''\n",
    "                if (token.dep_ == \"nsubjpass\" and token.head.text == token1.text):\n",
    "                    theme = getNounChunkThatContainsNoun(statement, token)\n",
    "                    return theme\n",
    "                '''\n",
    "    \n",
    "    return \"<no-match>\""
   ]
  },
  {
   "cell_type": "code",
   "execution_count": 11,
   "metadata": {
    "collapsed": true
   },
   "outputs": [],
   "source": [
    "def getWriter(statement, verbText):\n",
    "    doc = nlp(statement)\n",
    "    agent = \"<uninitialized>\" #writer\n",
    "    '''\n",
    "    for token in doc:\n",
    "        #print(token.text, token.dep_, token.head.text)        \n",
    "        if (token.dep_ == \"agent\" and token.head.text == verbText):\n",
    "            token = [child for child in token.children][0]\n",
    "            agent = getNounChunkThatContainsNoun(statement, token)\n",
    "            return agent\n",
    "        elif (token.dep_ == \"nsubj\" and token.head.text == verbText):\n",
    "            agent = getNounChunkThatContainsNoun(statement, token)\n",
    "            return agent\n",
    "    '''\n",
    "    \n",
    "    for token in doc:\n",
    "        #print(\"token:\",token)\n",
    "        '''\n",
    "        if (token.dep_ == \"agent\" and token.head.text == verbText):\n",
    "            token = [child for child in token.children][0]\n",
    "            agent = getNounChunkThatContainsNoun(statement, token)\n",
    "            print(\"Agent (agent) : \" + agent)\n",
    "            return agent\n",
    "        '''\n",
    "        if (token.dep_ == \"nsubj\" and token.head.text == verbText):\n",
    "            agent = getNounChunkThatContainsNoun(statement, token)\n",
    "            print(\"Agent (nsubj) : \" + agent)\n",
    "            return agent\n",
    "        \n",
    "        elif((token.dep_ == \"conj\" and token.head.text == verbText) or (token.dep_ == \"conj\" and token.text == verbText)):\n",
    "            agent = extractOwnerEntitySyntactically(statement)\n",
    "            return agent\n",
    "        \n",
    "        elif(token.head.text == verbText or token.text == verbText):\n",
    "            # agent = extractOwnerEntitySyntactically(statement)\n",
    "            agent = getByEntity(statement)\n",
    "            return agent\n",
    "        \n",
    "    return agent"
   ]
  },
  {
   "cell_type": "code",
   "execution_count": 12,
   "metadata": {
    "collapsed": true
   },
   "outputs": [],
   "source": [
    "def getByEntity(statement):\n",
    "    doc = nlp(statement)\n",
    "    \n",
    "    for token in doc:\n",
    "        if token.text == \"by\":\n",
    "            for child in token.children:\n",
    "                if (getORGorPersonThatContainsToken(statement, child) != \"<no-match>\"):\n",
    "                    return getORGorPersonThatContainsToken(statement, child)\n",
    "    return \"<no-match>\""
   ]
  },
  {
   "cell_type": "code",
   "execution_count": 13,
   "metadata": {
    "collapsed": true
   },
   "outputs": [],
   "source": [
    "def extractOwnerEntitySyntactically(statement):\n",
    "    doc = nlp(statement)\n",
    "    verbTokens = filterVerbTokens(statement)\n",
    "    ORGEntity = []\n",
    "    \n",
    "    for token in verbTokens:\n",
    "        if isExpectedVerbToken(token):\n",
    "            #print(\"Expected token is:\"+token.text)\n",
    "            #expected children [was, theatrically, in, on, by]\n",
    "            byToken = None\n",
    "            for child in token.children: \n",
    "                #usually release location starts with \"in\"\n",
    "                if child.text == \"by\":\n",
    "                    byToken = child\n",
    "             \n",
    "            #print(\"bytoken : ->\", byToken)\n",
    "            if byToken == None:\n",
    "                #means no direct by available so lets look at some conj child\n",
    "                for child in token.children: \n",
    "                    #usually release location starts with \"in\"\n",
    "                    if child.dep_ == \"conj\":\n",
    "                        for grandChild in child.children:\n",
    "                            if grandChild.text == \"by\":\n",
    "                                byToken = grandChild\n",
    "            \n",
    "            if byToken != None:\n",
    "                for subChild in byToken.children:\n",
    "                    ORGEntity.append(getORGorPersonThatContainsToken(statement, subChild))\n",
    "                    #print(\"subchild : \" + subChild.text)\n",
    "                    if (subChild.dep_ == \"pobj\" and subChild.head.text == \"by\"):\n",
    "                        grandChildren = subChild.children\n",
    "                        childEntity = getORGEntityForGrandChild1(statement, grandChildren, ORGEntity)\n",
    "                        #print(\"child entity:    \" , str(childEntity))\n",
    "                        return list(set(childEntity))\n",
    "                        #ORGEntity.clear()\n",
    "                        #for item in childEntity:\n",
    "                            #ORGEntity.append(item)\n",
    "                    return ORGEntity\n",
    "    return \"<no-match>\""
   ]
  },
  {
   "cell_type": "code",
   "execution_count": 14,
   "metadata": {
    "collapsed": true
   },
   "outputs": [],
   "source": [
    "def getORGEntityForGrandChild1(statement, children, ORGEntity):\n",
    "    '''\n",
    "    New definition\n",
    "    '''\n",
    "    doc = nlp(statement)\n",
    "    \n",
    "    for child in children:\n",
    "        sizeChild = sum(1 for item in child.children)\n",
    "        print(child, sizeChild)\n",
    "        if sizeChild > 0:\n",
    "            ORGEntity.append(getORGorPersonThatContainsToken(statement, child))\n",
    "            print(ORGEntity)\n",
    "            #ORGEntity.append(getORGEntityForGrandChild1(statement, child.children, ORGEntity))\n",
    "            getORGEntityForGrandChild1(statement, child.children, ORGEntity)\n",
    "        if sizeChild == 0:\n",
    "            if (getORGorPersonThatContainsToken(statement, child) != \"<no-match>\"):\n",
    "                ORGEntity.append(getORGorPersonThatContainsToken(statement, child))\n",
    "    \n",
    "    return ORGEntity"
   ]
  },
  {
   "cell_type": "code",
   "execution_count": null,
   "metadata": {
    "collapsed": true
   },
   "outputs": [],
   "source": []
  },
  {
   "cell_type": "code",
   "execution_count": 74,
   "metadata": {
    "collapsed": true
   },
   "outputs": [],
   "source": [
    "  "
   ]
  },
  {
   "cell_type": "code",
   "execution_count": 105,
   "metadata": {
    "collapsed": true
   },
   "outputs": [],
   "source": []
  },
  {
   "cell_type": "code",
   "execution_count": 15,
   "metadata": {
    "collapsed": true
   },
   "outputs": [],
   "source": [
    "def isExpectedVerbToken(token):\n",
    "    return (token.lemma_ in [\"nominate\"] or token.lemma_ in [\"win\"] or token.lemma_ in [\"award\"])"
   ]
  },
  {
   "cell_type": "code",
   "execution_count": 16,
   "metadata": {
    "collapsed": true
   },
   "outputs": [],
   "source": [
    "def getORGorPersonThatContainsToken(statement, token):\n",
    "    doc = nlp (statement)\n",
    "    tokenStartPos = calculateStartPositionOfToken(statement, token)\n",
    "    for ent in doc.ents:\n",
    "        if(token.text in ent.text and tokenStartPos >= ent.start_char and tokenStartPos <= ent.end_char):\n",
    "            return ent.text\n",
    "    return \"<no-match>\""
   ]
  },
  {
   "cell_type": "code",
   "execution_count": 17,
   "metadata": {
    "collapsed": true
   },
   "outputs": [],
   "source": [
    "import re\n",
    "def calculateStartPositionOfToken(statement, targetToken):\n",
    "    \"\"\"\n",
    "    this should return start position of the token\n",
    "    \"\"\"\n",
    "    matches = [m.start() for m in re.finditer(targetToken.text, statement)]\n",
    "    if(len(matches)==1):\n",
    "        return matches[0]\n",
    "    \n",
    "\n",
    "    huristicPosition = 0\n",
    "    doc = nlp(statement)\n",
    "    \n",
    "    i = 0\n",
    "    for token in doc:\n",
    "        if i < targetToken.i:\n",
    "            huristicPosition = huristicPosition + len(token.text)+1\n",
    "            i = i+1\n",
    "        else:\n",
    "            break\n",
    "        \n",
    "    distances = []\n",
    "    for match in matches:\n",
    "        distances.append(abs(match-huristicPosition))\n",
    "        \n",
    "    minIndex = distances.index(min(distances))\n",
    "    \n",
    "    return matches[minIndex]\n"
   ]
  },
  {
   "cell_type": "code",
   "execution_count": 18,
   "metadata": {
    "collapsed": true
   },
   "outputs": [],
   "source": [
    "def getNounChunkThatContainsNoun(statement, nounSubject):\n",
    "    doc = nlp(statement)\n",
    "    for chunk in doc.noun_chunks:\n",
    "        if nounSubject.text in chunk.text:\n",
    "            return chunk.text\n",
    "    return \"<no-match>\""
   ]
  },
  {
   "cell_type": "code",
   "execution_count": 19,
   "metadata": {
    "collapsed": true
   },
   "outputs": [],
   "source": [
    "def checkRemakeTemplateEligibility(statement):\n",
    "    print(\"Matching with Remake Template for: \" + statement)\n",
    "    hasValidToken = check_word_pattern(statement, \" remake \")\n",
    "    print(\"has valid noun : \" , hasValidToken)\n",
    "    \n",
    "    return hasValidToken"
   ]
  },
  {
   "cell_type": "code",
   "execution_count": 20,
   "metadata": {
    "collapsed": true
   },
   "outputs": [],
   "source": [
    "def check_word_pattern(statement, pattern1):\n",
    "    return ((pattern1 in statement))"
   ]
  },
  {
   "cell_type": "code",
   "execution_count": 21,
   "metadata": {
    "collapsed": true
   },
   "outputs": [],
   "source": [
    "def checkRecognizedAsTemplateEligibility(statement):\n",
    "    print(\"Matching with wriiten template: for \" + statement)\n",
    "    hasValidVerb = check_verb_match(statement)\n",
    "    print(\"Has valid verb:\" + str(hasValidVerb))\n",
    "    \n",
    "    return hasValidVerb"
   ]
  },
  {
   "cell_type": "code",
   "execution_count": 22,
   "metadata": {
    "collapsed": true
   },
   "outputs": [],
   "source": [
    "def check_verb_match(statement):\n",
    "    verbTokens = filterVerbTokens(statement)\n",
    "    targetVerbs = ['nominate','win', 'award']\n",
    "    for token in verbTokens:\n",
    "        if token.lemma_ in targetVerbs:\n",
    "            return True\n",
    "    return False"
   ]
  },
  {
   "cell_type": "code",
   "execution_count": 23,
   "metadata": {
    "collapsed": true
   },
   "outputs": [],
   "source": [
    "def filterVerbTokens(statement):\n",
    "    doc = nlp(statement)\n",
    "    result = list(filter(lambda token: token.pos_ == \"VERB\" and token.lemma_ != \"be\", doc))\n",
    "    return result"
   ]
  },
  {
   "cell_type": "code",
   "execution_count": null,
   "metadata": {
    "collapsed": true
   },
   "outputs": [],
   "source": []
  },
  {
   "cell_type": "code",
   "execution_count": 24,
   "metadata": {
    "collapsed": true
   },
   "outputs": [],
   "source": [
    "def get_dependency_tree_nodes(sentence):\n",
    "    nodes = []\n",
    "    doc = nlp(sentence)\n",
    "    for token in doc:\n",
    "        nodes.append([token.text, token.dep_, token.head.text, token.head.pos_,\n",
    "          [child for child in token.children]])\n",
    "    return nodes"
   ]
  },
  {
   "cell_type": "code",
   "execution_count": 25,
   "metadata": {},
   "outputs": [
    {
     "data": {
      "text/plain": [
       "[['The', 'det', 'Impossible', 'PROPN', []],\n",
       " ['Mission', 'compound', 'Impossible', 'PROPN', []],\n",
       " ['Impossible', 'nsubjpass', 'nominated', 'VERB', [The, Mission]],\n",
       " ['was', 'auxpass', 'nominated', 'VERB', []],\n",
       " ['nominated', 'ROOT', 'nominated', 'VERB', [Impossible, was, for, .]],\n",
       " ['for', 'prep', 'nominated', 'VERB', [Award]],\n",
       " ['Golden', 'compound', 'Globe', 'PROPN', []],\n",
       " ['Globe', 'compound', 'Award', 'PROPN', [Golden]],\n",
       " ['Award', 'pobj', 'for', 'ADP', [Globe]],\n",
       " ['.', 'punct', 'nominated', 'VERB', []]]"
      ]
     },
     "execution_count": 25,
     "metadata": {},
     "output_type": "execute_result"
    }
   ],
   "source": [
    "get_dependency_tree_nodes('The Mission Impossible was nominated for Golden Globe Award.')"
   ]
  },
  {
   "cell_type": "code",
   "execution_count": 26,
   "metadata": {},
   "outputs": [
    {
     "data": {
      "text/plain": [
       "[['The', 'det', 'Impossible', 'PROPN', []],\n",
       " ['Mission', 'compound', 'Impossible', 'PROPN', []],\n",
       " ['Impossible', 'nsubjpass', 'awarded', 'VERB', [The, Mission]],\n",
       " ['was', 'auxpass', 'awarded', 'VERB', []],\n",
       " ['awarded', 'ROOT', 'awarded', 'VERB', [Impossible, was, Award, .]],\n",
       " ['Golden', 'compound', 'Globe', 'PROPN', []],\n",
       " ['Globe', 'compound', 'Award', 'PROPN', [Golden]],\n",
       " ['Award', 'dobj', 'awarded', 'VERB', [Globe]],\n",
       " ['.', 'punct', 'awarded', 'VERB', []]]"
      ]
     },
     "execution_count": 26,
     "metadata": {},
     "output_type": "execute_result"
    }
   ],
   "source": [
    "get_dependency_tree_nodes('The Mission Impossible was awarded Golden Globe Award.')"
   ]
  },
  {
   "cell_type": "code",
   "execution_count": 27,
   "metadata": {},
   "outputs": [
    {
     "data": {
      "text/plain": [
       "[['The', 'det', 'Impossible', 'PROPN', []],\n",
       " ['Mission', 'compound', 'Impossible', 'PROPN', []],\n",
       " ['Impossible', 'nsubj', 'won', 'VERB', [The, Mission]],\n",
       " ['won', 'ROOT', 'won', 'VERB', [Impossible, Globe, .]],\n",
       " ['Golden', 'compound', 'Globe', 'PROPN', []],\n",
       " ['Globe', 'dobj', 'won', 'VERB', [Golden]],\n",
       " ['.', 'punct', 'won', 'VERB', []]]"
      ]
     },
     "execution_count": 27,
     "metadata": {},
     "output_type": "execute_result"
    }
   ],
   "source": [
    "get_dependency_tree_nodes('The Mission Impossible won Golden Globe.')"
   ]
  },
  {
   "cell_type": "code",
   "execution_count": 28,
   "metadata": {
    "scrolled": true
   },
   "outputs": [
    {
     "data": {
      "text/plain": [
       "[['The', 'det', 'Seven', 'PROPN', []],\n",
       " ['Magnificent', 'compound', 'Seven', 'PROPN', []],\n",
       " ['Seven', 'nsubj', 'is', 'VERB', [The, Magnificent]],\n",
       " ['is', 'ROOT', 'is', 'VERB', [Seven, remake, .]],\n",
       " ['a', 'det', 'remake', 'NOUN', []],\n",
       " ['remake', 'attr', 'is', 'VERB', [a, of]],\n",
       " ['of', 'prep', 'remake', 'NOUN', [Samurai]],\n",
       " ['Seven', 'compound', 'Samurai', 'PROPN', []],\n",
       " ['Samurai', 'pobj', 'of', 'ADP', [Seven, created]],\n",
       " ['created', 'acl', 'Samurai', 'PROPN', [in]],\n",
       " ['in', 'prep', 'created', 'VERB', [2016]],\n",
       " ['2016', 'pobj', 'in', 'ADP', []],\n",
       " ['.', 'punct', 'is', 'VERB', []]]"
      ]
     },
     "execution_count": 28,
     "metadata": {},
     "output_type": "execute_result"
    }
   ],
   "source": [
    "get_dependency_tree_nodes('The Magnificent Seven is a remake of Seven Samurai created in 2016.')"
   ]
  },
  {
   "cell_type": "code",
   "execution_count": null,
   "metadata": {
    "collapsed": true
   },
   "outputs": [],
   "source": []
  },
  {
   "cell_type": "code",
   "execution_count": null,
   "metadata": {
    "collapsed": true
   },
   "outputs": [],
   "source": []
  },
  {
   "cell_type": "code",
   "execution_count": 15,
   "metadata": {},
   "outputs": [
    {
     "name": "stdout",
     "output_type": "stream",
     "text": [
      "The Magnificent Seven\n",
      "a remake movie\n",
      "Seven Samurai\n"
     ]
    }
   ],
   "source": [
    "doc = nlp(\"The Magnificent Seven is a remake movie of Seven Samurai created in 1984.\")\n",
    "for chunk in doc.noun_chunks:\n",
    "    print(chunk)"
   ]
  },
  {
   "cell_type": "code",
   "execution_count": 14,
   "metadata": {},
   "outputs": [
    {
     "name": "stdout",
     "output_type": "stream",
     "text": [
      "Seven 16 21 CARDINAL\n",
      "Seven 43 48 CARDINAL\n",
      "Samurai 49 56 ORG\n",
      "2016 68 72 DATE\n"
     ]
    }
   ],
   "source": [
    "doc = nlp (\"The Magnificent Seven is a remake movie of Seven Samurai created in 2016.\")\n",
    "for ent in doc.ents:\n",
    "    print(ent.text, ent.start_char, ent.end_char, ent.label_)"
   ]
  },
  {
   "cell_type": "code",
   "execution_count": null,
   "metadata": {
    "collapsed": true
   },
   "outputs": [],
   "source": []
  }
 ],
 "metadata": {
  "kernelspec": {
   "display_name": "Python 3",
   "language": "python",
   "name": "python3"
  },
  "language_info": {
   "codemirror_mode": {
    "name": "ipython",
    "version": 3
   },
   "file_extension": ".py",
   "mimetype": "text/x-python",
   "name": "python",
   "nbconvert_exporter": "python",
   "pygments_lexer": "ipython3",
   "version": "3.6.7"
  }
 },
 "nbformat": 4,
 "nbformat_minor": 2
}
