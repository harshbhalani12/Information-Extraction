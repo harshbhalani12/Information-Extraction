{
 "cells": [
  {
   "cell_type": "code",
   "execution_count": 83,
   "metadata": {
    "collapsed": true
   },
   "outputs": [],
   "source": [
    "import spacy\n",
    "nlp = spacy.load('en')\n",
    "doc = nlp('The film premiered at the Sundance Film Festival on January 21, 2018, and was theatrically released in the United States on August 24, 2018, by Screen Gems.')\n",
    "\n",
    "doc = nlp('Ironman was released in the United States on May 2, 2008.')"
   ]
  },
  {
   "cell_type": "code",
   "execution_count": 40,
   "metadata": {},
   "outputs": [
    {
     "name": "stdout",
     "output_type": "stream",
     "text": [
      "The the DET DT det Xxx True False\n",
      "film film NOUN NN ROOT xxxx True False\n",
      "premiered premier VERB VBD acl xxxx True False\n",
      "at at ADP IN prep xx True True\n",
      "the the DET DT det xxx True True\n",
      "Sundance sundance PROPN NNP compound Xxxxx True False\n",
      "Film film PROPN NNP compound Xxxx True False\n",
      "Festival festival PROPN NNP pobj Xxxxx True False\n",
      "on on ADP IN prep xx True True\n",
      "January january PROPN NNP pobj Xxxxx True False\n",
      "21 21 NUM CD nummod dd False False\n",
      ", , PUNCT , punct , False False\n",
      "2018 2018 NUM CD nummod dddd False False\n",
      ", , PUNCT , punct , False False\n",
      "and and CCONJ CC cc xxx True True\n",
      "was be VERB VBD auxpass xxx True True\n",
      "theatrically theatrically ADV RB advmod xxxx True False\n",
      "released release VERB VBN conj xxxx True False\n",
      "in in ADP IN prep xx True True\n",
      "the the DET DT det xxx True True\n",
      "United united PROPN NNP compound Xxxxx True False\n",
      "States states PROPN NNP pobj Xxxxx True False\n",
      "on on ADP IN prep xx True True\n",
      "August august PROPN NNP pobj Xxxxx True False\n",
      "24 24 NUM CD nummod dd False False\n",
      ", , PUNCT , punct , False False\n",
      "2018 2018 NUM CD nummod dddd False False\n",
      ", , PUNCT , punct , False False\n",
      "by by ADP IN agent xx True True\n",
      "Screen screen PROPN NNP compound Xxxxx True False\n",
      "Gems gems PROPN NNP pobj Xxxx True False\n",
      ". . PUNCT . punct . False False\n"
     ]
    }
   ],
   "source": [
    "for token in doc:\n",
    "    print(token.text, token.lemma_, token.pos_, token.tag_, token.dep_,\n",
    "          token.shape_, token.is_alpha, token.is_stop)"
   ]
  },
  {
   "cell_type": "code",
   "execution_count": 41,
   "metadata": {},
   "outputs": [
    {
     "name": "stdout",
     "output_type": "stream",
     "text": [
      "The the DET DT\n",
      "film film NOUN NN\n",
      "premiered premier VERB VBD\n",
      "at at ADP IN\n",
      "the the DET DT\n",
      "Sundance sundance PROPN NNP\n",
      "Film film PROPN NNP\n",
      "Festival festival PROPN NNP\n",
      "on on ADP IN\n",
      "January january PROPN NNP\n",
      "21 21 NUM CD\n",
      ", , PUNCT ,\n",
      "2018 2018 NUM CD\n",
      ", , PUNCT ,\n",
      "and and CCONJ CC\n",
      "was be VERB VBD\n",
      "theatrically theatrically ADV RB\n",
      "released release VERB VBN\n",
      "in in ADP IN\n",
      "the the DET DT\n",
      "United united PROPN NNP\n",
      "States states PROPN NNP\n",
      "on on ADP IN\n",
      "August august PROPN NNP\n",
      "24 24 NUM CD\n",
      ", , PUNCT ,\n",
      "2018 2018 NUM CD\n",
      ", , PUNCT ,\n",
      "by by ADP IN\n",
      "Screen screen PROPN NNP\n",
      "Gems gems PROPN NNP\n",
      ". . PUNCT .\n"
     ]
    }
   ],
   "source": [
    "for token in doc:\n",
    "    print(token.text, token.lemma_, token.pos_, token.tag_)"
   ]
  },
  {
   "cell_type": "code",
   "execution_count": 279,
   "metadata": {},
   "outputs": [
    {
     "name": "stdout",
     "output_type": "stream",
     "text": [
      "IronMan 4 11 ORG\n",
      "the Sundance Film Festival 25 51 EVENT\n",
      "January 21, 2018 55 71 DATE\n",
      "January 24, 2018 106 122 DATE\n",
      "the United States 126 143 GPE\n",
      "Bhalani 147 154 PERSON\n"
     ]
    }
   ],
   "source": [
    "doc = nlp (\"The IronMan premiered at the Sundance Film Festival on January 21, 2018, and was theatrically released on January 24, 2018 in the United States by Bhalani.\")\n",
    "for ent in doc.ents:\n",
    "    print(ent.text, ent.start_char, ent.end_char, ent.label_)"
   ]
  },
  {
   "cell_type": "code",
   "execution_count": 283,
   "metadata": {},
   "outputs": [
    {
     "name": "stdout",
     "output_type": "stream",
     "text": [
      "Matching with release template: The IronMan premiered at the Sundance Film Festival on January 21, 2018, and was theatrically released on January 24, 2018 in the United States by Mr. Bhalani.\n",
      "Release time:January 24, 2018\n",
      "Movie name is:The IronMan\n",
      "Location:the United States\n",
      "Owner:Bhalani\n"
     ]
    }
   ],
   "source": [
    "statement = 'The IronMan premiered at the Sundance Film Festival on January 21, 2018, and was theatrically released on January 24, 2018 in the United States by Mr. Bhalani.'\n",
    "isValidForReleaseTemplate = checkReleaseMovieTemplateEligibility(statement)\n",
    "if(isValidForReleaseTemplate):\n",
    "    sTime = extractReleaseTimeSyntactically(statement)\n",
    "    print(\"Release time:\"+str(sTime))\n",
    "    movieName = extractMovieName(statement)\n",
    "    print(\"Movie name is:\"+str(movieName))\n",
    "    location = extractReleaseLocationSyntactically(statement)\n",
    "    print(\"Location:\"+str(location))\n",
    "    owner = extractOwnerEntitySyntactically(statement)\n",
    "    print(\"Owner:\"+str(owner))\n",
    "else:\n",
    "    print(\"Statement does not talk about movie release or did not match common pattern.\")\n",
    "#     location = extractLocation"
   ]
  },
  {
   "cell_type": "code",
   "execution_count": 272,
   "metadata": {},
   "outputs": [],
   "source": [
    "def extractMovieName(statement):\n",
    "    targetVerbLemmas = ['release', 'launch']\n",
    "    verbText = getTargetVerbAsAppearedInStatement(statement, targetVerbLemmas)\n",
    "    verbTextDNode = next(obj for obj in get_dependency_tree_nodes(statement) if obj[0] == verbText)\n",
    "    movieName = \"<uninitialized>\"\n",
    "    \n",
    "#     handle when release is with premiered.\n",
    "    while verbTextDNode[1] == 'conj':\n",
    "        verbText = verbTextDNode[2]\n",
    "        verbTextDNode = next(obj for obj in get_dependency_tree_nodes(statement) if obj[0] == verbText)\n",
    "\n",
    "#     print(verbText)\n",
    "    nounSubject = getNounSubject(statement, verbText)\n",
    "#     print(\"ns:\"+nounSubject)\n",
    "    movieName = getNounChunkThatContainsNoun(statement, nounSubject)\n",
    "\n",
    "    return movieName"
   ]
  },
  {
   "cell_type": "code",
   "execution_count": 157,
   "metadata": {},
   "outputs": [
    {
     "name": "stdout",
     "output_type": "stream",
     "text": [
      "released\n",
      "ns:Night\n"
     ]
    },
    {
     "data": {
      "text/plain": [
       "'The Dark Night'"
      ]
     },
     "execution_count": 157,
     "metadata": {},
     "output_type": "execute_result"
    }
   ],
   "source": [
    "extractMovieName(\"The Dark Night premiered at the Sundance Film Festival on January 21, 2018, and was theatrically released in the United States on August 24, 2018, by Screen Gems.\")"
   ]
  },
  {
   "cell_type": "code",
   "execution_count": 203,
   "metadata": {},
   "outputs": [],
   "source": [
    "def getNounChunkThatContainsNoun(statement, nounSubject):\n",
    "    doc = nlp(statement)\n",
    "    for chunk in doc.noun_chunks:\n",
    "        if nounSubject in chunk.text:\n",
    "            return chunk.text\n",
    "    return \"<no-match>\""
   ]
  },
  {
   "cell_type": "code",
   "execution_count": 257,
   "metadata": {},
   "outputs": [],
   "source": [
    "def getTemporalThatContainsToken(statement, token):\n",
    "    doc = nlp (statement)\n",
    "    tokenStartPos = calculateStartPositionOfToken(statement, token)\n",
    "    for ent in doc.ents:\n",
    "        if(token.text in ent.text and ent.label_ == \"DATE\" and tokenStartPos >= ent.start_char and tokenStartPos <= ent.end_char):\n",
    "            return ent.text\n",
    "    \n",
    "    return \"<no-match>\"\n",
    "        "
   ]
  },
  {
   "cell_type": "code",
   "execution_count": 258,
   "metadata": {},
   "outputs": [],
   "source": [
    "def getGPEThatContainsToken(statement, token):\n",
    "    doc = nlp (statement)\n",
    "    tokenStartPos = calculateStartPositionOfToken(statement, token)\n",
    "    for ent in doc.ents:\n",
    "        if(token.text in ent.text and ent.label_ == \"GPE\" and tokenStartPos >= ent.start_char and tokenStartPos <= ent.end_char):\n",
    "            return ent.text\n",
    "    return \"<no-match>\""
   ]
  },
  {
   "cell_type": "code",
   "execution_count": 284,
   "metadata": {},
   "outputs": [],
   "source": [
    "def getORGorPersonThatContainsToken(statement, token):\n",
    "    doc = nlp (statement)\n",
    "    tokenStartPos = calculateStartPositionOfToken(statement, token)\n",
    "    for ent in doc.ents:\n",
    "        if(token.text in ent.text and (ent.label_ == \"ORG\" or ent.label_ == \"PERSON\") and tokenStartPos >= ent.start_char and tokenStartPos <= ent.end_char):\n",
    "            return ent.text\n",
    "    return \"<no-match>\""
   ]
  },
  {
   "cell_type": "code",
   "execution_count": 274,
   "metadata": {},
   "outputs": [],
   "source": [
    "import re\n",
    "def calculateStartPositionOfToken(statement, targetToken):\n",
    "    \"\"\"\n",
    "    this should return start position of the token\n",
    "    \"\"\"\n",
    "    matches = [m.start() for m in re.finditer(targetToken.text, statement)]\n",
    "    if(len(matches)==1):\n",
    "        return matches[0]\n",
    "    \n",
    "\n",
    "    huristicPosition = 0\n",
    "    doc = nlp(statement)\n",
    "    \n",
    "    i = 0\n",
    "    for token in doc:\n",
    "        if i < targetToken.i:\n",
    "            huristicPosition = huristicPosition + len(token.text)+1\n",
    "            i = i+1\n",
    "        else:\n",
    "            break\n",
    "        \n",
    "    distances = []\n",
    "    for match in matches:\n",
    "        distances.append(abs(match-huristicPosition))\n",
    "        \n",
    "    minIndex = distances.index(min(distances))\n",
    "    \n",
    "    return matches[minIndex]\n"
   ]
  },
  {
   "cell_type": "code",
   "execution_count": 154,
   "metadata": {
    "collapsed": true
   },
   "outputs": [],
   "source": [
    "def getNounSubject(statement, verbText):\n",
    "    doc = nlp(statement)\n",
    "    for token in doc:\n",
    "        if((token.dep_ == \"nsubjpass\" or token.dep_ == \"nsubj\") and token.head.text == verbText):\n",
    "            return token.text\n",
    "    return \"<no-match>\""
   ]
  },
  {
   "cell_type": "code",
   "execution_count": 101,
   "metadata": {
    "collapsed": true
   },
   "outputs": [],
   "source": [
    "def getTargetVerbAsAppearedInStatement(statement, targetVerbLemmas):\n",
    "    \"\"\"\n",
    "    this will reutrn exact apperance of verb in statement.\n",
    "    ex: statement = \"Movie was written by James.\", targetVerbLemmas = ['write','script']\n",
    "    this will return \"written\" as it's lemma matches with one of the targetVerbLemmas\n",
    "    \"\"\"\n",
    "    verbTokens = filterVerbTokens(statement)\n",
    "    for token in verbTokens:\n",
    "        if token.lemma_ in targetVerbLemmas:\n",
    "            return token.text\n",
    "    return \"<no-match>\""
   ]
  },
  {
   "cell_type": "code",
   "execution_count": 187,
   "metadata": {},
   "outputs": [],
   "source": [
    "def extractReleaseTime(statement):\n",
    "    doc = nlp(statement)\n",
    "    dates = list(filter(lambda entity: entity.label_ == \"DATE\" , doc.ents))\n",
    "    if(len(dates)==0):\n",
    "        return \"No Date found.\"\n",
    "    if(len(dates)==1):\n",
    "        return dates[0]\n",
    "    else:\n",
    "        verbTokens = filterVerbTokens(statement)\n",
    "        matchVerbIndex = 0\n",
    "        for i in range(len(verbTokens)):\n",
    "            if(verbTokens[i].lemma_ in ['release', 'launch']):\n",
    "                matchVerbIndex = i\n",
    "        \n",
    "        if(len(dates)> matchVerbIndex):\n",
    "            return dates[matchVerbIndex]\n",
    "        else:\n",
    "            return \"<MultiDate Confusion>\"\n",
    "        \n",
    "        "
   ]
  },
  {
   "cell_type": "code",
   "execution_count": 268,
   "metadata": {},
   "outputs": [],
   "source": [
    "def extractReleaseTimeSyntactically(statement):\n",
    "    doc = nlp(statement)\n",
    "    verbTokens = filterVerbTokens(statement)\n",
    "    \n",
    "    for token in verbTokens:\n",
    "        if isExpectedToken(token):\n",
    "#             print(\"Expected token is:\"+token.text)\n",
    "            #expected children [was, theatrically, in, on, by]\n",
    "            for child in token.children: \n",
    "                #usually release time starts with \"on\"\n",
    "                if child.text == \"on\":\n",
    "                    #usually \"on\"'s child is [August] \n",
    "                    for subChild in child.children:\n",
    "                        temporalEntity = getTemporalThatContainsToken(statement, subChild)\n",
    "                        return temporalEntity\n",
    "    return \"<no-match>\""
   ]
  },
  {
   "cell_type": "code",
   "execution_count": 269,
   "metadata": {},
   "outputs": [],
   "source": [
    "def extractReleaseLocationSyntactically(statement):\n",
    "    doc = nlp(statement)\n",
    "    verbTokens = filterVerbTokens(statement)\n",
    "    \n",
    "    for token in verbTokens:\n",
    "        if isExpectedToken(token):\n",
    "#             print(\"Expected token is:\"+token.text)\n",
    "            #expected children [was, theatrically, in, on, by]\n",
    "            for child in token.children: \n",
    "                #usually release location starts with \"in\"\n",
    "                if child.text == \"in\":\n",
    "                    for subChild in child.children:\n",
    "                        GPEEntity = getGPEThatContainsToken(statement, subChild)\n",
    "                        return GPEEntity\n",
    "    return \"<no-match>\""
   ]
  },
  {
   "cell_type": "code",
   "execution_count": 288,
   "metadata": {},
   "outputs": [],
   "source": [
    "def extractOwnerEntitySyntactically(statement):\n",
    "    doc = nlp(statement)\n",
    "    verbTokens = filterVerbTokens(statement)\n",
    "    \n",
    "    for token in verbTokens:\n",
    "        if isExpectedToken(token):\n",
    "#             print(\"Expected token is:\"+token.text)\n",
    "            #expected children [was, theatrically, in, on, by]\n",
    "            for child in token.children: \n",
    "                #usually release location starts with \"in\"\n",
    "                if child.text == \"by\":\n",
    "                    for subChild in child.children:\n",
    "                        ORGEntity = getORGorPersonThatContainsToken(statement, subChild)\n",
    "                        return ORGEntity\n",
    "    return \"<no-match>\""
   ]
  },
  {
   "cell_type": "code",
   "execution_count": 255,
   "metadata": {},
   "outputs": [
    {
     "name": "stdout",
     "output_type": "stream",
     "text": [
      "Expected token is:released\n",
      "TOken start pos is :131\n"
     ]
    },
    {
     "data": {
      "text/plain": [
       "'Screen Gems'"
      ]
     },
     "execution_count": 255,
     "metadata": {},
     "output_type": "execute_result"
    }
   ],
   "source": [
    "extractOwnerEntitySyntactically('The Ironman premiered at the Sundance Film Festival on August 21, 2018, and was theatrically released in the United States, by Screen Gems.')"
   ]
  },
  {
   "cell_type": "code",
   "execution_count": 256,
   "metadata": {},
   "outputs": [],
   "source": [
    "def isExpectedVerbToken(token):\n",
    "    return token.lemma_ in [\"release\",\"launch\"]"
   ]
  },
  {
   "cell_type": "code",
   "execution_count": 266,
   "metadata": {},
   "outputs": [],
   "source": [
    "def checkReleaseMovieTemplateEligibility(statement):\n",
    "    print(\"Matching with release template: \"+statement)\n",
    "    hasValidVerb = check_verb_match(statement)\n",
    "#     print(\"Has valid verb:\"+str(hasValidVerb))\n",
    "    \n",
    "    hasDateEntity = check_date_entity_match(statement)\n",
    "#     print(\"Has DATE included:\"+str(hasDateEntity))\n",
    "    return hasValidVerb and hasDateEntity"
   ]
  },
  {
   "cell_type": "code",
   "execution_count": 66,
   "metadata": {
    "collapsed": true
   },
   "outputs": [],
   "source": [
    "def check_date_entity_match(statement):\n",
    "    doc = nlp(statement)\n",
    "    result = len(list(filter(lambda entity: entity.label_ == \"DATE\" , doc.ents))) > 0\n",
    "    return result"
   ]
  },
  {
   "cell_type": "code",
   "execution_count": 57,
   "metadata": {
    "collapsed": true
   },
   "outputs": [],
   "source": [
    "def check_verb_match(statement):\n",
    "    verbTokens = filterVerbTokens(statement)\n",
    "    targetVerbs = ['release', 'launch']\n",
    "    for token in verbTokens:\n",
    "        if token.lemma_ in targetVerbs:\n",
    "            return True\n",
    "    return False"
   ]
  },
  {
   "cell_type": "code",
   "execution_count": 163,
   "metadata": {
    "collapsed": true
   },
   "outputs": [],
   "source": [
    "def filterVerbTokens(statement):\n",
    "    doc = nlp(statement)\n",
    "    result = list(filter(lambda token: token.pos_ == \"VERB\" and token.lemma_ != \"be\", doc))\n",
    "    return result"
   ]
  },
  {
   "cell_type": "code",
   "execution_count": 164,
   "metadata": {},
   "outputs": [
    {
     "name": "stdout",
     "output_type": "stream",
     "text": [
      "[premiered, released]\n"
     ]
    }
   ],
   "source": [
    "verbs = filterVerbTokens(\"Ironman was premiered at the Sundance Film Festival on January 21, 2018, and was theatrically released in the United States on August 24, 2018, by Screen Gems.\")\n",
    "print(verbs)"
   ]
  },
  {
   "cell_type": "code",
   "execution_count": 237,
   "metadata": {},
   "outputs": [
    {
     "name": "stdout",
     "output_type": "stream",
     "text": [
      "' PUNCT punct released VERB []\n",
      "The DET det film NOUN []\n",
      "film NOUN nsubjpass released VERB [The, premiered, and]\n",
      "premiered VERB acl film NOUN [at, on, ,]\n",
      "at ADP prep premiered VERB [Festival]\n",
      "the DET det Festival PROPN []\n",
      "Sundance PROPN compound Festival PROPN []\n",
      "Film PROPN compound Festival PROPN []\n",
      "Festival PROPN pobj at ADP [the, Sundance, Film]\n",
      "on ADP prep premiered VERB [August]\n",
      "August PROPN pobj on ADP [21, ,, 2018]\n",
      "21 NUM nummod August PROPN []\n",
      ", PUNCT punct August PROPN []\n",
      "2018 NUM nummod August PROPN []\n",
      ", PUNCT punct premiered VERB []\n",
      "and CCONJ cc film NOUN []\n",
      "was VERB auxpass released VERB []\n",
      "theatrically ADV advmod released VERB []\n",
      "released VERB ROOT released VERB [', film, was, theatrically, in, ,, by, ., ']\n",
      "in ADP prep released VERB [States]\n",
      "the DET det States PROPN []\n",
      "United PROPN compound States PROPN []\n",
      "States PROPN pobj in ADP [the, United]\n",
      ", PUNCT punct released VERB []\n",
      "by ADP agent released VERB [Gems]\n",
      "Screen PROPN compound Gems PROPN []\n",
      "Gems PROPN pobj by ADP [Screen]\n",
      ". PUNCT punct released VERB []\n",
      "' PUNCT punct released VERB []\n"
     ]
    }
   ],
   "source": [
    "doc = nlp(\"'The film premiered at the Sundance Film Festival on August 21, 2018, and was theatrically released in the United States, by Screen Gems.'\")\n",
    "for token in doc:\n",
    "    print(token.text, token.pos_, token.dep_, token.head.text, token.head.pos_,\n",
    "          [child for child in token.children])"
   ]
  },
  {
   "cell_type": "code",
   "execution_count": 7,
   "metadata": {
    "collapsed": true
   },
   "outputs": [],
   "source": [
    "def getRootToken(doc):\n",
    "    for token in doc:\n",
    "        if token.dep_ == \"ROOT\":\n",
    "            return token\n",
    "    return \"None\""
   ]
  },
  {
   "cell_type": "code",
   "execution_count": 8,
   "metadata": {},
   "outputs": [
    {
     "data": {
      "text/plain": [
       "released"
      ]
     },
     "execution_count": 8,
     "metadata": {},
     "output_type": "execute_result"
    }
   ],
   "source": [
    "getRootToken(doc)"
   ]
  },
  {
   "cell_type": "code",
   "execution_count": 9,
   "metadata": {
    "collapsed": true
   },
   "outputs": [],
   "source": [
    "def get_token_dist(word1, word2):\n",
    "    token1 = nlp(word1)[0]\n",
    "    token2 = nlp(word2.lemma_)[0]\n",
    "    return token1.similarity(token2)"
   ]
  },
  {
   "cell_type": "code",
   "execution_count": 13,
   "metadata": {},
   "outputs": [
    {
     "data": {
      "text/plain": [
       "0.61975265"
      ]
     },
     "execution_count": 13,
     "metadata": {},
     "output_type": "execute_result"
    }
   ],
   "source": [
    "get_token_dist(\"resign\", getRootToken(doc))"
   ]
  },
  {
   "cell_type": "code",
   "execution_count": 247,
   "metadata": {},
   "outputs": [],
   "source": [
    "def get_dependency_tree_nodes(sentence):\n",
    "    nodes = []\n",
    "    doc = nlp(sentence)\n",
    "    for token in doc:\n",
    "        nodes.append([token.text, token.dep_, token.head.text, token.head.pos_,\n",
    "          [child for child in token.children]])\n",
    "    return nodes"
   ]
  },
  {
   "cell_type": "code",
   "execution_count": 287,
   "metadata": {},
   "outputs": [
    {
     "data": {
      "text/plain": [
       "[['Avengers', 'nsubj', 'premiered', 'VERB', []],\n",
       " ['premiered',\n",
       "  'ROOT',\n",
       "  'premiered',\n",
       "  'VERB',\n",
       "  [Avengers, at, on, ,, and, released, .]],\n",
       " ['at', 'prep', 'premiered', 'VERB', [Festival]],\n",
       " ['the', 'det', 'Festival', 'PROPN', []],\n",
       " ['Sundance', 'compound', 'Festival', 'PROPN', []],\n",
       " ['Film', 'compound', 'Festival', 'PROPN', []],\n",
       " ['Festival', 'pobj', 'at', 'ADP', [the, Sundance, Film]],\n",
       " ['on', 'prep', 'premiered', 'VERB', [January]],\n",
       " ['January', 'pobj', 'on', 'ADP', [21, ,, 2018]],\n",
       " ['21', 'nummod', 'January', 'PROPN', []],\n",
       " [',', 'punct', 'January', 'PROPN', []],\n",
       " ['2018', 'nummod', 'January', 'PROPN', []],\n",
       " [',', 'punct', 'premiered', 'VERB', []],\n",
       " ['and', 'cc', 'premiered', 'VERB', []],\n",
       " ['was', 'auxpass', 'released', 'VERB', []],\n",
       " ['theatrically', 'advmod', 'released', 'VERB', []],\n",
       " ['released', 'conj', 'premiered', 'VERB', [was, theatrically, in, by]],\n",
       " ['in', 'prep', 'released', 'VERB', [States]],\n",
       " ['the', 'det', 'States', 'PROPN', []],\n",
       " ['United', 'compound', 'States', 'PROPN', []],\n",
       " ['States', 'pobj', 'in', 'ADP', [the, United]],\n",
       " ['by', 'agent', 'released', 'VERB', [Gems]],\n",
       " ['Screen', 'compound', 'Gems', 'PROPN', []],\n",
       " ['Gems', 'pobj', 'by', 'ADP', [Screen]],\n",
       " ['.', 'punct', 'premiered', 'VERB', []]]"
      ]
     },
     "execution_count": 287,
     "metadata": {},
     "output_type": "execute_result"
    }
   ],
   "source": [
    "get_dependency_tree_nodes(\"Avengers was released on 21 October.\")\n",
    "get_dependency_tree_nodes(\"Avengers premiered at the Sundance Film Festival on January 21, 2018, and was theatrically released in the United States by Screen Gems.\")"
   ]
  },
  {
   "cell_type": "code",
   "execution_count": 37,
   "metadata": {},
   "outputs": [
    {
     "data": {
      "text/plain": [
       "0.6178405037901543"
      ]
     },
     "execution_count": 37,
     "metadata": {},
     "output_type": "execute_result"
    }
   ],
   "source": [
    "s1 = nlp(\"Prisioner was released from the prision\")\n",
    "s2 = nlp(\"They planned to release the movie on Nov. 22\")\n",
    "s1.similarity(s2)"
   ]
  },
  {
   "cell_type": "code",
   "execution_count": 90,
   "metadata": {},
   "outputs": [
    {
     "name": "stdout",
     "output_type": "stream",
     "text": [
      "The Dark Knight\n",
      "the United States\n",
      "May\n"
     ]
    }
   ],
   "source": [
    "\n",
    "doc = nlp(\"The Dark Knight was released in the United States on May 2, 2008.\")\n",
    "for chunk in doc.noun_chunks:\n",
    "    print(chunk)"
   ]
  },
  {
   "cell_type": "code",
   "execution_count": null,
   "metadata": {
    "collapsed": true
   },
   "outputs": [],
   "source": []
  }
 ],
 "metadata": {
  "kernelspec": {
   "display_name": "Python 3",
   "language": "python",
   "name": "python3"
  },
  "language_info": {
   "codemirror_mode": {
    "name": "ipython",
    "version": 3
   },
   "file_extension": ".py",
   "mimetype": "text/x-python",
   "name": "python",
   "nbconvert_exporter": "python",
   "pygments_lexer": "ipython3",
   "version": "3.6.7"
  }
 },
 "nbformat": 4,
 "nbformat_minor": 2
}
