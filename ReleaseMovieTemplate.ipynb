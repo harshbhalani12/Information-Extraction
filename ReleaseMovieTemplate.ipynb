{
 "cells": [
  {
   "cell_type": "code",
   "execution_count": 39,
   "metadata": {},
   "outputs": [],
   "source": [
    "import spacy\n",
    "nlp = spacy.load('en')\n",
    "doc = nlp('The film premiered at the Sundance Film Festival on January 21, 2018, and was theatrically released in the United States on August 24, 2018, by Screen Gems.')"
   ]
  },
  {
   "cell_type": "code",
   "execution_count": 40,
   "metadata": {},
   "outputs": [
    {
     "name": "stdout",
     "output_type": "stream",
     "text": [
      "The the DET DT det Xxx True False\n",
      "film film NOUN NN ROOT xxxx True False\n",
      "premiered premier VERB VBD acl xxxx True False\n",
      "at at ADP IN prep xx True True\n",
      "the the DET DT det xxx True True\n",
      "Sundance sundance PROPN NNP compound Xxxxx True False\n",
      "Film film PROPN NNP compound Xxxx True False\n",
      "Festival festival PROPN NNP pobj Xxxxx True False\n",
      "on on ADP IN prep xx True True\n",
      "January january PROPN NNP pobj Xxxxx True False\n",
      "21 21 NUM CD nummod dd False False\n",
      ", , PUNCT , punct , False False\n",
      "2018 2018 NUM CD nummod dddd False False\n",
      ", , PUNCT , punct , False False\n",
      "and and CCONJ CC cc xxx True True\n",
      "was be VERB VBD auxpass xxx True True\n",
      "theatrically theatrically ADV RB advmod xxxx True False\n",
      "released release VERB VBN conj xxxx True False\n",
      "in in ADP IN prep xx True True\n",
      "the the DET DT det xxx True True\n",
      "United united PROPN NNP compound Xxxxx True False\n",
      "States states PROPN NNP pobj Xxxxx True False\n",
      "on on ADP IN prep xx True True\n",
      "August august PROPN NNP pobj Xxxxx True False\n",
      "24 24 NUM CD nummod dd False False\n",
      ", , PUNCT , punct , False False\n",
      "2018 2018 NUM CD nummod dddd False False\n",
      ", , PUNCT , punct , False False\n",
      "by by ADP IN agent xx True True\n",
      "Screen screen PROPN NNP compound Xxxxx True False\n",
      "Gems gems PROPN NNP pobj Xxxx True False\n",
      ". . PUNCT . punct . False False\n"
     ]
    }
   ],
   "source": [
    "for token in doc:\n",
    "    print(token.text, token.lemma_, token.pos_, token.tag_, token.dep_,\n",
    "          token.shape_, token.is_alpha, token.is_stop)"
   ]
  },
  {
   "cell_type": "code",
   "execution_count": 41,
   "metadata": {},
   "outputs": [
    {
     "name": "stdout",
     "output_type": "stream",
     "text": [
      "The the DET DT\n",
      "film film NOUN NN\n",
      "premiered premier VERB VBD\n",
      "at at ADP IN\n",
      "the the DET DT\n",
      "Sundance sundance PROPN NNP\n",
      "Film film PROPN NNP\n",
      "Festival festival PROPN NNP\n",
      "on on ADP IN\n",
      "January january PROPN NNP\n",
      "21 21 NUM CD\n",
      ", , PUNCT ,\n",
      "2018 2018 NUM CD\n",
      ", , PUNCT ,\n",
      "and and CCONJ CC\n",
      "was be VERB VBD\n",
      "theatrically theatrically ADV RB\n",
      "released release VERB VBN\n",
      "in in ADP IN\n",
      "the the DET DT\n",
      "United united PROPN NNP\n",
      "States states PROPN NNP\n",
      "on on ADP IN\n",
      "August august PROPN NNP\n",
      "24 24 NUM CD\n",
      ", , PUNCT ,\n",
      "2018 2018 NUM CD\n",
      ", , PUNCT ,\n",
      "by by ADP IN\n",
      "Screen screen PROPN NNP\n",
      "Gems gems PROPN NNP\n",
      ". . PUNCT .\n"
     ]
    }
   ],
   "source": [
    "for token in doc:\n",
    "    print(token.text, token.lemma_, token.pos_, token.tag_)"
   ]
  },
  {
   "cell_type": "code",
   "execution_count": 22,
   "metadata": {},
   "outputs": [
    {
     "name": "stdout",
     "output_type": "stream",
     "text": [
      "the Sundance Film Festival 22 48 EVENT\n",
      "January 21, 2018 52 68 DATE\n",
      "the United States 103 120 GPE\n",
      "August 24, 2018 124 139 DATE\n",
      "Screen Gems 144 155 ORG\n"
     ]
    }
   ],
   "source": [
    "for ent in doc.ents:\n",
    "    print(ent.text, ent.start_char, ent.end_char, ent.label_)"
   ]
  },
  {
   "cell_type": "code",
   "execution_count": 38,
   "metadata": {},
   "outputs": [],
   "source": [
    "def checkReleaseMovieTemplate(statement):\n",
    "    hasValidVerb = filterVerbTokens(statement)\n",
    "    return True"
   ]
  },
  {
   "cell_type": "code",
   "execution_count": 43,
   "metadata": {},
   "outputs": [],
   "source": [
    "def check_verb_match(statement):\n",
    "    verbTokens = filterVBDTokens(statement)\n",
    "    "
   ]
  },
  {
   "cell_type": "code",
   "execution_count": 47,
   "metadata": {},
   "outputs": [],
   "source": [
    "def filterVerbTokens(statement):\n",
    "    doc = nlp(statement)\n",
    "    result = list(filter(lambda token: token.pos_ == \"VERB\" , doc))\n",
    "    return result"
   ]
  },
  {
   "cell_type": "code",
   "execution_count": 49,
   "metadata": {},
   "outputs": [
    {
     "name": "stdout",
     "output_type": "stream",
     "text": [
      "[premiered, was, released]\n"
     ]
    }
   ],
   "source": [
    "verbs = filterVerbTokens(\"The film premiered at the Sundance Film Festival on January 21, 2018, and was theatrically released in the United States on August 24, 2018, by Screen Gems.\")\n",
    "print(verbs)"
   ]
  },
  {
   "cell_type": "code",
   "execution_count": 24,
   "metadata": {},
   "outputs": [
    {
     "name": "stdout",
     "output_type": "stream",
     "text": [
      "The det film NOUN []\n",
      "film ROOT film NOUN [The, premiered, .]\n",
      "premiered acl film NOUN [at, on, ,, and, released]\n",
      "at prep premiered VERB [Festival]\n",
      "the det Festival PROPN []\n",
      "Sundance compound Festival PROPN []\n",
      "Film compound Festival PROPN []\n",
      "Festival pobj at ADP [the, Sundance, Film]\n",
      "on prep premiered VERB [January]\n",
      "January pobj on ADP [21, ,, 2018]\n",
      "21 nummod January PROPN []\n",
      ", punct January PROPN []\n",
      "2018 nummod January PROPN []\n",
      ", punct premiered VERB []\n",
      "and cc premiered VERB []\n",
      "was auxpass released VERB []\n",
      "theatrically advmod released VERB []\n",
      "released conj premiered VERB [was, theatrically, in, on, by]\n",
      "in prep released VERB [States]\n",
      "the det States PROPN []\n",
      "United compound States PROPN []\n",
      "States pobj in ADP [the, United]\n",
      "on prep released VERB [August]\n",
      "August pobj on ADP [24, ,, 2018, ,]\n",
      "24 nummod August PROPN []\n",
      ", punct August PROPN []\n",
      "2018 nummod August PROPN []\n",
      ", punct August PROPN []\n",
      "by agent released VERB [Gems]\n",
      "Screen compound Gems PROPN []\n",
      "Gems pobj by ADP [Screen]\n",
      ". punct film NOUN []\n"
     ]
    }
   ],
   "source": [
    "for token in doc:\n",
    "    print(token.text, token.pos_, token.dep_, token.head.text, token.head.pos_,\n",
    "          [child for child in token.children])"
   ]
  },
  {
   "cell_type": "code",
   "execution_count": 7,
   "metadata": {},
   "outputs": [],
   "source": [
    "def getRootToken(doc):\n",
    "    for token in doc:\n",
    "        if token.dep_ == \"ROOT\":\n",
    "            return token\n",
    "    return \"None\""
   ]
  },
  {
   "cell_type": "code",
   "execution_count": 8,
   "metadata": {},
   "outputs": [
    {
     "data": {
      "text/plain": [
       "released"
      ]
     },
     "execution_count": 8,
     "metadata": {},
     "output_type": "execute_result"
    }
   ],
   "source": [
    "getRootToken(doc)"
   ]
  },
  {
   "cell_type": "code",
   "execution_count": 9,
   "metadata": {},
   "outputs": [],
   "source": [
    "def get_token_dist(word1, word2):\n",
    "    token1 = nlp(word1)[0]\n",
    "    token2 = nlp(word2.lemma_)[0]\n",
    "    return token1.similarity(token2)"
   ]
  },
  {
   "cell_type": "code",
   "execution_count": 13,
   "metadata": {},
   "outputs": [
    {
     "data": {
      "text/plain": [
       "0.61975265"
      ]
     },
     "execution_count": 13,
     "metadata": {},
     "output_type": "execute_result"
    }
   ],
   "source": [
    "get_token_dist(\"resign\", getRootToken(doc))"
   ]
  },
  {
   "cell_type": "code",
   "execution_count": 17,
   "metadata": {},
   "outputs": [],
   "source": [
    "def get_dependency_tree_nodes(sentence):\n",
    "    nodes = []\n",
    "    for token in doc:\n",
    "        nodes.append([token.text, token.dep_, token.head.text, token.head.pos_,\n",
    "          [child for child in token.children]])\n",
    "    return nodes"
   ]
  },
  {
   "cell_type": "code",
   "execution_count": 18,
   "metadata": {},
   "outputs": [
    {
     "data": {
      "text/plain": [
       "[['Ironman', 'nsubjpass', 'released', 'VERB', []],\n",
       " ['was', 'auxpass', 'released', 'VERB', []],\n",
       " ['released', 'ROOT', 'released', 'VERB', [Ironman, was, in, on]],\n",
       " ['in', 'prep', 'released', 'VERB', [States]],\n",
       " ['the', 'det', 'States', 'PROPN', []],\n",
       " ['United', 'compound', 'States', 'PROPN', []],\n",
       " ['States', 'pobj', 'in', 'ADP', [the, United]],\n",
       " ['on', 'prep', 'released', 'VERB', [May]],\n",
       " ['May', 'pobj', 'on', 'ADP', [2, ,, 2008]],\n",
       " ['2', 'nummod', 'May', 'PROPN', []],\n",
       " [',', 'punct', 'May', 'PROPN', []],\n",
       " ['2008', 'nummod', 'May', 'PROPN', []]]"
      ]
     },
     "execution_count": 18,
     "metadata": {},
     "output_type": "execute_result"
    }
   ],
   "source": [
    "get_dependency_tree_nodes(\"Ironman was released in the United States on May 2, 2008\")"
   ]
  },
  {
   "cell_type": "code",
   "execution_count": 37,
   "metadata": {},
   "outputs": [
    {
     "data": {
      "text/plain": [
       "0.6178405037901543"
      ]
     },
     "execution_count": 37,
     "metadata": {},
     "output_type": "execute_result"
    }
   ],
   "source": [
    "s1 = nlp(\"Prisioner was released from the prision\")\n",
    "s2 = nlp(\"They planned to release the movie on Nov. 22\")\n",
    "s1.similarity(s2)"
   ]
  },
  {
   "cell_type": "code",
   "execution_count": null,
   "metadata": {},
   "outputs": [],
   "source": []
  }
 ],
 "metadata": {
  "kernelspec": {
   "display_name": "Python 3",
   "language": "python",
   "name": "python3"
  },
  "language_info": {
   "codemirror_mode": {
    "name": "ipython",
    "version": 3
   },
   "file_extension": ".py",
   "mimetype": "text/x-python",
   "name": "python",
   "nbconvert_exporter": "python",
   "pygments_lexer": "ipython3",
   "version": "3.6.6"
  }
 },
 "nbformat": 4,
 "nbformat_minor": 2
}
