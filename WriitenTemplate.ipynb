{
 "cells": [
  {
   "cell_type": "code",
   "execution_count": 1,
   "metadata": {
    "collapsed": true
   },
   "outputs": [],
   "source": [
    "import spacy\n",
    "nlp = spacy.load('en')"
   ]
  },
  {
   "cell_type": "code",
   "execution_count": 52,
   "metadata": {},
   "outputs": [],
   "source": [
    "s1 = 'The Searching is directed by Aneesh in his feature debut and written by Chaganty, Ohanian and John in 2018.'\n",
    "s2 = 'The Mission Impossible was written by Christopher Nolan.'\n",
    "s3 = 'The Searching is directed by Aneesh in his feature debut and written by Chaganty in 2018.'\n",
    "s4 = 'herry film was written and produced by Joss Whedon and directed by Jorge and Josh.'\n",
    "s6 = 'Chrisopher wrote Mission Impossible.'\n",
    "s7 = 'Mission: Impossible – Rogue Nation was written and directed by Christopher McQuarrie'\n",
    "s8 = 'Black Panther was co-written by Ryan Coogler, Joe Robert.'\n",
    "# s8 is not going to be detected as there is '-' between 'co' and 'written'\n",
    "s5 = 'herry film was written and produced by Joss Whedon and Jorge.'\n",
    "s9 = 'The Jury was written and co-produced by Rose and directed by Sidney Lumet.'\n",
    "#s9 won't work\n",
    "s10 = 'The Jury was written and produced by Rose and directed by Sidney Lumet.'"
   ]
  },
  {
   "cell_type": "code",
   "execution_count": 55,
   "metadata": {},
   "outputs": [
    {
     "name": "stdout",
     "output_type": "stream",
     "text": [
      "Matching with wriiten template: for The Jury was written and produced by Rose and directed by Sidney Lumet.\n",
      "Has valid verb:True\n",
      "--------- Extracted Information -----------\n",
      "Movie name : The Jury\n",
      "Writer name :  ['Rose']\n",
      "Time :  <no-match>\n"
     ]
    }
   ],
   "source": [
    "sentence = s10\n",
    "parse(sentence)"
   ]
  },
  {
   "cell_type": "code",
   "execution_count": 54,
   "metadata": {},
   "outputs": [],
   "source": [
    "def parse(statement1):\n",
    "    isValidForWrittenTemplate = checkWrittenTemplateEligibility(statement1)\n",
    "    if(isValidForWrittenTemplate):\n",
    "\n",
    "        print(\"--------- Extracted Information -----------\")\n",
    "        \n",
    "        movieName = extractMovieName(statement1)\n",
    "        print(\"Movie name : \" + str(movieName))\n",
    "\n",
    "        writerName = extractWriterName(statement1)\n",
    "        print(\"Writer name : \" , writerName)\n",
    "\n",
    "        year = extractYear(statement1)\n",
    "        print(\"Time : \" , year)\n",
    "    else:\n",
    "        print(\" NO - PARSE \")"
   ]
  },
  {
   "cell_type": "code",
   "execution_count": 119,
   "metadata": {},
   "outputs": [
    {
     "name": "stdout",
     "output_type": "stream",
     "text": [
      "Matching with wriiten template: for The Searching is directed by Aneesh in his feature debut and written by Chaganty, Ohanian and John in 2018.\n",
      "Has valid verb:True\n",
      "vt:written\n",
      "extracted movie name is:The Searching\n",
      "extracted writer name is: ['Chaganty', 'John', 'Ohanian']\n",
      "extracted year is: 2018\n"
     ]
    }
   ],
   "source": [
    "# statement1 = 'The Mission Impossible was written by Christopher Nolan.'\n",
    "statement1 = 'The Searching is directed by Aneesh in his feature debut and written by Chaganty, Ohanian and John in 2018.'\n",
    "# statement1 = 'herry film was written and produced by Joss Whedon and directed by Jorge and Josh.'\n",
    "#statement1 = 'herry film was written and produced by Joss Whedon and Jorge.'\n",
    "statement2 = 'Chrisopher Nolan wrote Mission Impossible.'\n",
    "\n",
    "\n",
    "isValidForWrittenTemplate = checkWrittenTemplateEligibility(statement1)\n",
    "if(isValidForWrittenTemplate):\n",
    "    \n",
    "    movieName = extractMovieName(statement1)\n",
    "    print(\"extracted movie name is:\" + str(movieName))\n",
    "    \n",
    "    writerName = extractWriterName(statement1)\n",
    "    print(\"extracted writer name is:\" , writerName)\n",
    "    \n",
    "    year = extractYear(statement1)\n",
    "    print(\"extracted year is:\" , year)\n"
   ]
  },
  {
   "cell_type": "code",
   "execution_count": 2,
   "metadata": {
    "collapsed": true
   },
   "outputs": [],
   "source": [
    "def extractMovieName(statement):\n",
    "    targetVerbLemmas = ['write']\n",
    "    verbText = getTargetVerbAsAppearedInStatement(statement, targetVerbLemmas)\n",
    "    verbTextDNode = next(obj for obj in get_dependency_tree_nodes(statement) if obj[0] == verbText)\n",
    "    movieName = \"<uninitialized>\"\n",
    "    \n",
    "#     handle when release is with premiered.\n",
    "    '''\n",
    "    while verbTextDNode[1] == 'conj':\n",
    "        verbText = verbTextDNode[2]\n",
    "        print(\"verbTextChanged to : \"+verbText)\n",
    "        verbTextDNode = next(obj for obj in get_dependency_tree_nodes(statement) if obj[0] == verbText)\n",
    "    '''\n",
    "\n",
    "    #print(\"vt:\"+verbText)\n",
    "\n",
    "    movieName = getMovie(statement,verbText)\n",
    "    \n",
    "    return movieName"
   ]
  },
  {
   "cell_type": "code",
   "execution_count": 3,
   "metadata": {
    "collapsed": true
   },
   "outputs": [],
   "source": [
    "def extractWriterName(statement):\n",
    "    targetVerbLemmas = ['write']\n",
    "    verbText = getTargetVerbAsAppearedInStatement(statement, targetVerbLemmas)\n",
    "    verbTextDNode = next(obj for obj in get_dependency_tree_nodes(statement) if obj[0] == verbText)\n",
    "    writerName = \"<uninitialized>\"\n",
    "    \n",
    "#     handle when release is with premiered.\n",
    "    while verbTextDNode[1] == 'conj':\n",
    "        verbText = verbTextDNode[2]\n",
    "        #print(\"verbTextChanged to\"+verbText)\n",
    "        verbTextDNode = next(obj for obj in get_dependency_tree_nodes(statement) if obj[0] == verbText)\n",
    "\n",
    "    #print(\"vt:\"+verbText)\n",
    "\n",
    "    writerName = getWriter(statement,verbText)\n",
    "    \n",
    "    return writerName"
   ]
  },
  {
   "cell_type": "code",
   "execution_count": 4,
   "metadata": {
    "collapsed": true
   },
   "outputs": [],
   "source": [
    "def extractYear(statement):\n",
    "    doc = nlp(statement)\n",
    "    for ent in doc.ents:\n",
    "        if (ent.label_ == \"DATE\" or ent.label_ == \"TIME\"):\n",
    "            return ent.text\n",
    "    \n",
    "    return \"<no-match>\""
   ]
  },
  {
   "cell_type": "code",
   "execution_count": 5,
   "metadata": {
    "collapsed": true
   },
   "outputs": [],
   "source": [
    "def getTargetVerbAsAppearedInStatement(statement, targetVerbLemmas):\n",
    "    \"\"\"\n",
    "    this will reutrn exact apperance of verb in statement.\n",
    "    ex: statement = \"Movie was written by James.\", targetVerbLemmas = ['write','script']\n",
    "    this will return \"written\" as it's lemma matches with one of the targetVerbLemmas\n",
    "    \"\"\"\n",
    "    verbTokens = filterVerbTokens(statement)\n",
    "    for token in verbTokens:\n",
    "        if token.lemma_ in targetVerbLemmas:\n",
    "            return token.text\n",
    "    return \"<no-match>\""
   ]
  },
  {
   "cell_type": "code",
   "execution_count": 6,
   "metadata": {
    "collapsed": true
   },
   "outputs": [],
   "source": [
    "def getNounSubject(statement, verbText):\n",
    "    doc = nlp(statement)\n",
    "    for token in doc:\n",
    "        print(token.text, token.dep_, token.head.text)\n",
    "        if((token.dep_ == \"nsubjpass\" or token.dep_ == \"nsubj\") and token.head.text == verbText):\n",
    "            return token.text\n",
    "    return \"<no-match>\""
   ]
  },
  {
   "cell_type": "code",
   "execution_count": null,
   "metadata": {
    "collapsed": true
   },
   "outputs": [],
   "source": []
  },
  {
   "cell_type": "code",
   "execution_count": 7,
   "metadata": {
    "collapsed": true
   },
   "outputs": [],
   "source": [
    "def getMovie(statement, verbText):\n",
    "    doc = nlp(statement)\n",
    "    theme = \"<uninitialized>\" #movie\n",
    "    \n",
    "    for token in doc:\n",
    "        #print(token.text, token.dep_, token.head.text)        \n",
    "        if (token.dep_ == \"nsubjpass\" and token.head.text == verbText):\n",
    "            #print(\"token nsubjpass : \" + token.text)\n",
    "            theme = getNounChunkThatContainsNoun(statement, token)\n",
    "            return theme\n",
    "        elif (token.dep_ == \"dobj\" and token.head.text == verbText):\n",
    "            theme = getNounChunkThatContainsNoun(statement, token)\n",
    "            return theme\n",
    "        elif ((token.dep_ == \"conj\" and token.head.text == verbText) or (token.dep_ == \"conj\" and token.text == verbText)):\n",
    "            #print(\"token conj : \" + token.text)\n",
    "            if (token.head.dep_ == \"ROOT\"):\n",
    "                #print(\"token.head: \" + token.head.text)\n",
    "                token1 = token.head\n",
    "                return getMovie(statement, token1.text)\n",
    "                '''\n",
    "                if (token.dep_ == \"nsubjpass\" and token.head.text == token1.text):\n",
    "                    theme = getNounChunkThatContainsNoun(statement, token)\n",
    "                    return theme\n",
    "                '''\n",
    "    \n",
    "    return \"<no-match>\""
   ]
  },
  {
   "cell_type": "code",
   "execution_count": 8,
   "metadata": {
    "collapsed": true
   },
   "outputs": [],
   "source": [
    "def getWriter(statement, verbText):\n",
    "    doc = nlp(statement)\n",
    "    agent = \"<uninitialized>\" #writer\n",
    "    '''\n",
    "    for token in doc:\n",
    "        #print(token.text, token.dep_, token.head.text)        \n",
    "        if (token.dep_ == \"agent\" and token.head.text == verbText):\n",
    "            token = [child for child in token.children][0]\n",
    "            agent = getNounChunkThatContainsNoun(statement, token)\n",
    "            return agent\n",
    "        elif (token.dep_ == \"nsubj\" and token.head.text == verbText):\n",
    "            agent = getNounChunkThatContainsNoun(statement, token)\n",
    "            return agent\n",
    "    '''\n",
    "    \n",
    "    for token in doc:\n",
    "        #print(\"token:\",token)\n",
    "        '''\n",
    "        if (token.dep_ == \"agent\" and token.head.text == verbText):\n",
    "            token = [child for child in token.children][0]\n",
    "            agent = getNounChunkThatContainsNoun(statement, token)\n",
    "            print(\"Agent (agent) : \" + agent)\n",
    "            return agent\n",
    "        '''\n",
    "        if (token.dep_ == \"nsubj\" and token.head.text == verbText):\n",
    "            agent = getNounChunkThatContainsNoun(statement, token)\n",
    "            #print(\"Agent (nsubj) : \" + agent)\n",
    "            return agent\n",
    "        \n",
    "        elif((token.dep_ == \"conj\" and token.head.text == verbText) or (token.dep_ == \"conj\" and token.text == verbText)):\n",
    "            agent = extractOwnerEntitySyntactically(statement)\n",
    "            return agent\n",
    "        \n",
    "        elif(token.head.text == verbText or token.text == verbText):\n",
    "            agent = extractOwnerEntitySyntactically(statement)\n",
    "            return agent\n",
    "        \n",
    "    return agent"
   ]
  },
  {
   "cell_type": "code",
   "execution_count": 9,
   "metadata": {
    "collapsed": true
   },
   "outputs": [],
   "source": [
    "def extractOwnerEntitySyntactically(statement):\n",
    "    doc = nlp(statement)\n",
    "    verbTokens = filterVerbTokens(statement)\n",
    "    ORGEntity = []\n",
    "    \n",
    "    for token in verbTokens:\n",
    "        if isExpectedVerbToken(token):\n",
    "            #print(\"Expected token is:\"+token.text)\n",
    "            #expected children [was, theatrically, in, on, by]\n",
    "            byToken = None\n",
    "            for child in token.children: \n",
    "                #usually release location starts with \"in\"\n",
    "                if child.text == \"by\":\n",
    "                    byToken = child\n",
    "             \n",
    "            if byToken == None:\n",
    "                #means no direct by available so lets look at some conj child\n",
    "                for child in token.children: \n",
    "                    #usually release location starts with \"in\"\n",
    "                    if child.dep_ == \"conj\":\n",
    "                        for grandChild in child.children:\n",
    "                            if grandChild.text == \"by\":\n",
    "                                byToken = grandChild\n",
    "            \n",
    "            if byToken != None:\n",
    "                for subChild in byToken.children:\n",
    "                    ORGEntity.append(getORGorPersonThatContainsToken(statement, subChild))\n",
    "                    #print(\"subchild : \" + subChild.text)\n",
    "                    if (subChild.dep_ == \"pobj\" and subChild.head.text == \"by\"):\n",
    "                        grandChildren = subChild.children\n",
    "                        childEntity = getORGEntityForGrandChild1(statement, grandChildren, ORGEntity)\n",
    "                        #print(\"child entity:    \" , str(childEntity))\n",
    "                        return list(set(childEntity))\n",
    "                        #ORGEntity.clear()\n",
    "                        #for item in childEntity:\n",
    "                            #ORGEntity.append(item)\n",
    "                    return ORGEntity\n",
    "    return \"<no-match>\""
   ]
  },
  {
   "cell_type": "code",
   "execution_count": 10,
   "metadata": {
    "collapsed": true
   },
   "outputs": [],
   "source": [
    "def getORGEntityForGrandChild1(statement, children, ORGEntity):\n",
    "    '''\n",
    "    New definition\n",
    "    '''\n",
    "    doc = nlp(statement)\n",
    "    \n",
    "    for child in children:\n",
    "        sizeChild = sum(1 for item in child.children)\n",
    "        #print(child, sizeChild)\n",
    "        if sizeChild > 0:\n",
    "            ORGEntity.append(getORGorPersonThatContainsToken(statement, child))\n",
    "            #print(ORGEntity)\n",
    "            #ORGEntity.append(getORGEntityForGrandChild1(statement, child.children, ORGEntity))\n",
    "            getORGEntityForGrandChild1(statement, child.children, ORGEntity)\n",
    "        if sizeChild == 0:\n",
    "            if (getORGorPersonThatContainsToken(statement, child) != \"<no-match>\"):\n",
    "                ORGEntity.append(getORGorPersonThatContainsToken(statement, child))\n",
    "    \n",
    "    return ORGEntity"
   ]
  },
  {
   "cell_type": "code",
   "execution_count": null,
   "metadata": {
    "collapsed": true
   },
   "outputs": [],
   "source": []
  },
  {
   "cell_type": "code",
   "execution_count": 11,
   "metadata": {
    "collapsed": true
   },
   "outputs": [],
   "source": [
    "def isExpectedVerbToken(token):\n",
    "    return token.lemma_ in [\"write\"]"
   ]
  },
  {
   "cell_type": "code",
   "execution_count": 12,
   "metadata": {
    "collapsed": true
   },
   "outputs": [],
   "source": [
    "def getORGorPersonThatContainsToken(statement, token):\n",
    "    doc = nlp (statement)\n",
    "    tokenStartPos = calculateStartPositionOfToken(statement, token)\n",
    "    for ent in doc.ents:\n",
    "        if(token.text in ent.text and tokenStartPos >= ent.start_char and tokenStartPos <= ent.end_char):\n",
    "            return ent.text\n",
    "    return \"<no-match>\""
   ]
  },
  {
   "cell_type": "code",
   "execution_count": 13,
   "metadata": {
    "collapsed": true
   },
   "outputs": [],
   "source": [
    "import re\n",
    "def calculateStartPositionOfToken(statement, targetToken):\n",
    "    \"\"\"\n",
    "    this should return start position of the token\n",
    "    \"\"\"\n",
    "    matches = [m.start() for m in re.finditer(targetToken.text, statement)]\n",
    "    if(len(matches)==1):\n",
    "        return matches[0]\n",
    "    \n",
    "\n",
    "    huristicPosition = 0\n",
    "    doc = nlp(statement)\n",
    "    \n",
    "    i = 0\n",
    "    for token in doc:\n",
    "        if i < targetToken.i:\n",
    "            huristicPosition = huristicPosition + len(token.text)+1\n",
    "            i = i+1\n",
    "        else:\n",
    "            break\n",
    "        \n",
    "    distances = []\n",
    "    for match in matches:\n",
    "        distances.append(abs(match-huristicPosition))\n",
    "        \n",
    "    minIndex = distances.index(min(distances))\n",
    "    \n",
    "    return matches[minIndex]\n"
   ]
  },
  {
   "cell_type": "code",
   "execution_count": 14,
   "metadata": {
    "collapsed": true
   },
   "outputs": [],
   "source": [
    "def getNounChunkThatContainsNoun(statement, nounSubject):\n",
    "    doc = nlp(statement)\n",
    "    for chunk in doc.noun_chunks:\n",
    "        if nounSubject.text in chunk.text:\n",
    "            return chunk.text\n",
    "    return \"<no-match>\""
   ]
  },
  {
   "cell_type": "code",
   "execution_count": 15,
   "metadata": {
    "collapsed": true
   },
   "outputs": [],
   "source": [
    "def checkWrittenTemplateEligibility(statement):\n",
    "    print(\"Matching with wriiten template: for \" + statement)\n",
    "    hasValidVerb = check_verb_match(statement)\n",
    "    print(\"Has valid verb:\" + str(hasValidVerb))\n",
    "    \n",
    "    return hasValidVerb"
   ]
  },
  {
   "cell_type": "code",
   "execution_count": 16,
   "metadata": {
    "collapsed": true
   },
   "outputs": [],
   "source": [
    "def check_verb_match(statement):\n",
    "    verbTokens = filterVerbTokens(statement)\n",
    "    targetVerbs = ['write']\n",
    "    for token in verbTokens:\n",
    "        if token.lemma_ in targetVerbs:\n",
    "            return True\n",
    "    return False"
   ]
  },
  {
   "cell_type": "code",
   "execution_count": 17,
   "metadata": {
    "collapsed": true
   },
   "outputs": [],
   "source": [
    "def filterVerbTokens(statement):\n",
    "    doc = nlp(statement)\n",
    "    result = list(filter(lambda token: token.pos_ == \"VERB\" and token.lemma_ != \"be\", doc))\n",
    "    return result"
   ]
  },
  {
   "cell_type": "code",
   "execution_count": null,
   "metadata": {
    "collapsed": true
   },
   "outputs": [],
   "source": []
  },
  {
   "cell_type": "code",
   "execution_count": 18,
   "metadata": {
    "collapsed": true
   },
   "outputs": [],
   "source": [
    "def get_dependency_tree_nodes(sentence):\n",
    "    nodes = []\n",
    "    doc = nlp(sentence)\n",
    "    for token in doc:\n",
    "        nodes.append([token.text, token.dep_, token.head.text, token.head.pos_,\n",
    "          [child for child in token.children]])\n",
    "    return nodes"
   ]
  },
  {
   "cell_type": "code",
   "execution_count": 19,
   "metadata": {},
   "outputs": [
    {
     "data": {
      "text/plain": [
       "[['The', 'det', 'Impossible', 'PROPN', []],\n",
       " ['Mission', 'compound', 'Impossible', 'PROPN', []],\n",
       " ['Impossible', 'nsubjpass', 'written', 'VERB', [The, Mission]],\n",
       " ['was', 'auxpass', 'written', 'VERB', []],\n",
       " ['written', 'ROOT', 'written', 'VERB', [Impossible, was, by, .]],\n",
       " ['by', 'agent', 'written', 'VERB', [Nolan]],\n",
       " ['Chrisopher', 'compound', 'Nolan', 'PROPN', []],\n",
       " ['Nolan', 'pobj', 'by', 'ADP', [Chrisopher]],\n",
       " ['.', 'punct', 'written', 'VERB', []]]"
      ]
     },
     "execution_count": 19,
     "metadata": {},
     "output_type": "execute_result"
    }
   ],
   "source": [
    "get_dependency_tree_nodes('The Mission Impossible was written by Chrisopher Nolan.')"
   ]
  },
  {
   "cell_type": "code",
   "execution_count": 20,
   "metadata": {},
   "outputs": [
    {
     "data": {
      "text/plain": [
       "[['Chrisopher', 'compound', 'Nolan', 'PROPN', []],\n",
       " ['Nolan', 'nsubj', 'wrote', 'VERB', [Chrisopher]],\n",
       " ['wrote', 'ROOT', 'wrote', 'VERB', [Nolan, Impossible, .]],\n",
       " ['Mission', 'compound', 'Impossible', 'PROPN', []],\n",
       " ['Impossible', 'dobj', 'wrote', 'VERB', [Mission]],\n",
       " ['.', 'punct', 'wrote', 'VERB', []]]"
      ]
     },
     "execution_count": 20,
     "metadata": {},
     "output_type": "execute_result"
    }
   ],
   "source": [
    "get_dependency_tree_nodes('Chrisopher Nolan wrote Mission Impossible.')"
   ]
  },
  {
   "cell_type": "code",
   "execution_count": 21,
   "metadata": {
    "scrolled": true
   },
   "outputs": [
    {
     "data": {
      "text/plain": [
       "[['The', 'det', 'Searching', 'PROPN', []],\n",
       " ['Searching', 'nsubjpass', 'directed', 'VERB', [The]],\n",
       " ['is', 'auxpass', 'directed', 'VERB', []],\n",
       " ['directed',\n",
       "  'ROOT',\n",
       "  'directed',\n",
       "  'VERB',\n",
       "  [Searching, is, by, in, and, written, .]],\n",
       " ['by', 'agent', 'directed', 'VERB', [Aneesh]],\n",
       " ['Aneesh', 'pobj', 'by', 'ADP', []],\n",
       " ['in', 'prep', 'directed', 'VERB', [debut]],\n",
       " ['his', 'poss', 'debut', 'NOUN', []],\n",
       " ['feature', 'compound', 'debut', 'NOUN', []],\n",
       " ['debut', 'pobj', 'in', 'ADP', [his, feature]],\n",
       " ['and', 'cc', 'directed', 'VERB', []],\n",
       " ['written', 'conj', 'directed', 'VERB', [by]],\n",
       " ['by', 'agent', 'written', 'VERB', [Chaganty]],\n",
       " ['Chaganty', 'pobj', 'by', 'ADP', [,, Ohanian]],\n",
       " [',', 'punct', 'Chaganty', 'PROPN', []],\n",
       " ['Ohanian', 'conj', 'Chaganty', 'PROPN', [and, John]],\n",
       " ['and', 'cc', 'Ohanian', 'PROPN', []],\n",
       " ['John', 'conj', 'Ohanian', 'PROPN', []],\n",
       " ['.', 'punct', 'directed', 'VERB', []]]"
      ]
     },
     "execution_count": 21,
     "metadata": {},
     "output_type": "execute_result"
    }
   ],
   "source": [
    "get_dependency_tree_nodes('The Searching is directed by Aneesh in his feature debut and written by Chaganty, Ohanian and John.')"
   ]
  },
  {
   "cell_type": "code",
   "execution_count": 22,
   "metadata": {},
   "outputs": [
    {
     "data": {
      "text/plain": [
       "[['herry', 'amod', 'film', 'NOUN', []],\n",
       " ['film', 'nsubjpass', 'written', 'VERB', [herry]],\n",
       " ['was', 'auxpass', 'written', 'VERB', []],\n",
       " ['written', 'ROOT', 'written', 'VERB', [film, was, and, directed, .]],\n",
       " ['and', 'cc', 'written', 'VERB', []],\n",
       " ['directed', 'conj', 'written', 'VERB', [by]],\n",
       " ['by', 'agent', 'directed', 'VERB', [Whedon]],\n",
       " ['Joss', 'compound', 'Whedon', 'PROPN', []],\n",
       " ['Whedon', 'pobj', 'by', 'ADP', [Joss, and, Jorge]],\n",
       " ['and', 'cc', 'Whedon', 'PROPN', []],\n",
       " ['Jorge', 'conj', 'Whedon', 'PROPN', []],\n",
       " ['.', 'punct', 'written', 'VERB', []]]"
      ]
     },
     "execution_count": 22,
     "metadata": {},
     "output_type": "execute_result"
    }
   ],
   "source": [
    "get_dependency_tree_nodes('herry film was written and directed by Joss Whedon and Jorge.')"
   ]
  },
  {
   "cell_type": "code",
   "execution_count": 23,
   "metadata": {},
   "outputs": [
    {
     "data": {
      "text/plain": [
       "[['herry', 'amod', 'film', 'NOUN', []],\n",
       " ['film', 'nsubjpass', 'written', 'VERB', [herry]],\n",
       " ['was', 'auxpass', 'written', 'VERB', []],\n",
       " ['written', 'ROOT', 'written', 'VERB', [film, was, and, produced, .]],\n",
       " ['and', 'cc', 'written', 'VERB', []],\n",
       " ['produced', 'conj', 'written', 'VERB', [by, and, directed]],\n",
       " ['by', 'agent', 'produced', 'VERB', [Whedon]],\n",
       " ['Joss', 'compound', 'Whedon', 'PROPN', []],\n",
       " ['Whedon', 'pobj', 'by', 'ADP', [Joss]],\n",
       " ['and', 'cc', 'produced', 'VERB', []],\n",
       " ['directed', 'conj', 'produced', 'VERB', [by]],\n",
       " ['by', 'agent', 'directed', 'VERB', [jorge]],\n",
       " ['jorge', 'pobj', 'by', 'ADP', []],\n",
       " ['.', 'punct', 'written', 'VERB', []]]"
      ]
     },
     "execution_count": 23,
     "metadata": {},
     "output_type": "execute_result"
    }
   ],
   "source": [
    "get_dependency_tree_nodes('herry film was written and produced by Joss Whedon and directed by jorge.')"
   ]
  },
  {
   "cell_type": "code",
   "execution_count": 24,
   "metadata": {},
   "outputs": [
    {
     "name": "stdout",
     "output_type": "stream",
     "text": [
      "Dark Knight\n",
      "Aneesh\n",
      "his feature debut\n",
      "Chaganty\n",
      "Sev Ohanian\n",
      "John\n"
     ]
    }
   ],
   "source": [
    "doc = nlp(\"Dark Knight is directed by Aneesh in his feature debut and written by Chaganty, Sev Ohanian and John.\")\n",
    "for chunk in doc.noun_chunks:\n",
    "    print(chunk)"
   ]
  },
  {
   "cell_type": "code",
   "execution_count": null,
   "metadata": {
    "collapsed": true
   },
   "outputs": [],
   "source": []
  },
  {
   "cell_type": "code",
   "execution_count": null,
   "metadata": {
    "collapsed": true
   },
   "outputs": [],
   "source": []
  }
 ],
 "metadata": {
  "kernelspec": {
   "display_name": "Python 3",
   "language": "python",
   "name": "python3"
  },
  "language_info": {
   "codemirror_mode": {
    "name": "ipython",
    "version": 3
   },
   "file_extension": ".py",
   "mimetype": "text/x-python",
   "name": "python",
   "nbconvert_exporter": "python",
   "pygments_lexer": "ipython3",
   "version": "3.6.7"
  }
 },
 "nbformat": 4,
 "nbformat_minor": 2
}
