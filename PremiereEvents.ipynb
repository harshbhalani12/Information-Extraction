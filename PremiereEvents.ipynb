{
 "cells": [
  {
   "cell_type": "code",
   "execution_count": 199,
   "metadata": {},
   "outputs": [],
   "source": [
    "import spacy\n",
    "nlp = spacy.load('en')\n",
    "s1 = \"The promotion of IronMan was held in the Greater Union Theater at George Street, Sydney, on April 14, 2008.\"\n",
    "s2 = \"Black Panther premiered in Riyadh, Saudi Arabia on April 18, 2018\"\n",
    "s3 = \"Ironman screened at the Toronto International Film Festival, the San Sebastián International Film Festival, and the Zurich Film Festival in September 2018.\"\n",
    "s4 = \"A screening of the Captain America during the 2010 Fordham University Law School Film festival, Supreme Court Justice Sonia Sotomayor stated that seeing 12 Angry Men while she was in college influenced her decision to pursue a career in law.\"\n"
   ]
  },
  {
   "cell_type": "code",
   "execution_count": 200,
   "metadata": {},
   "outputs": [
    {
     "name": "stdout",
     "output_type": "stream",
     "text": [
      "Movie Name:IronMan\n",
      "Event type:promotion\n",
      "Location:the Greater Union Theater\n",
      "Time:April 14, 2008\n"
     ]
    }
   ],
   "source": [
    "match_premiere_event(s1)"
   ]
  },
  {
   "cell_type": "code",
   "execution_count": 192,
   "metadata": {},
   "outputs": [],
   "source": [
    "def match_premiere_event(sent):\n",
    "    promotionNoun = findPromotionNoun(sent)\n",
    "    promotionVerb = findPromotionVerb(sent)\n",
    "    \n",
    "    result = None\n",
    "    if promotionNoun != None:\n",
    "        result = parseNounPattern(sent, promotionNoun)\n",
    "    elif promotionVerb != None :\n",
    "        result = parseVerbPattern(sent, promotionVerb)\n",
    "        \n",
    "    printResult(result)\n",
    "    "
   ]
  },
  {
   "cell_type": "code",
   "execution_count": 197,
   "metadata": {},
   "outputs": [],
   "source": [
    "def findPromotionNoun(sent):\n",
    "    for token in nlp(sent):\n",
    "        if token.lemma_ in [\"premiere\",\"screening\", \"promotion\"]:\n",
    "            if token.pos_ == \"NOUN\":\n",
    "                return token.lemma_\n",
    "    return None"
   ]
  },
  {
   "cell_type": "code",
   "execution_count": 196,
   "metadata": {},
   "outputs": [],
   "source": [
    "def findPromotionVerb(sent):\n",
    "    for token in nlp(sent):\n",
    "        if token.lemma_ in [\"premier\",\"screen\", \"promote\"]:\n",
    "            if token.pos_ == \"VERB\":\n",
    "                return token.lemma_\n",
    "    return None"
   ]
  },
  {
   "cell_type": "code",
   "execution_count": 179,
   "metadata": {},
   "outputs": [
    {
     "data": {
      "text/plain": [
       "'premier'"
      ]
     },
     "execution_count": 179,
     "metadata": {},
     "output_type": "execute_result"
    }
   ],
   "source": [
    "findPromotionVerb(s2)"
   ]
  },
  {
   "cell_type": "code",
   "execution_count": 180,
   "metadata": {},
   "outputs": [],
   "source": [
    "def parseNounPattern(sent, promotionNoun):\n",
    "    for token in nlp(sent):\n",
    "        #noun\n",
    "        if token.lemma_ == promotionNoun:\n",
    "            if token.head.pos_ == \"VERB\":\n",
    "                location = getLocationOfVerbToken(sent, token.head)\n",
    "                time = getTimeOfVerbToken(sent, token.head)\n",
    "                movie = getEntityRelatedByOF(sent, token)\n",
    "                return [movie,promotionNoun,location, time]\n",
    "    return None"
   ]
  },
  {
   "cell_type": "code",
   "execution_count": 181,
   "metadata": {},
   "outputs": [],
   "source": [
    "def parseVerbPattern(sent, promotionVerb):\n",
    "    for token in nlp(sent):\n",
    "        #verb\n",
    "        if token.lemma_ == promotionVerb:\n",
    "            location = getLocationOfVerbToken(sent, token)\n",
    "            time = getTimeOfVerbToken(sent, token)\n",
    "            movie = getSubjectEntityOfVerbToken(sent, token)\n",
    "            return [movie,promotionVerb,location, time]\n",
    "    return None"
   ]
  },
  {
   "cell_type": "code",
   "execution_count": 182,
   "metadata": {},
   "outputs": [],
   "source": [
    "def getSubjectEntityOfVerbToken(sent, token):\n",
    "    for child in token.children:\n",
    "        if \"subj\" in str(child.dep_):\n",
    "            entity = getEntityThatContainsToken(sent, child)\n",
    "            if entity == None:\n",
    "                entity = getPhraseThatContainsToken(sent, child)\n",
    "            return entity"
   ]
  },
  {
   "cell_type": "code",
   "execution_count": 183,
   "metadata": {},
   "outputs": [
    {
     "data": {
      "text/plain": [
       "['IronMan', 'Premiere', 'the Greater Union Theater', 'April 14, 2008']"
      ]
     },
     "execution_count": 183,
     "metadata": {},
     "output_type": "execute_result"
    }
   ],
   "source": [
    "parsePremiereNounPattern(s1)"
   ]
  },
  {
   "cell_type": "code",
   "execution_count": 184,
   "metadata": {},
   "outputs": [],
   "source": [
    "def getEntityRelatedByOF(sent, token):\n",
    "    for child in token.children: \n",
    "                #usually movie name for noun attached with \"on\"\n",
    "                if child.text in [\"of\"]:\n",
    "                    #['of', 'prep', 'premiere', 'NOUN', [IronMan]]\n",
    "                    for subChild in child.children:\n",
    "                        entity = getEntityThatContainsToken(sent, subChild)\n",
    "                        if(entity != None):\n",
    "                            return entity\n",
    "    return \"<no-match>\""
   ]
  },
  {
   "cell_type": "code",
   "execution_count": 60,
   "metadata": {},
   "outputs": [],
   "source": [
    "def getTimeOfVerbToken(sent, verbToken):\n",
    "    for child in verbToken.children: \n",
    "                #usually release time starts with \"on\"\n",
    "                if child.text in [\"on\",\"at\"]:\n",
    "                    #usually \"on\"'s child is [August] \n",
    "                    for subChild in child.children:\n",
    "                        temporalEntity = getTemporalThatContainsToken(sent, subChild)\n",
    "                        if(temporalEntity != None):\n",
    "                            return temporalEntity\n",
    "    return \"<no-match>\""
   ]
  },
  {
   "cell_type": "code",
   "execution_count": 114,
   "metadata": {},
   "outputs": [],
   "source": [
    "def getLocationOfVerbToken(sent, verbToken):\n",
    "    for child in verbToken.children: \n",
    "        #usually release location starts with \"in\"\n",
    "        if child.text in [\"in\",\"throughout\", \"at\"]:\n",
    "            for subChild in child.children:\n",
    "                GPEEntity = getLocationThatContainsToken(sent, subChild)\n",
    "                if(GPEEntity != None):\n",
    "                    return GPEEntity\n",
    "    return \"<no-match>\""
   ]
  },
  {
   "cell_type": "code",
   "execution_count": 115,
   "metadata": {},
   "outputs": [],
   "source": [
    "def getLocationThatContainsToken(statement, token):\n",
    "    doc = nlp (statement)\n",
    "    tokenStartPos = calculateStartPositionOfToken(statement, token)\n",
    "    for ent in doc.ents:\n",
    "        if(token.text in ent.text and ent.label_ != \"TIME\" and tokenStartPos >= ent.start_char and tokenStartPos <= ent.end_char):\n",
    "            return ent.text\n",
    "    return None"
   ]
  },
  {
   "cell_type": "code",
   "execution_count": 37,
   "metadata": {},
   "outputs": [],
   "source": [
    "import re\n",
    "def calculateStartPositionOfToken(statement, targetToken):\n",
    "    \"\"\"\n",
    "    this should return start position of the token\n",
    "    \"\"\"\n",
    "    matches = [m.start() for m in re.finditer(targetToken.text, statement)]\n",
    "    if(len(matches)==1):\n",
    "        return matches[0]\n",
    "    \n",
    "\n",
    "    huristicPosition = 0\n",
    "    doc = nlp(statement)\n",
    "    \n",
    "    i = 0\n",
    "    for token in doc:\n",
    "        if i < targetToken.i:\n",
    "            huristicPosition = huristicPosition + len(token.text)+1\n",
    "            i = i+1\n",
    "        else:\n",
    "            break\n",
    "        \n",
    "    distances = []\n",
    "    for match in matches:\n",
    "        distances.append(abs(match-huristicPosition))\n",
    "        \n",
    "    minIndex = distances.index(min(distances))\n",
    "    \n",
    "    return matches[minIndex]"
   ]
  },
  {
   "cell_type": "code",
   "execution_count": 58,
   "metadata": {},
   "outputs": [],
   "source": [
    "def getTemporalThatContainsToken(statement, token):\n",
    "    doc = nlp (statement)\n",
    "    tokenStartPos = calculateStartPositionOfToken(statement, token)\n",
    "    for ent in doc.ents:\n",
    "        if(token.text in ent.text and ent.label_ == \"DATE\" and tokenStartPos >= ent.start_char and tokenStartPos <= ent.end_char):\n",
    "            return ent.text\n",
    "    return None"
   ]
  },
  {
   "cell_type": "code",
   "execution_count": 130,
   "metadata": {},
   "outputs": [],
   "source": [
    "def getEntityThatContainsToken(statement, token):\n",
    "    doc = nlp (statement)\n",
    "    tokenStartPos = calculateStartPositionOfToken(statement, token)\n",
    "    for ent in doc.ents:\n",
    "        if(token.text in ent.text and tokenStartPos >= ent.start_char and tokenStartPos <= ent.end_char):\n",
    "            return ent.text\n",
    "    return None"
   ]
  },
  {
   "cell_type": "code",
   "execution_count": 142,
   "metadata": {},
   "outputs": [],
   "source": [
    "def getPhraseThatContainsToken(statement, token):\n",
    "    doc = nlp (statement)\n",
    "    tokenStartPos = calculateStartPositionOfToken(statement, token)\n",
    "    for chunk in doc.noun_chunks:\n",
    "        if(token.text in chunk.text and tokenStartPos >= chunk.start_char and tokenStartPos <= chunk.end_char):\n",
    "            return chunk.text\n",
    "    return None"
   ]
  },
  {
   "cell_type": "code",
   "execution_count": 91,
   "metadata": {},
   "outputs": [],
   "source": [
    "def printResult(result):\n",
    "    if(result!=None):\n",
    "        print(\"Movie Name:\"+result[0])\n",
    "        print(\"Event type:\"+result[1])\n",
    "        print(\"Location:\"+result[2])\n",
    "        print(\"Time:\"+result[3])\n",
    "    else:\n",
    "        print(\"Could not parse\")"
   ]
  },
  {
   "cell_type": "code",
   "execution_count": null,
   "metadata": {},
   "outputs": [],
   "source": []
  }
 ],
 "metadata": {
  "kernelspec": {
   "display_name": "Python 3",
   "language": "python",
   "name": "python3"
  },
  "language_info": {
   "codemirror_mode": {
    "name": "ipython",
    "version": 3
   },
   "file_extension": ".py",
   "mimetype": "text/x-python",
   "name": "python",
   "nbconvert_exporter": "python",
   "pygments_lexer": "ipython3",
   "version": "3.6.6"
  }
 },
 "nbformat": 4,
 "nbformat_minor": 2
}
