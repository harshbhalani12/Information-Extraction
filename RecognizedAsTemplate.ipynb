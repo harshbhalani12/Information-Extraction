{
 "cells": [
  {
   "cell_type": "code",
   "execution_count": 52,
   "metadata": {
    "collapsed": true
   },
   "outputs": [],
   "source": [
    "import spacy\n",
    "nlp = spacy.load('en')"
   ]
  },
  {
   "cell_type": "code",
   "execution_count": 89,
   "metadata": {
    "collapsed": true
   },
   "outputs": [],
   "source": [
    "s1 = \"The Angry Man was awarded the second-best courtroom drama ever by the American Film Institute in April 19, 2012.\"\n",
    "s2 = 'The Mission Impossible was nominated for Golden Globe Award.'\n",
    "s3 = 'The GodFather won Oscar Award for best screenplay in 2012.'\n",
    "s4 = 'The Mission Impossible was awarded Golden Globe Award.'\n",
    "s5 = 'It was awarded the preservation in the U.S. National Film Registry of the Library of Congress in 1990.'\n",
    "s6 = 'Godfather won the Oscars for Best Picture, Best Actor (Brando) and Best Adapted Screenplay (for Puzo and Coppola).'\n",
    "s7 = 'The Angry Man was nominated for Academy Awards in the categories of Best Director, Best Picture, and Best Writing of Adapted Screenplay.'\n"
   ]
  },
  {
   "cell_type": "code",
   "execution_count": 90,
   "metadata": {},
   "outputs": [
    {
     "name": "stdout",
     "output_type": "stream",
     "text": [
      "Matching with wriiten template: for The Angry Man was nominated for Academy Awards in the categories of Best Director, Best Picture, and Best Writing of Adapted Screenplay.\n",
      "Has valid verb:True\n",
      "Movie name : The Angry Man\n",
      "Recognizer name :  <no-match>\n",
      "Recognized As :  Academy Awards\n",
      "nominate\n",
      "Type recognition :  nomination\n",
      "Time :  <no-match>\n"
     ]
    }
   ],
   "source": [
    "sentence = s7\n",
    "parse(sentence)"
   ]
  },
  {
   "cell_type": "code",
   "execution_count": 92,
   "metadata": {
    "collapsed": true
   },
   "outputs": [],
   "source": [
    "def parse(statement1):\n",
    "    isValidForRecognizedAsTemplate = checkRecognizedAsTemplateEligibility(statement1)\n",
    "    if(isValidForRecognizedAsTemplate):\n",
    "\n",
    "        print(\"--------- Extracted Information -----------\")\n",
    "            \n",
    "        movieName = extractMovieName(statement1)\n",
    "        print(\"Movie name : \" + str(movieName))\n",
    "\n",
    "        recognizerName = extractRecognizerName(statement1)\n",
    "        print(\"Recognizer name : \" , recognizerName)\n",
    "\n",
    "        recognizedAs = extractRecognizedAs(statement1)\n",
    "        print(\"Recognized As : \" , recognizedAs)\n",
    "\n",
    "        typeOfRecognition = extractTypeOfRecoginition(statement1)\n",
    "        print(\"Type recognition : \" , typeOfRecognition)\n",
    "\n",
    "        year = extractYear(statement1)\n",
    "        print(\"Time : \" , year)\n",
    "    else:\n",
    "        print(\" NO - PARSE\")"
   ]
  },
  {
   "cell_type": "code",
   "execution_count": 58,
   "metadata": {},
   "outputs": [
    {
     "name": "stdout",
     "output_type": "stream",
     "text": [
      "Matching with wriiten template: for The Angry Man was awarded the second-best courtroom drama ever by the American Film Institute in April 19, 2012.\n",
      "Has valid verb:True\n",
      "extracted movie name is:The Angry Man\n",
      "extracted recognizer name is: the American Film Institute\n",
      "extracted recognized As is: the second-best courtroom drama\n",
      "extracted type recognition is: winner\n",
      "extracted year is: April 19, 2012\n"
     ]
    }
   ],
   "source": [
    "# statement1 = 'The Mission Impossible was nominated for Golden Globe Award.'\n",
    "# statement1 = 'The Mission Impossible won Golden Globe Award.'\n",
    "# statement1 = 'The Mission Impossible was awarded Golden Globe Award.'\n",
    "statement1 = 'The Angry Man was awarded the second-best courtroom drama ever by the American Film Institute in April 19, 2012.'\n",
    "\n",
    "isValidForRecognizedAsTemplate = checkRecognizedAsTemplateEligibility(statement1)\n",
    "if(isValidForRecognizedAsTemplate):\n",
    "    \n",
    "    movieName = extractMovieName(statement1)\n",
    "    print(\"extracted movie name is:\" + str(movieName))\n",
    "    \n",
    "    recognizerName = extractRecognizerName(statement1)\n",
    "    print(\"extracted recognizer name is:\" , recognizerName)\n",
    "    \n",
    "    recognizedAs = extractRecognizedAs(statement1)\n",
    "    print(\"extracted recognized As is:\" , recognizedAs)\n",
    "    \n",
    "    typeOfRecognition = extractTypeOfRecoginition(statement1)\n",
    "    print(\"extracted type recognition is:\" , typeOfRecognition)\n",
    "    \n",
    "    year = extractYear(statement1)\n",
    "    print(\"extracted year is:\" , year)\n",
    "\n"
   ]
  },
  {
   "cell_type": "code",
   "execution_count": 59,
   "metadata": {
    "collapsed": true
   },
   "outputs": [],
   "source": [
    "def extractMovieName(statement):\n",
    "    targetVerbLemmas = ['nominate','win', 'award']\n",
    "    verbText = getTargetVerbAsAppearedInStatement(statement, targetVerbLemmas)\n",
    "    verbTextDNode = next(obj for obj in get_dependency_tree_nodes(statement) if obj[0] == verbText)\n",
    "    movieName = \"<uninitialized>\"\n",
    "    \n",
    "#     handle when release is with premiered.\n",
    "    '''\n",
    "    while verbTextDNode[1] == 'conj':\n",
    "        verbText = verbTextDNode[2]\n",
    "        print(\"verbTextChanged to : \"+verbText)\n",
    "        verbTextDNode = next(obj for obj in get_dependency_tree_nodes(statement) if obj[0] == verbText)\n",
    "    '''\n",
    "\n",
    "    #print(\"vt:\"+verbText)\n",
    "\n",
    "    movieName = getMovie(statement,verbText)\n",
    "    \n",
    "    return movieName"
   ]
  },
  {
   "cell_type": "code",
   "execution_count": 60,
   "metadata": {
    "collapsed": true
   },
   "outputs": [],
   "source": [
    "def extractRecognizerName(statement):\n",
    "    targetVerbLemmas = ['nominate','win', 'award']\n",
    "    verbText = getTargetVerbAsAppearedInStatement(statement, targetVerbLemmas)\n",
    "    verbTextDNode = next(obj for obj in get_dependency_tree_nodes(statement) if obj[0] == verbText)\n",
    "    writerName = \"<uninitialized>\"\n",
    "    \n",
    "#     handle when release is with premiered.\n",
    "    while verbTextDNode[1] == 'conj':\n",
    "        verbText = verbTextDNode[2]\n",
    "        #print(\"verbTextChanged to\"+verbText)\n",
    "        verbTextDNode = next(obj for obj in get_dependency_tree_nodes(statement) if obj[0] == verbText)\n",
    "\n",
    "    #print(\"vt:\"+verbText)\n",
    "\n",
    "    writerName = getWriter(statement,verbText)\n",
    "    \n",
    "    return writerName"
   ]
  },
  {
   "cell_type": "code",
   "execution_count": 61,
   "metadata": {
    "collapsed": true
   },
   "outputs": [],
   "source": [
    "def extractRecognizedAs(statement):\n",
    "    targetVerbLemmas = ['nominate','win', 'award']\n",
    "    verbText = getTargetVerbAsAppearedInStatement(statement, targetVerbLemmas)\n",
    "    verbTextDNode = next(obj for obj in get_dependency_tree_nodes(statement) if obj[0] == verbText)\n",
    "    recognizedAs = \"<uninitialized>\"\n",
    "    \n",
    "    #print(\"vt:\"+verbText)\n",
    "\n",
    "    recognizedAs = getRecognizedAs(statement,verbText)\n",
    "    \n",
    "    return recognizedAs"
   ]
  },
  {
   "cell_type": "code",
   "execution_count": 91,
   "metadata": {
    "collapsed": true
   },
   "outputs": [],
   "source": [
    "def extractTypeOfRecoginition(statement):\n",
    "    targetVerbLemmas = ['nominate','win', 'award']\n",
    "    verbText = getTargetVerbAsAppearedInStatement(statement, targetVerbLemmas)\n",
    "    verbTextDNode = next(obj for obj in get_dependency_tree_nodes(statement) if obj[0] == verbText)\n",
    "    \n",
    "    typeOfRecognition = \"<uninitialized>\"\n",
    "    \n",
    "    verbTokens = filterVerbTokens(statement)\n",
    "    \n",
    "    \n",
    "    \n",
    "    for verbToken in verbTokens:\n",
    "        #print(verbToken.lemma_)\n",
    "        if (verbToken.lemma_ == 'nominate'):\n",
    "            typeOfRecognition = 'nomination'\n",
    "            return typeOfRecognition\n",
    "        elif (verbToken.lemma_ == 'win'):\n",
    "            typeOfRecognition = 'winner'\n",
    "            return typeOfRecognition\n",
    "        elif (verbToken.lemma_ == 'award'):\n",
    "            typeOfRecognition = 'winner'\n",
    "            return typeOfRecognition\n",
    "        else:\n",
    "            typeOfRecognition = '<no-match>'\n",
    "            return typeOfRecognition\n",
    "    \n",
    "    return typeOfRecognition"
   ]
  },
  {
   "cell_type": "code",
   "execution_count": 63,
   "metadata": {
    "collapsed": true
   },
   "outputs": [],
   "source": [
    "def extractYear(statement):\n",
    "    doc = nlp(statement)\n",
    "    for ent in doc.ents:\n",
    "        if (ent.label_ == \"DATE\" or ent.label_ == \"TIME\"):\n",
    "            return ent.text\n",
    "    \n",
    "    return \"<no-match>\""
   ]
  },
  {
   "cell_type": "code",
   "execution_count": 64,
   "metadata": {
    "collapsed": true
   },
   "outputs": [],
   "source": [
    "def getTargetVerbAsAppearedInStatement(statement, targetVerbLemmas):\n",
    "    \"\"\"\n",
    "    this will reutrn exact apperance of verb in statement.\n",
    "    ex: statement = \"Movie was written by James.\", targetVerbLemmas = ['write','script']\n",
    "    this will return \"written\" as it's lemma matches with one of the targetVerbLemmas\n",
    "    \"\"\"\n",
    "    verbTokens = filterVerbTokens(statement)\n",
    "    for token in verbTokens:\n",
    "        if token.lemma_ in targetVerbLemmas:\n",
    "            return token.text\n",
    "    return \"<no-match>\""
   ]
  },
  {
   "cell_type": "code",
   "execution_count": 65,
   "metadata": {
    "collapsed": true
   },
   "outputs": [],
   "source": [
    "def getNounSubject(statement, verbText):\n",
    "    doc = nlp(statement)\n",
    "    for token in doc:\n",
    "        #print(token.text, token.dep_, token.head.text)\n",
    "        if((token.dep_ == \"nsubjpass\" or token.dep_ == \"nsubj\") and token.head.text == verbText):\n",
    "            return token.text\n",
    "    return \"<no-match>\""
   ]
  },
  {
   "cell_type": "code",
   "execution_count": null,
   "metadata": {
    "collapsed": true
   },
   "outputs": [],
   "source": []
  },
  {
   "cell_type": "code",
   "execution_count": 66,
   "metadata": {
    "collapsed": true
   },
   "outputs": [],
   "source": [
    "def getMovie(statement, verbText):\n",
    "    doc = nlp(statement)\n",
    "    theme = \"<uninitialized>\" #movie\n",
    "    \n",
    "    for token in doc:\n",
    "        #print(token.text, token.dep_, token.head.text)        \n",
    "        if (token.dep_ == \"nsubjpass\" and token.head.text == verbText):\n",
    "            #print(\"token nsubjpass : \" + token.text)\n",
    "            theme = getNounChunkThatContainsNoun(statement, token)\n",
    "            return theme\n",
    "        if (token.dep_ == \"nsubj\" and token.head.text == verbText):\n",
    "            #print(\"token nsubj : \" + token.text)\n",
    "            theme = getNounChunkThatContainsNoun(statement, token)\n",
    "            return theme\n",
    "        elif (token.dep_ == \"dobj\" and token.head.text == verbText):\n",
    "            theme = getNounChunkThatContainsNoun(statement, token)\n",
    "            return theme\n",
    "        elif ((token.dep_ == \"conj\" and token.head.text == verbText) or (token.dep_ == \"conj\" and token.text == verbText)):\n",
    "            #print(\"token conj : \" + token.text)\n",
    "            if (token.head.dep_ == \"ROOT\"):\n",
    "                #print(\"token.head: \" + token.head.text)\n",
    "                token1 = token.head\n",
    "                return getMovie(statement, token1.text)\n",
    "                '''\n",
    "                if (token.dep_ == \"nsubjpass\" and token.head.text == token1.text):\n",
    "                    theme = getNounChunkThatContainsNoun(statement, token)\n",
    "                    return theme\n",
    "                '''\n",
    "    \n",
    "    return \"<no-match>\""
   ]
  },
  {
   "cell_type": "code",
   "execution_count": 67,
   "metadata": {
    "collapsed": true
   },
   "outputs": [],
   "source": [
    "def getWriter(statement, verbText):\n",
    "    doc = nlp(statement)\n",
    "    agent = \"<uninitialized>\" #writer\n",
    "    '''\n",
    "    for token in doc:\n",
    "        #print(token.text, token.dep_, token.head.text)        \n",
    "        if (token.dep_ == \"agent\" and token.head.text == verbText):\n",
    "            token = [child for child in token.children][0]\n",
    "            agent = getNounChunkThatContainsNoun(statement, token)\n",
    "            return agent\n",
    "        elif (token.dep_ == \"nsubj\" and token.head.text == verbText):\n",
    "            agent = getNounChunkThatContainsNoun(statement, token)\n",
    "            return agent\n",
    "    '''\n",
    "    \n",
    "    for token in doc:\n",
    "        #print(\"token:\",token)\n",
    "        '''\n",
    "        if (token.dep_ == \"agent\" and token.head.text == verbText):\n",
    "            token = [child for child in token.children][0]\n",
    "            agent = getNounChunkThatContainsNoun(statement, token)\n",
    "            print(\"Agent (agent) : \" + agent)\n",
    "            return agent\n",
    "        '''\n",
    "        if (token.dep_ == \"nsubj\" and token.head.text == verbText):\n",
    "            agent = getNounChunkThatContainsNoun(statement, token)\n",
    "            #print(\"Agent (nsubj) : \" + agent)\n",
    "            return agent\n",
    "        \n",
    "        elif((token.dep_ == \"conj\" and token.head.text == verbText) or (token.dep_ == \"conj\" and token.text == verbText)):\n",
    "            agent = extractOwnerEntitySyntactically(statement)\n",
    "            return agent\n",
    "        \n",
    "        elif(token.head.text == verbText or token.text == verbText):\n",
    "            # agent = extractOwnerEntitySyntactically(statement)\n",
    "            agent = getByEntity(statement)\n",
    "            return agent\n",
    "        \n",
    "    return agent"
   ]
  },
  {
   "cell_type": "code",
   "execution_count": 68,
   "metadata": {
    "collapsed": true
   },
   "outputs": [],
   "source": [
    "def getByEntity(statement):\n",
    "    doc = nlp(statement)\n",
    "    \n",
    "    for token in doc:\n",
    "        if token.text == \"by\":\n",
    "            for child in token.children:\n",
    "                if (getORGorPersonThatContainsToken(statement, child) != \"<no-match>\"):\n",
    "                    return getORGorPersonThatContainsToken(statement, child)\n",
    "    return \"<no-match>\""
   ]
  },
  {
   "cell_type": "code",
   "execution_count": 69,
   "metadata": {
    "collapsed": true
   },
   "outputs": [],
   "source": [
    "def extractOwnerEntitySyntactically(statement):\n",
    "    doc = nlp(statement)\n",
    "    verbTokens = filterVerbTokens(statement)\n",
    "    ORGEntity = []\n",
    "    \n",
    "    for token in verbTokens:\n",
    "        if isExpectedVerbToken(token):\n",
    "            #print(\"Expected token is:\"+token.text)\n",
    "            #expected children [was, theatrically, in, on, by]\n",
    "            byToken = None\n",
    "            for child in token.children: \n",
    "                #usually release location starts with \"in\"\n",
    "                if child.text == \"by\":\n",
    "                    byToken = child\n",
    "             \n",
    "            #print(\"bytoken : ->\", byToken)\n",
    "            if byToken == None:\n",
    "                #means no direct by available so lets look at some conj child\n",
    "                for child in token.children: \n",
    "                    #usually release location starts with \"in\"\n",
    "                    if child.dep_ == \"conj\":\n",
    "                        for grandChild in child.children:\n",
    "                            if grandChild.text == \"by\":\n",
    "                                byToken = grandChild\n",
    "            \n",
    "            if byToken != None:\n",
    "                for subChild in byToken.children:\n",
    "                    ORGEntity.append(getORGorPersonThatContainsToken(statement, subChild))\n",
    "                    #print(\"subchild : \" + subChild.text)\n",
    "                    if (subChild.dep_ == \"pobj\" and subChild.head.text == \"by\"):\n",
    "                        grandChildren = subChild.children\n",
    "                        childEntity = getORGEntityForGrandChild1(statement, grandChildren, ORGEntity)\n",
    "                        #print(\"child entity:    \" , str(childEntity))\n",
    "                        return list(set(childEntity))\n",
    "                        #ORGEntity.clear()\n",
    "                        #for item in childEntity:\n",
    "                            #ORGEntity.append(item)\n",
    "                    return ORGEntity\n",
    "    return \"<no-match>\""
   ]
  },
  {
   "cell_type": "code",
   "execution_count": 70,
   "metadata": {
    "collapsed": true
   },
   "outputs": [],
   "source": [
    "def getORGEntityForGrandChild1(statement, children, ORGEntity):\n",
    "    '''\n",
    "    New definition\n",
    "    '''\n",
    "    doc = nlp(statement)\n",
    "    \n",
    "    for child in children:\n",
    "        sizeChild = sum(1 for item in child.children)\n",
    "        #print(child, sizeChild)\n",
    "        if sizeChild > 0:\n",
    "            ORGEntity.append(getORGorPersonThatContainsToken(statement, child))\n",
    "            print(ORGEntity)\n",
    "            #ORGEntity.append(getORGEntityForGrandChild1(statement, child.children, ORGEntity))\n",
    "            getORGEntityForGrandChild1(statement, child.children, ORGEntity)\n",
    "        if sizeChild == 0:\n",
    "            if (getORGorPersonThatContainsToken(statement, child) != \"<no-match>\"):\n",
    "                ORGEntity.append(getORGorPersonThatContainsToken(statement, child))\n",
    "    \n",
    "    return ORGEntity"
   ]
  },
  {
   "cell_type": "code",
   "execution_count": 71,
   "metadata": {
    "collapsed": true
   },
   "outputs": [],
   "source": [
    "def getRecognizedAs(statement, verbText):\n",
    "    doc = nlp(statement)\n",
    "    \n",
    "    verbTokens = filterVerbTokens(statement)\n",
    "    \n",
    "    recognizedAs = \"<uninitialized>\"\n",
    "    \n",
    "    for token in verbTokens:\n",
    "        if token.lemma_ == \"nominate\":\n",
    "            #print(token, token.lemma_)\n",
    "            recognizedAs = getInfoNominateFor(statement, token.text, doc)\n",
    "            return recognizedAs\n",
    "        \n",
    "        elif token.lemma_ == \"win\" or token.lemma_ == \"award\":\n",
    "            #print(token)\n",
    "            recognizedAs = getInfoAwardWin(statement, token.text, doc)\n",
    "            return recognizedAs\n",
    "        \n",
    "        else:\n",
    "            print(\"no word match\")\n",
    "    \n",
    "    return \"<no-match>\""
   ]
  },
  {
   "cell_type": "code",
   "execution_count": 72,
   "metadata": {
    "collapsed": true
   },
   "outputs": [],
   "source": [
    "def getInfoNominateFor(statement, verbText, doc):\n",
    "    \n",
    "    nominationFor = \"<uninitialized>\"\n",
    "    \n",
    "    for token in doc:\n",
    "        if (token.text == \"for\" and token.head.text == verbText):\n",
    "            child = [child for child in token.children][0]\n",
    "            nominationFor = getORGorPersonThatContainsToken(statement, child)\n",
    "            return nominationFor\n",
    "    \n",
    "    return \"<no-match>\"        "
   ]
  },
  {
   "cell_type": "code",
   "execution_count": 73,
   "metadata": {
    "collapsed": true
   },
   "outputs": [],
   "source": [
    "def getInfoAwardWin(statement, verbText, doc):\n",
    "    awardOf = \"<uninitialized>\"\n",
    "    \n",
    "    for token in doc:\n",
    "        if (token.dep_ == \"dobj\" and token.head.text == verbText):\n",
    "            awardOf = getORGorPersonThatContainsToken(statement, token)\n",
    "            # print(\"award of : \", awardOf)\n",
    "            if (awardOf == \"<no-match>\"):\n",
    "                awardOf = getNounChunkThatContainsNoun(statement, token)\n",
    "            return awardOf\n",
    "    \n",
    "    return \"<no-match>\""
   ]
  },
  {
   "cell_type": "code",
   "execution_count": 74,
   "metadata": {
    "collapsed": true
   },
   "outputs": [],
   "source": [
    "def isExpectedVerbToken(token):\n",
    "    return (token.lemma_ in [\"nominate\"] or token.lemma_ in [\"win\"] or token.lemma_ in [\"award\"])"
   ]
  },
  {
   "cell_type": "code",
   "execution_count": 29,
   "metadata": {
    "collapsed": true
   },
   "outputs": [],
   "source": [
    "def getORGorPersonThatContainsToken(statement, token):\n",
    "    doc = nlp (statement)\n",
    "    tokenStartPos = calculateStartPositionOfToken(statement, token)\n",
    "    for ent in doc.ents:\n",
    "        if(token.text in ent.text and tokenStartPos >= ent.start_char and tokenStartPos <= ent.end_char):\n",
    "            return ent.text\n",
    "    return \"<no-match>\""
   ]
  },
  {
   "cell_type": "code",
   "execution_count": 30,
   "metadata": {
    "collapsed": true
   },
   "outputs": [],
   "source": [
    "import re\n",
    "def calculateStartPositionOfToken(statement, targetToken):\n",
    "    \"\"\"\n",
    "    this should return start position of the token\n",
    "    \"\"\"\n",
    "    matches = [m.start() for m in re.finditer(targetToken.text, statement)]\n",
    "    if(len(matches)==1):\n",
    "        return matches[0]\n",
    "    \n",
    "\n",
    "    huristicPosition = 0\n",
    "    doc = nlp(statement)\n",
    "    \n",
    "    i = 0\n",
    "    for token in doc:\n",
    "        if i < targetToken.i:\n",
    "            huristicPosition = huristicPosition + len(token.text)+1\n",
    "            i = i+1\n",
    "        else:\n",
    "            break\n",
    "        \n",
    "    distances = []\n",
    "    for match in matches:\n",
    "        distances.append(abs(match-huristicPosition))\n",
    "        \n",
    "    minIndex = distances.index(min(distances))\n",
    "    \n",
    "    return matches[minIndex]\n"
   ]
  },
  {
   "cell_type": "code",
   "execution_count": 31,
   "metadata": {
    "collapsed": true
   },
   "outputs": [],
   "source": [
    "def getNounChunkThatContainsNoun(statement, nounSubject):\n",
    "    doc = nlp(statement)\n",
    "    for chunk in doc.noun_chunks:\n",
    "        if nounSubject.text in chunk.text:\n",
    "            return chunk.text\n",
    "    return \"<no-match>\""
   ]
  },
  {
   "cell_type": "code",
   "execution_count": 32,
   "metadata": {
    "collapsed": true
   },
   "outputs": [],
   "source": [
    "def checkRecognizedAsTemplateEligibility(statement):\n",
    "    print(\"Matching with wriiten template: for \" + statement)\n",
    "    hasValidVerb = check_verb_match(statement)\n",
    "    print(\"Has valid verb:\" + str(hasValidVerb))\n",
    "    \n",
    "    return hasValidVerb"
   ]
  },
  {
   "cell_type": "code",
   "execution_count": 33,
   "metadata": {
    "collapsed": true
   },
   "outputs": [],
   "source": [
    "def check_verb_match(statement):\n",
    "    verbTokens = filterVerbTokens(statement)\n",
    "    targetVerbs = ['nominate','win', 'award']\n",
    "    for token in verbTokens:\n",
    "        if token.lemma_ in targetVerbs:\n",
    "            return True\n",
    "    return False"
   ]
  },
  {
   "cell_type": "code",
   "execution_count": 34,
   "metadata": {
    "collapsed": true
   },
   "outputs": [],
   "source": [
    "def filterVerbTokens(statement):\n",
    "    doc = nlp(statement)\n",
    "    result = list(filter(lambda token: token.pos_ == \"VERB\" and token.lemma_ != \"be\", doc))\n",
    "    return result"
   ]
  },
  {
   "cell_type": "code",
   "execution_count": null,
   "metadata": {
    "collapsed": true
   },
   "outputs": [],
   "source": []
  },
  {
   "cell_type": "code",
   "execution_count": 35,
   "metadata": {
    "collapsed": true
   },
   "outputs": [],
   "source": [
    "def get_dependency_tree_nodes(sentence):\n",
    "    nodes = []\n",
    "    doc = nlp(sentence)\n",
    "    for token in doc:\n",
    "        nodes.append([token.text, token.dep_, token.head.text, token.head.pos_,\n",
    "          [child for child in token.children]])\n",
    "    return nodes"
   ]
  },
  {
   "cell_type": "code",
   "execution_count": 36,
   "metadata": {},
   "outputs": [
    {
     "data": {
      "text/plain": [
       "[['The', 'det', 'Impossible', 'PROPN', []],\n",
       " ['Mission', 'compound', 'Impossible', 'PROPN', []],\n",
       " ['Impossible', 'nsubjpass', 'nominated', 'VERB', [The, Mission]],\n",
       " ['was', 'auxpass', 'nominated', 'VERB', []],\n",
       " ['nominated', 'ROOT', 'nominated', 'VERB', [Impossible, was, for, .]],\n",
       " ['for', 'prep', 'nominated', 'VERB', [Award]],\n",
       " ['Golden', 'compound', 'Globe', 'PROPN', []],\n",
       " ['Globe', 'compound', 'Award', 'PROPN', [Golden]],\n",
       " ['Award', 'pobj', 'for', 'ADP', [Globe]],\n",
       " ['.', 'punct', 'nominated', 'VERB', []]]"
      ]
     },
     "execution_count": 36,
     "metadata": {},
     "output_type": "execute_result"
    }
   ],
   "source": [
    "get_dependency_tree_nodes('The Mission Impossible was nominated for Golden Globe Award.')"
   ]
  },
  {
   "cell_type": "code",
   "execution_count": 37,
   "metadata": {},
   "outputs": [
    {
     "data": {
      "text/plain": [
       "[['The', 'det', 'Impossible', 'PROPN', []],\n",
       " ['Mission', 'compound', 'Impossible', 'PROPN', []],\n",
       " ['Impossible', 'nsubjpass', 'awarded', 'VERB', [The, Mission]],\n",
       " ['was', 'auxpass', 'awarded', 'VERB', []],\n",
       " ['awarded', 'ROOT', 'awarded', 'VERB', [Impossible, was, Award, .]],\n",
       " ['Golden', 'compound', 'Globe', 'PROPN', []],\n",
       " ['Globe', 'compound', 'Award', 'PROPN', [Golden]],\n",
       " ['Award', 'dobj', 'awarded', 'VERB', [Globe]],\n",
       " ['.', 'punct', 'awarded', 'VERB', []]]"
      ]
     },
     "execution_count": 37,
     "metadata": {},
     "output_type": "execute_result"
    }
   ],
   "source": [
    "get_dependency_tree_nodes('The Mission Impossible was awarded Golden Globe Award.')"
   ]
  },
  {
   "cell_type": "code",
   "execution_count": 38,
   "metadata": {},
   "outputs": [
    {
     "data": {
      "text/plain": [
       "[['The', 'det', 'Impossible', 'PROPN', []],\n",
       " ['Mission', 'compound', 'Impossible', 'PROPN', []],\n",
       " ['Impossible', 'nsubj', 'won', 'VERB', [The, Mission]],\n",
       " ['won', 'ROOT', 'won', 'VERB', [Impossible, Globe, .]],\n",
       " ['Golden', 'compound', 'Globe', 'PROPN', []],\n",
       " ['Globe', 'dobj', 'won', 'VERB', [Golden]],\n",
       " ['.', 'punct', 'won', 'VERB', []]]"
      ]
     },
     "execution_count": 38,
     "metadata": {},
     "output_type": "execute_result"
    }
   ],
   "source": [
    "get_dependency_tree_nodes('The Mission Impossible won Golden Globe.')"
   ]
  },
  {
   "cell_type": "code",
   "execution_count": 39,
   "metadata": {
    "scrolled": true
   },
   "outputs": [
    {
     "data": {
      "text/plain": [
       "[['The', 'det', 'Man', 'PROPN', []],\n",
       " ['Angry', 'compound', 'Man', 'PROPN', []],\n",
       " ['Man', 'nsubjpass', 'awarded', 'VERB', [The, Angry]],\n",
       " ['was', 'auxpass', 'awarded', 'VERB', []],\n",
       " ['awarded', 'ROOT', 'awarded', 'VERB', [Man, was, drama, .]],\n",
       " ['the', 'det', 'drama', 'NOUN', []],\n",
       " ['second', 'advmod', 'best', 'ADJ', []],\n",
       " ['-', 'punct', 'best', 'ADJ', []],\n",
       " ['best', 'amod', 'drama', 'NOUN', [second, -]],\n",
       " ['courtroom', 'compound', 'drama', 'NOUN', []],\n",
       " ['drama', 'dobj', 'awarded', 'VERB', [the, best, courtroom, by]],\n",
       " ['ever', 'advmod', 'by', 'ADP', []],\n",
       " ['by', 'prep', 'drama', 'NOUN', [ever, Institute]],\n",
       " ['the', 'det', 'Institute', 'PROPN', []],\n",
       " ['American', 'compound', 'Institute', 'PROPN', []],\n",
       " ['Film', 'compound', 'Institute', 'PROPN', []],\n",
       " ['Institute', 'pobj', 'by', 'ADP', [the, American, Film]],\n",
       " ['.', 'punct', 'awarded', 'VERB', []]]"
      ]
     },
     "execution_count": 39,
     "metadata": {},
     "output_type": "execute_result"
    }
   ],
   "source": [
    "get_dependency_tree_nodes('The Angry Man was awarded the second-best courtroom drama ever by the American Film Institute.')"
   ]
  },
  {
   "cell_type": "code",
   "execution_count": null,
   "metadata": {
    "collapsed": true
   },
   "outputs": [],
   "source": []
  },
  {
   "cell_type": "code",
   "execution_count": null,
   "metadata": {
    "collapsed": true
   },
   "outputs": [],
   "source": []
  },
  {
   "cell_type": "code",
   "execution_count": 40,
   "metadata": {},
   "outputs": [
    {
     "name": "stdout",
     "output_type": "stream",
     "text": [
      "Dark Knight\n",
      "Aneesh\n",
      "his feature debut\n",
      "Chaganty\n",
      "Sev Ohanian\n",
      "John\n"
     ]
    }
   ],
   "source": [
    "doc = nlp(\"Dark Knight is directed by Aneesh in his feature debut and written by Chaganty, Sev Ohanian and John.\")\n",
    "for chunk in doc.noun_chunks:\n",
    "    print(chunk)"
   ]
  },
  {
   "cell_type": "code",
   "execution_count": 41,
   "metadata": {},
   "outputs": [
    {
     "name": "stdout",
     "output_type": "stream",
     "text": [
      "The Angry Man 0 13 PERSON\n",
      "second 30 36 ORDINAL\n",
      "the American Film Institute 66 93 ORG\n"
     ]
    }
   ],
   "source": [
    "doc = nlp (\"The Angry Man was awarded the second-best courtroom drama ever by the American Film Institute.\")\n",
    "for ent in doc.ents:\n",
    "    print(ent.text, ent.start_char, ent.end_char, ent.label_)"
   ]
  },
  {
   "cell_type": "code",
   "execution_count": null,
   "metadata": {
    "collapsed": true
   },
   "outputs": [],
   "source": []
  },
  {
   "cell_type": "code",
   "execution_count": null,
   "metadata": {
    "collapsed": true
   },
   "outputs": [],
   "source": []
  }
 ],
 "metadata": {
  "kernelspec": {
   "display_name": "Python 3",
   "language": "python",
   "name": "python3"
  },
  "language_info": {
   "codemirror_mode": {
    "name": "ipython",
    "version": 3
   },
   "file_extension": ".py",
   "mimetype": "text/x-python",
   "name": "python",
   "nbconvert_exporter": "python",
   "pygments_lexer": "ipython3",
   "version": "3.6.7"
  }
 },
 "nbformat": 4,
 "nbformat_minor": 2
}
