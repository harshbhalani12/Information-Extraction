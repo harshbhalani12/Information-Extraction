{
 "cells": [
  {
   "cell_type": "code",
   "execution_count": 7,
   "metadata": {
    "collapsed": true
   },
   "outputs": [],
   "source": [
    "import spacy\n",
    "nlp = spacy.load('en')"
   ]
  },
  {
   "cell_type": "code",
   "execution_count": 65,
   "metadata": {
    "collapsed": true
   },
   "outputs": [],
   "source": [
    "s1 = \"The role of Gillian B. Loeb was played by Colin McFarlane in 2013.\"\n",
    "s2 = \"Colin McFarlane reprises his role as Gillian B. Loeb, the Police Commissioner of Gotham.\"\n",
    "s3 = \"The role of Gillian B. Loeb was played by Colin McFarlane in 2013.\"\n",
    "s4 = \"Sebastian Stan reprising his role as Bucky Barnes.\"\n",
    "s5 = \"Terrence Howard was announced in the role of Jim Rhodes in October 2006.\"\n",
    "s6 = \"Sebastian Stan makes an uncredited appearance in the post-credits scene reprising his role as Bucky Barnes.\"\n",
    "s7 = \"the role of Sonny Corleone was awarded to Carmine Caridi.\"\n",
    "s8 = \"Robert Downey played role of IronMan.\""
   ]
  },
  {
   "cell_type": "code",
   "execution_count": 116,
   "metadata": {},
   "outputs": [
    {
     "name": "stdout",
     "output_type": "stream",
     "text": [
      "Matching with Played role template for : 'Robert Downey played role of IronMan.'\n",
      "--------- Extracted Information -----------\n",
      "Actor name :  Robert Downey\n",
      "character name :  IronMan\n",
      "Time : <no-match>\n"
     ]
    }
   ],
   "source": [
    "sentence = s8\n",
    "parse(sentence)"
   ]
  },
  {
   "cell_type": "code",
   "execution_count": 95,
   "metadata": {
    "collapsed": true
   },
   "outputs": [],
   "source": [
    "def parse(statement1):\n",
    "    isValidForPlayedRoleTemplate = checkPlayedRoleTemplateEligibility(statement1)\n",
    "    if(isValidForPlayedRoleTemplate):\n",
    "        #print(\"is Valid? : \" , isValidForPlayedRoleTemplate)\n",
    "        print(\"--------- Extracted Information -----------\")\n",
    "        \n",
    "        actorName = extractActorName(statement1)\n",
    "        print(\"Actor name : \" , actorName)\n",
    "\n",
    "        characterName = extractCharacterName(statement1)\n",
    "        print(\"character name : \" , characterName)\n",
    "\n",
    "        year = extractYear(statement1)\n",
    "        print(\"Time :\" , year)\n",
    "    else:\n",
    "        print(\"NO - PARSE\")"
   ]
  },
  {
   "cell_type": "code",
   "execution_count": 11,
   "metadata": {},
   "outputs": [
    {
     "ename": "NameError",
     "evalue": "name 'checkPlayedRoleTemplateEligibility' is not defined",
     "output_type": "error",
     "traceback": [
      "\u001b[1;31m---------------------------------------------------------------------------\u001b[0m",
      "\u001b[1;31mNameError\u001b[0m                                 Traceback (most recent call last)",
      "\u001b[1;32m<ipython-input-11-f17e0ce0f7b5>\u001b[0m in \u001b[0;36m<module>\u001b[1;34m()\u001b[0m\n\u001b[0;32m      6\u001b[0m \u001b[1;31m# statement1 = \"the role of Sonny Corleone was awarded to Carmine Caridi.\"\u001b[0m\u001b[1;33m\u001b[0m\u001b[1;33m\u001b[0m\u001b[1;33m\u001b[0m\u001b[0m\n\u001b[0;32m      7\u001b[0m \u001b[1;33m\u001b[0m\u001b[0m\n\u001b[1;32m----> 8\u001b[1;33m \u001b[0misValidForPlayedRoleTemplate\u001b[0m \u001b[1;33m=\u001b[0m \u001b[0mcheckPlayedRoleTemplateEligibility\u001b[0m\u001b[1;33m(\u001b[0m\u001b[0mstatement1\u001b[0m\u001b[1;33m)\u001b[0m\u001b[1;33m\u001b[0m\u001b[1;33m\u001b[0m\u001b[0m\n\u001b[0m\u001b[0;32m      9\u001b[0m \u001b[1;32mif\u001b[0m\u001b[1;33m(\u001b[0m\u001b[0misValidForPlayedRoleTemplate\u001b[0m\u001b[1;33m)\u001b[0m\u001b[1;33m:\u001b[0m\u001b[1;33m\u001b[0m\u001b[1;33m\u001b[0m\u001b[0m\n\u001b[0;32m     10\u001b[0m     \u001b[0mprint\u001b[0m\u001b[1;33m(\u001b[0m\u001b[1;34m\"is Valid? : \"\u001b[0m \u001b[1;33m,\u001b[0m \u001b[0misValidForPlayedRoleTemplate\u001b[0m\u001b[1;33m)\u001b[0m\u001b[1;33m\u001b[0m\u001b[1;33m\u001b[0m\u001b[0m\n",
      "\u001b[1;31mNameError\u001b[0m: name 'checkPlayedRoleTemplateEligibility' is not defined"
     ]
    }
   ],
   "source": [
    "# statement1 = \"Colin McFarlane reprises his role as Gillian B. Loeb, the Police Commissioner of Gotham.\"\n",
    "statement1 = \"The role of Gillian B. Loeb was played by Colin McFarlane in 2013.\"\n",
    "# statement1 = \"Sebastian Stan reprising his role as Bucky Barnes.\"\n",
    "# statement1 = \"Terrence Howard was announced in the role of Jim Rhodes in October 2006.\"\n",
    "# statement1 = \"Sebastian Stan makes an uncredited appearance in the post-credits scene reprising his role as Bucky Barnes.\"\n",
    "# statement1 = \"the role of Sonny Corleone was awarded to Carmine Caridi.\"\n",
    "\n",
    "isValidForPlayedRoleTemplate = checkPlayedRoleTemplateEligibility(statement1)\n",
    "if(isValidForPlayedRoleTemplate):\n",
    "    print(\"is Valid? : \" , isValidForPlayedRoleTemplate)\n",
    "    actorName = extractActorName(statement1)\n",
    "    print(\"Extracted Actor name : \" , actorName)\n",
    "\n",
    "    characterName = extractCharacterName(statement1)\n",
    "    print(\"Extracted character name : \" , characterName)\n",
    "\n",
    "    year = extractYear(statement1)\n",
    "    print(\"extracted year is:\" , year)"
   ]
  },
  {
   "cell_type": "code",
   "execution_count": null,
   "metadata": {
    "collapsed": true
   },
   "outputs": [],
   "source": []
  },
  {
   "cell_type": "code",
   "execution_count": 96,
   "metadata": {
    "collapsed": true
   },
   "outputs": [],
   "source": [
    "def extractActorName(statement):\n",
    "    targetVerbLemmas = ['play', 'reprise', 'announce', 'award']\n",
    "    verbText = getTargetVerbAsAppearedInStatement(statement, targetVerbLemmas)\n",
    "    verbTextDNode = next(obj for obj in get_dependency_tree_nodes(statement) if obj[0] == verbText)\n",
    "    \n",
    "    #print(verbText, verbTextDNode)\n",
    "    actorName = \"<uninitialized>\"\n",
    "    \n",
    "    actorName = getActor(statement, verbText)\n",
    "    \n",
    "    return actorName"
   ]
  },
  {
   "cell_type": "code",
   "execution_count": 97,
   "metadata": {
    "collapsed": true
   },
   "outputs": [],
   "source": [
    "def extractCharacterName(statement):\n",
    "    targetVerbLemmas = ['play', 'reprise', 'announce', 'award']\n",
    "    verbText = getTargetVerbAsAppearedInStatement(statement, targetVerbLemmas)\n",
    "    verbTextDNode = next(obj for obj in get_dependency_tree_nodes(statement) if obj[0] == verbText)\n",
    "    characterName = \"<uninitialized>\"\n",
    "    \n",
    "#     handle when release is with premiered.\n",
    "    '''\n",
    "    while verbTextDNode[1] == 'conj':\n",
    "        verbText = verbTextDNode[2]\n",
    "        print(\"verbTextChanged to : \"+verbText)\n",
    "        verbTextDNode = next(obj for obj in get_dependency_tree_nodes(statement) if obj[0] == verbText)\n",
    "    '''\n",
    "\n",
    "    #print(\"vt:\"+verbText)\n",
    "\n",
    "    characterName = getCharacter(statement,verbText)\n",
    "    \n",
    "    return characterName"
   ]
  },
  {
   "cell_type": "code",
   "execution_count": 98,
   "metadata": {
    "collapsed": true
   },
   "outputs": [],
   "source": [
    "def extractYear(statement):\n",
    "    doc = nlp(statement)\n",
    "    for ent in doc.ents:\n",
    "        if (ent.label_ == \"DATE\" or ent.label_ == \"TIME\"):\n",
    "            return ent.text\n",
    "    \n",
    "    return \"<no-match>\""
   ]
  },
  {
   "cell_type": "code",
   "execution_count": 99,
   "metadata": {
    "collapsed": true
   },
   "outputs": [],
   "source": [
    "def getActor(statement, verbText):\n",
    "    \n",
    "    doc = nlp(statement)\n",
    "    \n",
    "    for token in doc:\n",
    "        if (token.dep_ == \"nsubj\" and token.head.text == verbText):\n",
    "            #print(\"token nsubj : \" + token.text)\n",
    "            agent = getNounChunkThatContainsNoun(statement, token)\n",
    "            return agent\n",
    "        \n",
    "        elif (token.dep_ == \"nsubjpass\" and token.head.lemma_ == \"announce\"):\n",
    "            agent = getNounChunkThatContainsNoun(statement, token)\n",
    "            return agent\n",
    "        \n",
    "        elif (token.head.text == verbText or token.text == verbText):\n",
    "            agent = extractOwnerEntitySyntactically(statement)\n",
    "            return agent\n",
    "        "
   ]
  },
  {
   "cell_type": "code",
   "execution_count": 100,
   "metadata": {
    "collapsed": true
   },
   "outputs": [],
   "source": [
    "def getCharacter(statement, verbText):\n",
    "    doc = nlp(statement)\n",
    "    theme = \"<uninitialized>\" #movie\n",
    "    \n",
    "    \n",
    "    if (check_word_pattern(statement, \" role of \")):\n",
    "        for token in doc:\n",
    "            if (token.head.text == \"of\"):\n",
    "                if (token.head.head.text == \"role\"):\n",
    "                    theme = getNounChunkThatContainsNoun(statement, token)\n",
    "                    return theme\n",
    "                \n",
    "    else:\n",
    "        for token in doc:\n",
    "            if ((token.text == \"as\" and token.head.text == verbText) or (token.text == \"as\" and token.head.text == \"role\")):\n",
    "                for child in token.children:\n",
    "                    theme = getNounChunkThatContainsNoun(statement, child)\n",
    "                    return theme\n",
    "    '''\n",
    "    for token in doc:\n",
    "        #print(token.text, token.dep_, token.head.text)        \n",
    "        if (check_word_pattern(statement, \" role of \")):\n",
    "            print(\"token nsubjpass : \" + token.text)\n",
    "            \n",
    "            theme = getNounChunkThatContainsNoun(statement, token)\n",
    "            return theme\n",
    "        elif (token.dep_ == \"dobj\" and token.head.text == verbText):\n",
    "            theme = getNounChunkThatContainsNoun(statement, token)\n",
    "            return theme\n",
    "        elif ((token.dep_ == \"conj\" and token.head.text == verbText) or (token.dep_ == \"conj\" and token.text == verbText)):\n",
    "            print(\"token conj : \" + token.text)\n",
    "            if (token.head.dep_ == \"ROOT\"):\n",
    "                print(\"token.head: \" + token.head.text)\n",
    "                token1 = token.head\n",
    "                return getMovie(statement, token1.text)\n",
    "                \n",
    "                \n",
    "                if (token.dep_ == \"nsubjpass\" and token.head.text == token1.text):\n",
    "                    theme = getNounChunkThatContainsNoun(statement, token)\n",
    "                    return theme\n",
    "                '''\n",
    "    \n",
    "    return \"<no-match>\""
   ]
  },
  {
   "cell_type": "code",
   "execution_count": 101,
   "metadata": {
    "collapsed": true
   },
   "outputs": [],
   "source": [
    "def extractOwnerEntitySyntactically(statement):\n",
    "    doc = nlp(statement)\n",
    "    verbTokens = filterVerbTokens(statement)\n",
    "    ORGEntity = []\n",
    "    \n",
    "    for token in verbTokens:\n",
    "        if isExpectedVerbToken(token):\n",
    "            #print(\"Expected token is:\"+token.text)\n",
    "            #expected children [was, theatrically, in, on, by]\n",
    "            byToken = None\n",
    "            for child in token.children: \n",
    "                #usually release location starts with \"in\"\n",
    "                if child.text == \"by\" or child.text == \"to\":\n",
    "                    byToken = child\n",
    "            #print(\"bytoken: \" , byToken) \n",
    "            \n",
    "            if byToken == None:\n",
    "                #means no direct by available so lets look at some conj child\n",
    "                for child in token.children: \n",
    "                    #usually release location starts with \"in\"\n",
    "                    if child.dep_ == \"conj\":\n",
    "                        for grandChild in child.children:\n",
    "                            if grandChild.text == \"by\":\n",
    "                                byToken = grandChild\n",
    "            \n",
    "            if byToken != None:\n",
    "                for subChild in byToken.children:\n",
    "                    if(getORGorPersonThatContainsToken(statement, subChild) != \"<no-match>\"):\n",
    "                        ORGEntity.append(getORGorPersonThatContainsToken(statement, subChild))\n",
    "                    else:\n",
    "                        ORGEntity.append(getNounChunkThatContainsNoun(statement, subChild))\n",
    "                    #print(\"subchild : \" + subChild.text)\n",
    "                    if (subChild.dep_ == \"pobj\" and subChild.head.text == \"by\"):\n",
    "                        grandChildren = subChild.children\n",
    "                        childEntity = getORGEntityForGrandChild1(statement, grandChildren, ORGEntity)\n",
    "                        #print(\"child entity:    \" , str(childEntity))\n",
    "                        return list(set(childEntity))\n",
    "                        #ORGEntity.clear()\n",
    "                        #for item in childEntity:\n",
    "                            #ORGEntity.append(item)\n",
    "                    return ORGEntity\n",
    "    return \"<no-match>\""
   ]
  },
  {
   "cell_type": "code",
   "execution_count": 102,
   "metadata": {
    "collapsed": true
   },
   "outputs": [],
   "source": [
    "def getORGEntityForGrandChild1(statement, children, ORGEntity):\n",
    "    '''\n",
    "    New definition\n",
    "    '''\n",
    "    doc = nlp(statement)\n",
    "    \n",
    "    for child in children:\n",
    "        sizeChild = sum(1 for item in child.children)\n",
    "        #print(child, sizeChild)\n",
    "        if sizeChild > 0:\n",
    "            ORGEntity.append(getORGorPersonThatContainsToken(statement, child))\n",
    "            #print(ORGEntity)\n",
    "            #ORGEntity.append(getORGEntityForGrandChild1(statement, child.children, ORGEntity))\n",
    "            getORGEntityForGrandChild1(statement, child.children, ORGEntity)\n",
    "        if sizeChild == 0:\n",
    "            if (getORGorPersonThatContainsToken(statement, child) != \"<no-match>\"):\n",
    "                ORGEntity.append(getORGorPersonThatContainsToken(statement, child))\n",
    "    \n",
    "    return ORGEntity"
   ]
  },
  {
   "cell_type": "code",
   "execution_count": null,
   "metadata": {
    "collapsed": true
   },
   "outputs": [],
   "source": []
  },
  {
   "cell_type": "code",
   "execution_count": null,
   "metadata": {
    "collapsed": true
   },
   "outputs": [],
   "source": []
  },
  {
   "cell_type": "code",
   "execution_count": 103,
   "metadata": {
    "collapsed": true
   },
   "outputs": [],
   "source": [
    "def getTargetVerbAsAppearedInStatement(statement, targetVerbLemmas):\n",
    "    \"\"\"\n",
    "    this will reutrn exact apperance of verb in statement.\n",
    "    ex: statement = \"Movie was written by James.\", targetVerbLemmas = ['write','script']\n",
    "    this will return \"written\" as it's lemma matches with one of the targetVerbLemmas\n",
    "    \"\"\"\n",
    "    verbTokens = filterVerbTokens(statement)\n",
    "    for token in verbTokens:\n",
    "        if token.lemma_ in targetVerbLemmas:\n",
    "            return token.text\n",
    "    return \"<no-match>\""
   ]
  },
  {
   "cell_type": "code",
   "execution_count": 104,
   "metadata": {
    "collapsed": true
   },
   "outputs": [],
   "source": [
    "def isExpectedVerbToken(token):\n",
    "    return ((token.lemma_ in [\"play\"]) or (token.lemma_ in [\"reprise\"]) or (token.lemma_ in [\"announce\"]) or (token.lemma_ in [\"award\"]))"
   ]
  },
  {
   "cell_type": "code",
   "execution_count": 105,
   "metadata": {
    "collapsed": true
   },
   "outputs": [],
   "source": [
    "def getORGorPersonThatContainsToken(statement, token):\n",
    "    doc = nlp (statement)\n",
    "    tokenStartPos = calculateStartPositionOfToken(statement, token)\n",
    "    for ent in doc.ents:\n",
    "        if(token.text in ent.text and tokenStartPos >= ent.start_char and tokenStartPos <= ent.end_char):\n",
    "            return ent.text\n",
    "    return \"<no-match>\""
   ]
  },
  {
   "cell_type": "code",
   "execution_count": 106,
   "metadata": {
    "collapsed": true
   },
   "outputs": [],
   "source": [
    "import re\n",
    "def calculateStartPositionOfToken(statement, targetToken):\n",
    "    \"\"\"\n",
    "    this should return start position of the token\n",
    "    \"\"\"\n",
    "    matches = [m.start() for m in re.finditer(targetToken.text, statement)]\n",
    "    if(len(matches)==1):\n",
    "        return matches[0]\n",
    "    \n",
    "\n",
    "    huristicPosition = 0\n",
    "    doc = nlp(statement)\n",
    "    \n",
    "    i = 0\n",
    "    for token in doc:\n",
    "        if i < targetToken.i:\n",
    "            huristicPosition = huristicPosition + len(token.text)+1\n",
    "            i = i+1\n",
    "        else:\n",
    "            break\n",
    "        \n",
    "    distances = []\n",
    "    for match in matches:\n",
    "        distances.append(abs(match-huristicPosition))\n",
    "        \n",
    "    minIndex = distances.index(min(distances))\n",
    "    \n",
    "    return matches[minIndex]"
   ]
  },
  {
   "cell_type": "code",
   "execution_count": 107,
   "metadata": {
    "collapsed": true
   },
   "outputs": [],
   "source": [
    "def getNounChunkThatContainsNoun(statement, nounSubject):\n",
    "    doc = nlp(statement)\n",
    "    for chunk in doc.noun_chunks:\n",
    "        if nounSubject.text in chunk.text:\n",
    "            return chunk.text\n",
    "    return \"<no-match>\""
   ]
  },
  {
   "cell_type": "code",
   "execution_count": 108,
   "metadata": {
    "collapsed": true
   },
   "outputs": [],
   "source": [
    "def checkPlayedRoleTemplateEligibility(statement):\n",
    "    print(\"Matching with Played role template for : '\" + statement + \"'\")\n",
    "    hasValidVerb = check_verb_match(statement)\n",
    "    containsRole = check_role_match(statement)\n",
    "    #print(\"Has valid verb:\" + str(hasValidVerb))\n",
    "    #print(\"Has valid role:\" + str(containsRole))\n",
    "    \n",
    "    if (hasValidVerb and containsRole):\n",
    "        return True\n",
    "    else:\n",
    "        return False"
   ]
  },
  {
   "cell_type": "code",
   "execution_count": 109,
   "metadata": {
    "collapsed": true
   },
   "outputs": [],
   "source": [
    "def check_verb_match(statement):\n",
    "    verbTokens = filterVerbTokens(statement)\n",
    "    \n",
    "    #print(verbTokens)\n",
    "    \n",
    "    targetVerbs = ['play', 'reprise', 'announce', 'award']\n",
    "    for token in verbTokens:\n",
    "        if token.lemma_ in targetVerbs:\n",
    "            return True\n",
    "    return False"
   ]
  },
  {
   "cell_type": "code",
   "execution_count": 110,
   "metadata": {
    "collapsed": true
   },
   "outputs": [],
   "source": [
    "def filterVerbTokens(statement):\n",
    "    '''\n",
    "    return exact same words appeared in the statement\n",
    "    '''\n",
    "    doc = nlp(statement)\n",
    "    result = list(filter(lambda token: (token.pos_ == \"VERB\" and token.lemma_ != \"be\"), doc))\n",
    "    return result"
   ]
  },
  {
   "cell_type": "code",
   "execution_count": 111,
   "metadata": {},
   "outputs": [
    {
     "data": {
      "text/plain": [
       "[reprised]"
      ]
     },
     "execution_count": 111,
     "metadata": {},
     "output_type": "execute_result"
    }
   ],
   "source": [
    "filterVerbTokens('Colin McFarlane reprised his role as Gillian B. Loeb, the Police Commissioner of Gotham.')"
   ]
  },
  {
   "cell_type": "code",
   "execution_count": 112,
   "metadata": {
    "collapsed": true
   },
   "outputs": [],
   "source": [
    "def check_word_pattern(statement, pattern1):\n",
    "    return ((pattern1 in statement))"
   ]
  },
  {
   "cell_type": "code",
   "execution_count": 113,
   "metadata": {
    "collapsed": true
   },
   "outputs": [],
   "source": [
    "def check_role_match(statement):\n",
    "    return ((\" role \" in statement) or (\"Role \" in statement))"
   ]
  },
  {
   "cell_type": "code",
   "execution_count": null,
   "metadata": {
    "collapsed": true
   },
   "outputs": [],
   "source": []
  },
  {
   "cell_type": "code",
   "execution_count": null,
   "metadata": {
    "collapsed": true
   },
   "outputs": [],
   "source": []
  },
  {
   "cell_type": "code",
   "execution_count": 114,
   "metadata": {
    "collapsed": true
   },
   "outputs": [],
   "source": [
    "def get_dependency_tree_nodes(sentence):\n",
    "    nodes = []\n",
    "    doc = nlp(sentence)\n",
    "    for token in doc:\n",
    "        nodes.append([token.text, token.dep_, token.head.text, token.head.pos_,\n",
    "          [child for child in token.children]])\n",
    "    return nodes"
   ]
  },
  {
   "cell_type": "code",
   "execution_count": 115,
   "metadata": {},
   "outputs": [
    {
     "data": {
      "text/plain": [
       "[['Colin', 'compound', 'McFarlane', 'PROPN', []],\n",
       " ['McFarlane', 'nsubj', 'reprises', 'VERB', [Colin]],\n",
       " ['reprises', 'ROOT', 'reprises', 'VERB', [McFarlane, role, as, .]],\n",
       " ['his', 'poss', 'role', 'NOUN', []],\n",
       " ['role', 'dobj', 'reprises', 'VERB', [his]],\n",
       " ['as', 'prep', 'reprises', 'VERB', [Loeb]],\n",
       " ['Gillian', 'compound', 'Loeb', 'PROPN', []],\n",
       " ['B.', 'compound', 'Loeb', 'PROPN', []],\n",
       " ['Loeb', 'pobj', 'as', 'ADP', [Gillian, B., ,, Commissioner]],\n",
       " [',', 'punct', 'Loeb', 'PROPN', []],\n",
       " ['the', 'det', 'Commissioner', 'PROPN', []],\n",
       " ['Police', 'compound', 'Commissioner', 'PROPN', []],\n",
       " ['Commissioner', 'appos', 'Loeb', 'PROPN', [the, Police, of]],\n",
       " ['of', 'prep', 'Commissioner', 'PROPN', [Gotham]],\n",
       " ['Gotham', 'pobj', 'of', 'ADP', []],\n",
       " ['.', 'punct', 'reprises', 'VERB', []]]"
      ]
     },
     "execution_count": 115,
     "metadata": {},
     "output_type": "execute_result"
    }
   ],
   "source": [
    "get_dependency_tree_nodes('Colin McFarlane reprises his role as Gillian B. Loeb, the Police Commissioner of Gotham.')"
   ]
  },
  {
   "cell_type": "code",
   "execution_count": 89,
   "metadata": {},
   "outputs": [
    {
     "data": {
      "text/plain": [
       "[['The', 'det', 'role', 'NOUN', []],\n",
       " ['role', 'nsubjpass', 'played', 'VERB', [The, of]],\n",
       " ['of', 'prep', 'role', 'NOUN', [Loeb]],\n",
       " ['Gillian', 'compound', 'Loeb', 'PROPN', []],\n",
       " ['B.', 'compound', 'Loeb', 'PROPN', []],\n",
       " ['Loeb', 'pobj', 'of', 'ADP', [Gillian, B.]],\n",
       " ['was', 'auxpass', 'played', 'VERB', []],\n",
       " ['played', 'ROOT', 'played', 'VERB', [role, was, by, .]],\n",
       " ['by', 'agent', 'played', 'VERB', [McFarlane]],\n",
       " ['Colin', 'compound', 'McFarlane', 'PROPN', []],\n",
       " ['McFarlane', 'pobj', 'by', 'ADP', [Colin]],\n",
       " ['.', 'punct', 'played', 'VERB', []]]"
      ]
     },
     "execution_count": 89,
     "metadata": {},
     "output_type": "execute_result"
    }
   ],
   "source": [
    "get_dependency_tree_nodes('The role of Gillian B. Loeb was played by Colin McFarlane.')"
   ]
  },
  {
   "cell_type": "code",
   "execution_count": 90,
   "metadata": {},
   "outputs": [
    {
     "data": {
      "text/plain": [
       "[['Terrence', 'compound', 'Howard', 'PROPN', []],\n",
       " ['Howard', 'nsubjpass', 'announced', 'VERB', [Terrence]],\n",
       " ['was', 'auxpass', 'announced', 'VERB', []],\n",
       " ['announced', 'ROOT', 'announced', 'VERB', [Howard, was, in, in, .]],\n",
       " ['in', 'prep', 'announced', 'VERB', [role]],\n",
       " ['the', 'det', 'role', 'NOUN', []],\n",
       " ['role', 'pobj', 'in', 'ADP', [the, of]],\n",
       " ['of', 'prep', 'role', 'NOUN', [Rhodes]],\n",
       " ['Jim', 'compound', 'Rhodes', 'PROPN', []],\n",
       " ['Rhodes', 'pobj', 'of', 'ADP', [Jim]],\n",
       " ['in', 'prep', 'announced', 'VERB', [October]],\n",
       " ['October', 'pobj', 'in', 'ADP', [2006]],\n",
       " ['2006', 'nummod', 'October', 'PROPN', []],\n",
       " ['.', 'punct', 'announced', 'VERB', []]]"
      ]
     },
     "execution_count": 90,
     "metadata": {},
     "output_type": "execute_result"
    }
   ],
   "source": [
    "get_dependency_tree_nodes('Terrence Howard was announced in the role of Jim Rhodes in October 2006.')"
   ]
  },
  {
   "cell_type": "code",
   "execution_count": 91,
   "metadata": {},
   "outputs": [
    {
     "data": {
      "text/plain": [
       "[['Sebastian', 'compound', 'Stan', 'PROPN', []],\n",
       " ['Stan', 'nsubj', 'makes', 'VERB', [Sebastian]],\n",
       " ['makes', 'ROOT', 'makes', 'VERB', [Stan, appearance, .]],\n",
       " ['an', 'det', 'appearance', 'NOUN', []],\n",
       " ['uncredited', 'amod', 'appearance', 'NOUN', []],\n",
       " ['appearance', 'dobj', 'makes', 'VERB', [an, uncredited, in]],\n",
       " ['in', 'prep', 'appearance', 'NOUN', [scene]],\n",
       " ['the', 'det', 'scene', 'NOUN', []],\n",
       " ['post', 'compound', 'credits', 'NOUN', []],\n",
       " ['-', 'punct', 'credits', 'NOUN', []],\n",
       " ['credits', 'compound', 'scene', 'NOUN', [post, -]],\n",
       " ['scene', 'pobj', 'in', 'ADP', [the, credits, reprising]],\n",
       " ['reprising', 'acl', 'scene', 'NOUN', [role]],\n",
       " ['his', 'poss', 'role', 'NOUN', []],\n",
       " ['role', 'dobj', 'reprising', 'VERB', [his, as]],\n",
       " ['as', 'prep', 'role', 'NOUN', [Barnes]],\n",
       " ['Bucky', 'compound', 'Barnes', 'PROPN', []],\n",
       " ['Barnes', 'pobj', 'as', 'ADP', [Bucky]],\n",
       " ['.', 'punct', 'makes', 'VERB', []]]"
      ]
     },
     "execution_count": 91,
     "metadata": {},
     "output_type": "execute_result"
    }
   ],
   "source": [
    "get_dependency_tree_nodes('Sebastian Stan makes an uncredited appearance in the post-credits scene reprising his role as Bucky Barnes.')"
   ]
  },
  {
   "cell_type": "code",
   "execution_count": 92,
   "metadata": {},
   "outputs": [
    {
     "name": "stdout",
     "output_type": "stream",
     "text": [
      "Sonny Corleone 12 26 PERSON\n",
      "Carmine 42 49 ORG\n"
     ]
    }
   ],
   "source": [
    "doc = nlp ('the role of Sonny Corleone was awarded to Carmine Caridi.')\n",
    "for ent in doc.ents:\n",
    "    print(ent.text, ent.start_char, ent.end_char, ent.label_)"
   ]
  },
  {
   "cell_type": "code",
   "execution_count": 93,
   "metadata": {},
   "outputs": [
    {
     "data": {
      "text/plain": [
       "[['the', 'det', 'role', 'NOUN', []],\n",
       " ['role', 'nsubjpass', 'awarded', 'VERB', [the, of]],\n",
       " ['of', 'prep', 'role', 'NOUN', [Corleone]],\n",
       " ['Sonny', 'compound', 'Corleone', 'PROPN', []],\n",
       " ['Corleone', 'pobj', 'of', 'ADP', [Sonny]],\n",
       " ['was', 'auxpass', 'awarded', 'VERB', []],\n",
       " ['awarded', 'ROOT', 'awarded', 'VERB', [role, was, to, .]],\n",
       " ['to', 'dative', 'awarded', 'VERB', [Caridi]],\n",
       " ['Carmine', 'compound', 'Caridi', 'PROPN', []],\n",
       " ['Caridi', 'pobj', 'to', 'ADP', [Carmine]],\n",
       " ['.', 'punct', 'awarded', 'VERB', []]]"
      ]
     },
     "execution_count": 93,
     "metadata": {},
     "output_type": "execute_result"
    }
   ],
   "source": [
    "get_dependency_tree_nodes('the role of Sonny Corleone was awarded to Carmine Caridi.')"
   ]
  }
 ],
 "metadata": {
  "kernelspec": {
   "display_name": "Python 3",
   "language": "python",
   "name": "python3"
  },
  "language_info": {
   "codemirror_mode": {
    "name": "ipython",
    "version": 3
   },
   "file_extension": ".py",
   "mimetype": "text/x-python",
   "name": "python",
   "nbconvert_exporter": "python",
   "pygments_lexer": "ipython3",
   "version": "3.6.7"
  }
 },
 "nbformat": 4,
 "nbformat_minor": 2
}
